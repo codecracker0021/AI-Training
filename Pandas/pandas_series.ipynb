{
 "cells": [
  {
   "cell_type": "markdown",
   "metadata": {
    "id": "Nkgl3LZGP0XZ"
   },
   "source": [
    "### What is Pandas\n",
    "\n",
    "Pandas is a fast, powerful, flexible and easy to use open source data analysis and manipulation tool,\n",
    "built on top of the Python programming language.\n",
    "\n",
    "https://pandas.pydata.org/about/index.html"
   ]
  },
  {
   "cell_type": "markdown",
   "metadata": {
    "id": "3QmWVpYGRw59"
   },
   "source": [
    "### Pandas Series\n",
    "\n",
    "A Pandas Series is like a column in a table. It is a 1-D array holding data of any type.\n",
    "\n",
    "Python Pandas is a widely used open-source library that provides data manipulation and analysis tools for Python. It is built on top of the NumPy package and allows users to manipulate and analyze data in a variety of ways.\n",
    "\n",
    "Pandas provides two primary data structures, Series and DataFrame. A Series is a one-dimensional array-like object that can hold any data type, such as integers, floating-point numbers, strings, and Python objects. A DataFrame is a two-dimensional table that can hold data of different types in each column. It is similar to a spreadsheet or a SQL table.\n",
    "\n",
    "Pandas provides many functions for data manipulation, including data cleaning, merging, and reshaping. It also offers data analysis functions like data visualization, statistical analysis, and time-series analysis. Pandas is widely used in data science, machine learning, finance, and other fields where data analysis and manipulation are essential."
   ]
  },
  {
   "cell_type": "markdown",
   "metadata": {
    "id": "3hwTOkrbPMjE"
   },
   "source": [
    "### Importing Pandas"
   ]
  },
  {
   "cell_type": "code",
   "execution_count": 1,
   "metadata": {
    "id": "QWWCrofyPM7J"
   },
   "outputs": [],
   "source": [
    "import numpy as np\n",
    "import pandas as pd"
   ]
  },
  {
   "cell_type": "markdown",
   "metadata": {
    "id": "uU-Ms_To_FG1"
   },
   "source": [
    "### Series from lists"
   ]
  },
  {
   "cell_type": "markdown",
   "metadata": {},
   "source": [
    "In Pandas, a Series is a one-dimensional array-like object that can hold data of any type, such as integers, floating-point numbers, strings, and Python objects. A Series consists of two arrays: one array holds the data values, and the other array holds the labels, or index, for each data value.\n",
    "\n",
    "The index array is used to label the data, which makes it easy to refer to specific values in the Series. The index can be a sequence of integers or a sequence of strings, or any other data type that can be used as an index.\n",
    "\n",
    "To create a Series in Pandas, you can pass a list of values to the pd.Series() function, like this:"
   ]
  },
  {
   "cell_type": "code",
   "execution_count": 3,
   "metadata": {},
   "outputs": [
    {
     "name": "stdout",
     "output_type": "stream",
     "text": [
      "0    10\n",
      "1    20\n",
      "2    30\n",
      "3    40\n",
      "4    50\n",
      "dtype: int64\n"
     ]
    }
   ],
   "source": [
    "import pandas as pd\n",
    "\n",
    "my_list = [10, 20, 30, 40, 50]\n",
    "my_series = pd.Series(my_list)\n",
    "print(my_series)\n"
   ]
  },
  {
   "cell_type": "markdown",
   "metadata": {},
   "source": [
    "In the example above, we created a Series called my_series that contains the values 10, 20, 30, 40, and 50, with the default index values of 0, 1, 2, 3, and 4. You can access a specific value in the Series using its index, like this:"
   ]
  },
  {
   "cell_type": "code",
   "execution_count": 4,
   "metadata": {},
   "outputs": [
    {
     "name": "stdout",
     "output_type": "stream",
     "text": [
      "30\n"
     ]
    }
   ],
   "source": [
    "print(my_series[2])  # Output: 30\n"
   ]
  },
  {
   "cell_type": "markdown",
   "metadata": {},
   "source": [
    "In addition to the default integer index, you can also assign custom labels to the index using the index parameter, like this:"
   ]
  },
  {
   "cell_type": "code",
   "execution_count": 5,
   "metadata": {},
   "outputs": [
    {
     "name": "stdout",
     "output_type": "stream",
     "text": [
      "a    10\n",
      "b    20\n",
      "c    30\n",
      "d    40\n",
      "e    50\n",
      "dtype: int64\n"
     ]
    }
   ],
   "source": [
    "my_series = pd.Series(my_list, index=['a', 'b', 'c', 'd', 'e'])\n",
    "print(my_series)\n"
   ]
  },
  {
   "cell_type": "markdown",
   "metadata": {},
   "source": [
    "In the example above, we assigned custom labels to the index using a list of strings, so the Series is now labeled with 'a', 'b', 'c', 'd', and 'e'."
   ]
  },
  {
   "cell_type": "code",
   "execution_count": 2,
   "metadata": {
    "colab": {
     "base_uri": "https://localhost:8080/"
    },
    "id": "KYk9Gta7_G38",
    "outputId": "45f1b6c8-44ec-4081-d59e-d7139682da3e"
   },
   "outputs": [
    {
     "data": {
      "text/plain": [
       "0        India\n",
       "1    Singapore\n",
       "2          USA\n",
       "3        Nepal\n",
       "4     Srilanka\n",
       "dtype: object"
      ]
     },
     "execution_count": 2,
     "metadata": {},
     "output_type": "execute_result"
    }
   ],
   "source": [
    "# string\n",
    "country = ['India','Singapore','USA','Nepal','Srilanka']\n",
    "\n",
    "pd.Series(country)"
   ]
  },
  {
   "cell_type": "code",
   "execution_count": null,
   "metadata": {
    "id": "h_Wgimpg_Idl"
   },
   "outputs": [],
   "source": [
    "# integers\n",
    "runs = [13,24,56,78,100]\n",
    "\n",
    "runs_ser = pd.Series(runs)"
   ]
  },
  {
   "cell_type": "markdown",
   "metadata": {},
   "source": [
    "#### Dtype"
   ]
  },
  {
   "cell_type": "markdown",
   "metadata": {},
   "source": [
    "`dtype` stands for \"data type\" and refers to the type of data stored in a Pandas object, such as a Series or a DataFrame. The `dtype` attribute is used to check the data type of the values stored in a Pandas object.\n",
    "\n",
    "In Pandas, there are several data types available, including:\n",
    "\n",
    "- `int64`: a 64-bit integer\n",
    "- `float64`: a 64-bit floating-point number\n",
    "- `bool`: a Boolean value of True or False\n",
    "- `datetime64`: a date and time value\n",
    "- `object`: a Python object type (usually strings)\n",
    "\n",
    "When you create a Pandas object, the data type of the values is automatically inferred from the input data. For example, if you create a Series with a list of integers, the data type will be `int64`. Similarly, if you create a Series with a list of strings, the data type will be `object`.\n",
    "\n",
    "You can check the data type of a Pandas object using the `dtype` attribute, like this:\n"
   ]
  },
  {
   "cell_type": "code",
   "execution_count": 7,
   "metadata": {},
   "outputs": [
    {
     "name": "stdout",
     "output_type": "stream",
     "text": [
      "int64\n"
     ]
    }
   ],
   "source": [
    "\n",
    "\n",
    "import pandas as pd\n",
    "\n",
    "my_list = [10, 20, 30, 40, 50]\n",
    "my_series = pd.Series(my_list)\n",
    "print(my_series.dtype)"
   ]
  },
  {
   "cell_type": "markdown",
   "metadata": {},
   "source": [
    "In the example above, the `dtype` attribute is used to check the data type of the `my_series` object, which is `int64`."
   ]
  },
  {
   "cell_type": "markdown",
   "metadata": {},
   "source": [
    "### Dtype= Object ???"
   ]
  },
  {
   "cell_type": "markdown",
   "metadata": {},
   "source": [
    "In Pandas, `dtype=object` is a generic data type that can represent any Python object. When a Series or DataFrame is created with `dtype=object`, the values in the Series or DataFrame can be of any type, including integers, floats, strings, and other Python objects like lists or dictionaries.\n",
    "\n",
    "Using `dtype=object` can be useful when dealing with heterogeneous data or when the data type of the values in a Series or DataFrame is not known in advance. However, using `dtype=object` can also lead to performance issues and may not be the most memory-efficient option, as the objects are stored as pointers to memory locations rather than directly in memory.\n",
    "\n",
    "Here is an example of how to create a Series with `dtype=object`:\n",
    "\n",
    "```\n",
    "import pandas as pd\n",
    "\n",
    "# create a Series with dtype=object\n",
    "my_series = pd.Series([1, 'hello', {'key': 'value'}], dtype=object)\n",
    "\n",
    "# print the values and dtypes of the Series\n",
    "print(my_series)\n",
    "print(my_series.dtype)\n",
    "```\n",
    "\n",
    "In this example, we create a Series called `my_series` with three values of different types: an integer, a string, and a dictionary. We specify `dtype=object` to allow for the different types of values. We then print the values and dtypes of the Series, which shows that the Series contains objects of different types, and the dtype is `object`."
   ]
  },
  {
   "cell_type": "code",
   "execution_count": 32,
   "metadata": {},
   "outputs": [
    {
     "name": "stdout",
     "output_type": "stream",
     "text": [
      "0                   1\n",
      "1               hello\n",
      "2    {'key': 'value'}\n",
      "dtype: object\n",
      "object\n"
     ]
    }
   ],
   "source": [
    "import pandas as pd\n",
    "\n",
    "# create a Series with dtype=object\n",
    "my_series = pd.Series([1, 'hello', {'key': 'value'}], dtype=object)\n",
    "\n",
    "# print the values and dtypes of the Series\n",
    "print(my_series)\n",
    "print(my_series.dtype)"
   ]
  },
  {
   "cell_type": "markdown",
   "metadata": {},
   "source": [
    "### What is an Index"
   ]
  },
  {
   "cell_type": "markdown",
   "metadata": {},
   "source": [
    "In Pandas, an index is a unique identifier for each row or column in a DataFrame or Series. It provides a way to label and reference individual elements of the data, making it easy to select, filter, and manipulate the data.\n",
    "\n",
    "For a Series, the index is a sequence of labels that are aligned with the data. By default, the index is a sequence of integers starting from 0, but you can specify a custom index using the `index` parameter when creating a Series.\n",
    "\n",
    "For a DataFrame, the index can be thought of as the row labels, and the column labels provide the variable names. The index can be a sequence of integers, strings, or any other hashable data type. If no index is specified when creating a DataFrame, a default integer index is created.\n",
    "\n",
    "Here's an example of creating a Series and a DataFrame with custom indexes:\n"
   ]
  },
  {
   "cell_type": "code",
   "execution_count": 11,
   "metadata": {},
   "outputs": [
    {
     "name": "stdout",
     "output_type": "stream",
     "text": [
      "a    10\n",
      "b    20\n",
      "c    30\n",
      "d    40\n",
      "dtype: int64\n",
      "   x  y\n",
      "a  1  5\n",
      "b  2  6\n",
      "c  3  7\n",
      "d  4  8\n"
     ]
    }
   ],
   "source": [
    "import pandas as pd\n",
    "\n",
    "# create a Series with a custom index\n",
    "my_series = pd.Series([10, 20, 30, 40], index=['a', 'b', 'c', 'd'])\n",
    "print(my_series)\n",
    "\n",
    "# create a DataFrame with a custom index and column names\n",
    "my_dataframe = pd.DataFrame({'x': [1, 2, 3, 4], 'y': [5, 6, 7, 8]}, index=['a', 'b', 'c', 'd'])\n",
    "print(my_dataframe)"
   ]
  },
  {
   "cell_type": "markdown",
   "metadata": {},
   "source": [
    "In the example above, we created a Series with a custom index of 'a', 'b', 'c', and 'd', and a DataFrame with a custom index and column names. The index provides a way to reference the individual rows of the Series and DataFrame using the labels 'a', 'b', 'c', and 'd'."
   ]
  },
  {
   "cell_type": "markdown",
   "metadata": {},
   "source": [
    "### Custom Index"
   ]
  },
  {
   "cell_type": "markdown",
   "metadata": {},
   "source": [
    "In Pandas, a custom index is an index that is specified by the user, rather than being automatically generated by Pandas. A custom index allows you to label the rows or columns of a DataFrame or Series with meaningful names or values, making it easier to refer to specific elements of the data.\n",
    "\n",
    "For example, if you have a DataFrame containing data on different countries, you might want to use the country names as the index rather than a default integer index. This would make it easier to reference the data for specific countries.\n",
    "\n",
    "To create a custom index, you can pass a list of index labels to the `index` parameter when creating a DataFrame or Series. For example:"
   ]
  },
  {
   "cell_type": "code",
   "execution_count": 13,
   "metadata": {},
   "outputs": [
    {
     "name": "stdout",
     "output_type": "stream",
     "text": [
      "          name  age\n",
      "person1   John   25\n",
      "person2   Jane   30\n",
      "person3  Alice   35\n",
      "person4    Bob   40\n"
     ]
    }
   ],
   "source": [
    "import pandas as pd\n",
    "\n",
    "# create a DataFrame with a custom index\n",
    "data = {'name': ['John', 'Jane', 'Alice', 'Bob'], 'age': [25, 30, 35, 40]}\n",
    "index = ['person1', 'person2', 'person3', 'person4']\n",
    "df = pd.DataFrame(data=data, index=index)\n",
    "\n",
    "print(df)"
   ]
  },
  {
   "cell_type": "markdown",
   "metadata": {},
   "source": [
    "In the example above, we created a DataFrame with a custom index using the `index` parameter. The index labels are 'person1', 'person2', 'person3', and 'person4', which provide meaningful labels for the rows of the DataFrame."
   ]
  },
  {
   "cell_type": "code",
   "execution_count": 14,
   "metadata": {
    "scrolled": true
   },
   "outputs": [
    {
     "data": {
      "text/plain": [
       "maths       67\n",
       "english     57\n",
       "science     89\n",
       "hindi      100\n",
       "dtype: int64"
      ]
     },
     "execution_count": 14,
     "metadata": {},
     "output_type": "execute_result"
    }
   ],
   "source": [
    "marks = [67,57,89,100]\n",
    "subjects = ['maths','english','science','hindi']\n",
    "\n",
    "pd.Series(marks,index=subjects)"
   ]
  },
  {
   "cell_type": "markdown",
   "metadata": {},
   "source": [
    "### Name of a series"
   ]
  },
  {
   "cell_type": "markdown",
   "metadata": {},
   "source": [
    "In Pandas, you can set a name for a Series using the name attribute. The name attribute is a string that provides a label for the Series, which can be useful when working with multiple Series or when creating a DataFrame from multiple Series.\n",
    "\n",
    "Here's an example of how to set the name of a Series:"
   ]
  },
  {
   "cell_type": "code",
   "execution_count": 18,
   "metadata": {},
   "outputs": [
    {
     "name": "stdout",
     "output_type": "stream",
     "text": [
      "0    10\n",
      "1    20\n",
      "2    30\n",
      "3    40\n",
      "Name: my_data, dtype: int64\n"
     ]
    }
   ],
   "source": [
    "import pandas as pd\n",
    "\n",
    "# create a Series\n",
    "my_series = pd.Series([10, 20, 30, 40], name='my_data')\n",
    "\n",
    "print(my_series)\n"
   ]
  },
  {
   "cell_type": "markdown",
   "metadata": {},
   "source": [
    "In the example above, we created a Series with the name 'my_data' using the name parameter. The name parameter is set to 'my_data', which provides a label for the Series. You can see the name of the Series in the output, followed by the data type and index labels.\n",
    "\n",
    "You can also set the name of a Series after it has been created using the name attribute. For example:\n"
   ]
  },
  {
   "cell_type": "code",
   "execution_count": 19,
   "metadata": {
    "scrolled": true
   },
   "outputs": [
    {
     "name": "stdout",
     "output_type": "stream",
     "text": [
      "0    10\n",
      "1    20\n",
      "2    30\n",
      "3    40\n",
      "Name: my_data, dtype: int64\n"
     ]
    }
   ],
   "source": [
    "import pandas as pd\n",
    "\n",
    "# create a Series\n",
    "my_series = pd.Series([10, 20, 30, 40])\n",
    "\n",
    "# set the name of the Series\n",
    "my_series.name = 'my_data'\n",
    "\n",
    "print(my_series)\n"
   ]
  },
  {
   "cell_type": "markdown",
   "metadata": {},
   "source": [
    "In the example above, we created a Series and then set the name of the Series using the name attribute. The output is the same as the previous example."
   ]
  },
  {
   "cell_type": "markdown",
   "metadata": {
    "id": "gw4NHrWf_Km3"
   },
   "source": [
    "### Series from dict"
   ]
  },
  {
   "cell_type": "markdown",
   "metadata": {},
   "source": [
    "You can create a Pandas Series from a Python dictionary by passing the dictionary as an argument to the `pd.Series()` constructor. The keys of the dictionary will be used as the index of the Series, and the values will be used as the data. Here's an example:"
   ]
  },
  {
   "cell_type": "code",
   "execution_count": 20,
   "metadata": {},
   "outputs": [
    {
     "name": "stdout",
     "output_type": "stream",
     "text": [
      "a    10\n",
      "b    20\n",
      "c    30\n",
      "dtype: int64\n"
     ]
    }
   ],
   "source": [
    "import pandas as pd\n",
    "\n",
    "# create a dictionary\n",
    "data = {'a': 10, 'b': 20, 'c': 30}\n",
    "\n",
    "# create a Series from the dictionary\n",
    "series = pd.Series(data)\n",
    "\n",
    "print(series)"
   ]
  },
  {
   "cell_type": "code",
   "execution_count": 23,
   "metadata": {},
   "outputs": [
    {
     "data": {
      "text/plain": [
       "maths       67\n",
       "english     57\n",
       "science     89\n",
       "hindi      100\n",
       "Name: Kartik , dtype: int64"
      ]
     },
     "execution_count": 23,
     "metadata": {},
     "output_type": "execute_result"
    }
   ],
   "source": [
    "marks = {\n",
    "    'maths':67,\n",
    "    'english':57,\n",
    "    'science':89,\n",
    "    'hindi':100\n",
    "}\n",
    "\n",
    "marks_series = pd.Series(marks,name='Kartik ')\n",
    "marks_series"
   ]
  },
  {
   "cell_type": "markdown",
   "metadata": {},
   "source": [
    "In this example, we created a dictionary called `data` with three key-value pairs. We then passed the dictionary to the `pd.Series()` constructor to create a Series called `series`. The resulting Series has an index of 'a', 'b', and 'c', which were the keys of the dictionary, and the values of 10, 20, and 30, which were the corresponding values of the dictionary."
   ]
  },
  {
   "cell_type": "markdown",
   "metadata": {},
   "source": [
    "### Dataframe out of dictionaries"
   ]
  },
  {
   "cell_type": "markdown",
   "metadata": {},
   "source": [
    "You can create a Pandas DataFrame from a dictionary or a sequence of dictionaries using the `pd.DataFrame()` constructor. Each key in the dictionary will become a column in the resulting DataFrame, and the values will become the data in the columns.\n",
    "\n",
    "Here's an example of creating a DataFrame from a dictionary:"
   ]
  },
  {
   "cell_type": "code",
   "execution_count": 22,
   "metadata": {},
   "outputs": [
    {
     "name": "stdout",
     "output_type": "stream",
     "text": [
      "      name  age           city\n",
      "0    Alice   25       New York\n",
      "1      Bob   30          Paris\n",
      "2  Charlie   35         London\n",
      "3    David   40  San Francisco\n"
     ]
    }
   ],
   "source": [
    "import pandas as pd\n",
    "\n",
    "# create a dictionary with some data\n",
    "data = {'name': ['Alice', 'Bob', 'Charlie', 'David'],\n",
    "        'age': [25, 30, 35, 40],\n",
    "        'city': ['New York', 'Paris', 'London', 'San Francisco']}\n",
    "\n",
    "# create a DataFrame from the dictionary\n",
    "df = pd.DataFrame(data)\n",
    "\n",
    "print(df)\n"
   ]
  },
  {
   "cell_type": "markdown",
   "metadata": {},
   "source": [
    "In this example, we created a dictionary called `data` with three keys ('name', 'age', and 'city') and corresponding lists of values. We then passed the dictionary to the `pd.DataFrame()` constructor to create a DataFrame called `df`. The resulting DataFrame has columns named 'name', 'age', and 'city', which were derived from the keys of the dictionary, and the data in the columns is the corresponding values of the dictionary."
   ]
  },
  {
   "cell_type": "markdown",
   "metadata": {
    "id": "MDSIDfei_Szi"
   },
   "source": [
    "### Series Attributes"
   ]
  },
  {
   "cell_type": "markdown",
   "metadata": {},
   "source": [
    "Here are some common attributes of a Pandas Series:\n",
    "\n",
    "1. `values`: Returns the underlying NumPy array of the Series.\n",
    "2. `index`: Returns the index object of the Series.\n",
    "3. `dtype`: Returns the data type of the elements in the Series.\n",
    "4. `name`: Returns the name of the Series.\n",
    "5. `size`: Returns the number of elements in the Series.\n",
    "6. `shape`: Returns a tuple representing the dimensions of the Series.\n",
    "7. `empty`: Returns a boolean indicating whether the Series is empty.\n",
    "8. `ndim`: Returns the number of dimensions of the Series (always 1 for a Series).\n",
    "9. `head(n)`: Returns the first n elements of the Series.\n",
    "10. `tail(n)`: Returns the last n elements of the Series.\n",
    "\n",
    "These attributes can be accessed using dot notation on a Series object. For example, `my_series.values` will return the values of the Series, and `my_series.index` will return the index of the Series.\n"
   ]
  },
  {
   "cell_type": "markdown",
   "metadata": {},
   "source": [
    "A detailed explanation of each of the common attributes of a Pandas Series:\n",
    "\n",
    "1. `values`: Returns the underlying NumPy array of the Series. This attribute is useful when you need to perform operations that are not provided by the Series methods or when you want to use a NumPy method on the data.\n",
    "\n",
    "2. `index`: Returns the index object of the Series. The index is used to label and identify the values in the Series. It can be any immutable data type, such as integers, strings, or dates. The index object is a separate object from the values and can be accessed and modified independently.\n",
    "\n",
    "3. `dtype`: Returns the data type of the elements in the Series. The data type can be any of the standard Python data types, such as int, float, or object. Pandas also provides several additional data types, such as datetime64 and categorical.\n",
    "\n",
    "4. `name`: Returns the name of the Series. The name is an optional attribute that can be set when creating the Series, and it is used to label the Series itself rather than the values in the Series.\n",
    "\n",
    "5. `size`: Returns the number of elements in the Series. This attribute is equivalent to calling `len(my_series)`.\n",
    "\n",
    "6. `shape`: Returns a tuple representing the dimensions of the Series. Since a Series is always one-dimensional, the shape attribute returns a tuple with only one element representing the length of the Series.\n",
    "\n",
    "7. `empty`: Returns a boolean indicating whether the Series is empty. A Series is considered empty if it has no values or if all of its values are missing.\n",
    "\n",
    "8. `ndim`: Returns the number of dimensions of the Series. Since a Series is always one-dimensional, the ndim attribute always returns 1.\n",
    "\n",
    "9. `head(n)`: Returns the first n elements of the Series. By default, n is set to 5, but it can be changed by passing a different value as an argument. This method is useful when you want to quickly inspect the beginning of a Series.\n",
    "\n",
    "10. `tail(n)`: Returns the last n elements of the Series. By default, n is set to 5, but it can be changed by passing a different value as an argument. This method is useful when you want to quickly inspect the end of a Series."
   ]
  },
  {
   "cell_type": "code",
   "execution_count": 24,
   "metadata": {},
   "outputs": [
    {
     "data": {
      "text/plain": [
       "maths       67\n",
       "english     57\n",
       "science     89\n",
       "hindi      100\n",
       "Name: Kartik , dtype: int64"
      ]
     },
     "execution_count": 24,
     "metadata": {},
     "output_type": "execute_result"
    }
   ],
   "source": [
    "marks = {\n",
    "    'maths':67,\n",
    "    'english':57,\n",
    "    'science':89,\n",
    "    'hindi':100\n",
    "}\n",
    "\n",
    "marks_series = pd.Series(marks,name='Kartik ')\n",
    "marks_series"
   ]
  },
  {
   "cell_type": "code",
   "execution_count": 27,
   "metadata": {
    "colab": {
     "base_uri": "https://localhost:8080/"
    },
    "id": "0_eqjw1u_lG_",
    "outputId": "5d0a82ad-78c1-4d70-cca3-55f0324362ea"
   },
   "outputs": [
    {
     "data": {
      "text/plain": [
       "4"
      ]
     },
     "execution_count": 27,
     "metadata": {},
     "output_type": "execute_result"
    }
   ],
   "source": [
    "# size\n",
    "marks_series.size"
   ]
  },
  {
   "cell_type": "code",
   "execution_count": 28,
   "metadata": {
    "colab": {
     "base_uri": "https://localhost:8080/"
    },
    "id": "nYpNWJhWGyqa",
    "outputId": "36ce60d5-efc7-4ca5-80e6-f4cbc723e46f"
   },
   "outputs": [
    {
     "data": {
      "text/plain": [
       "dtype('int64')"
      ]
     },
     "execution_count": 28,
     "metadata": {},
     "output_type": "execute_result"
    }
   ],
   "source": [
    "# dtype\n",
    "marks_series.dtype"
   ]
  },
  {
   "cell_type": "code",
   "execution_count": 29,
   "metadata": {
    "colab": {
     "base_uri": "https://localhost:8080/",
     "height": 36
    },
    "id": "ImBy24CkKkZP",
    "outputId": "c78dbc63-c3c0-48a5-b516-b84bf619fe82"
   },
   "outputs": [
    {
     "data": {
      "text/plain": [
       "'Kartik '"
      ]
     },
     "execution_count": 29,
     "metadata": {},
     "output_type": "execute_result"
    }
   ],
   "source": [
    "# name\n",
    "marks_series.name"
   ]
  },
  {
   "cell_type": "code",
   "execution_count": 30,
   "metadata": {
    "colab": {
     "base_uri": "https://localhost:8080/"
    },
    "id": "UsNGB2rCF9V-",
    "outputId": "a9dcd91d-fc74-4947-a536-ad99af92ac02"
   },
   "outputs": [
    {
     "data": {
      "text/plain": [
       "False"
      ]
     },
     "execution_count": 30,
     "metadata": {},
     "output_type": "execute_result"
    }
   ],
   "source": [
    "# is_unique\n",
    "marks_series.is_unique\n",
    "\n",
    "pd.Series([1,1,2,3,4,5]).is_unique"
   ]
  },
  {
   "cell_type": "markdown",
   "metadata": {},
   "source": [
    "The `is_unique` attribute is used to check if all the values in a Pandas Series are unique or not. It returns a boolean value indicating whether all the values in the Series are unique or not. If all the values are unique, it returns `True`, otherwise, it returns `False`.\n",
    "\n",
    "Here is an example of how to use the `is_unique` attribute:\n",
    "\n",
    "```\n",
    "import pandas as pd\n",
    "\n",
    "# create a series with unique values\n",
    "my_series1 = pd.Series([1, 2, 3, 4])\n",
    "\n",
    "# create a series with non-unique values\n",
    "my_series2 = pd.Series([1, 2, 2, 3])\n",
    "\n",
    "# check if the values in my_series1 are unique\n",
    "print(my_series1.is_unique)   # True\n",
    "\n",
    "# check if the values in my_series2 are unique\n",
    "print(my_series2.is_unique)   # False\n",
    "```\n",
    "\n",
    "In this example, we first create a Series called `my_series1` with unique values, and another Series called `my_series2` with non-unique values. We then use the `is_unique` attribute to check whether the values in each Series are unique or not. As expected, the `is_unique` attribute returns `True` for `my_series1` and `False` for `my_series2`."
   ]
  },
  {
   "cell_type": "markdown",
   "metadata": {},
   "source": [
    "### Index method"
   ]
  },
  {
   "cell_type": "markdown",
   "metadata": {},
   "source": [
    "In Pandas, the `index` attribute of a Series is a label array that provides the row labels for the Series. The index allows you to uniquely identify and access each element in the Series.\n",
    "\n",
    "The `index` attribute can be accessed using dot notation, like this:\n"
   ]
  },
  {
   "cell_type": "code",
   "execution_count": 38,
   "metadata": {},
   "outputs": [
    {
     "name": "stdout",
     "output_type": "stream",
     "text": [
      "RangeIndex(start=0, stop=4, step=1)\n"
     ]
    }
   ],
   "source": [
    "\n",
    "import pandas as pd\n",
    "\n",
    "# create a Series\n",
    "my_series = pd.Series([1, 2, 3, 4])\n",
    "\n",
    "# access the index\n",
    "print(my_series.index)\n"
   ]
  },
  {
   "cell_type": "markdown",
   "metadata": {},
   "source": [
    "In this example, we create a Series called `my_series` with four values. We then access the `index` attribute of the Series using dot notation, which returns a `RangeIndex` object that contains the row labels for the Series. The `RangeIndex` object is a type of index that represents a range of consecutive integers, which is the default index type for a Series.\n",
    "\n",
    "The `index` attribute can also be set to a custom index when creating the Series. For example:"
   ]
  },
  {
   "cell_type": "code",
   "execution_count": 37,
   "metadata": {},
   "outputs": [
    {
     "name": "stdout",
     "output_type": "stream",
     "text": [
      "Index(['a', 'b', 'c', 'd'], dtype='object')\n"
     ]
    }
   ],
   "source": [
    "import pandas as pd\n",
    "\n",
    "# create a Series with a custom index\n",
    "my_series = pd.Series([1, 2, 3, 4], index=['a', 'b', 'c', 'd'])\n",
    "\n",
    "# access the index\n",
    "print(my_series.index)"
   ]
  },
  {
   "cell_type": "markdown",
   "metadata": {},
   "source": [
    "In this example, we create a Series called `my_series` with four values and a custom index that consists of the labels 'a', 'b', 'c', and 'd'. We then access the `index` attribute of the Series, which returns an `Index` object containing the custom row labels. The `Index` object is a type of index that represents an array of labels, and can be of any data type, including integers, strings, or datetime objects."
   ]
  },
  {
   "cell_type": "code",
   "execution_count": 36,
   "metadata": {
    "colab": {
     "base_uri": "https://localhost:8080/"
    },
    "id": "VLB00Z-vGBHL",
    "outputId": "f49ea31d-92d4-453a-c649-990f6b630420"
   },
   "outputs": [
    {
     "data": {
      "text/plain": [
       "Index(['maths', 'english', 'science', 'hindi'], dtype='object')"
      ]
     },
     "execution_count": 36,
     "metadata": {},
     "output_type": "execute_result"
    }
   ],
   "source": [
    "# index\n",
    "marks_series.index"
   ]
  },
  {
   "cell_type": "code",
   "execution_count": 35,
   "metadata": {
    "colab": {
     "base_uri": "https://localhost:8080/"
    },
    "id": "MJ1HXX2H_Mhu",
    "outputId": "88818e3c-8a1a-4d7e-b5e3-50d7bd411fa0"
   },
   "outputs": [
    {
     "data": {
      "text/plain": [
       "RangeIndex(start=0, stop=5, step=1)"
      ]
     },
     "execution_count": 35,
     "metadata": {},
     "output_type": "execute_result"
    }
   ],
   "source": [
    "runs = [13,14,23,66,77]\n",
    "runs_ser = pd.Series(runs)\n",
    "runs_ser.index"
   ]
  },
  {
   "cell_type": "code",
   "execution_count": null,
   "metadata": {
    "colab": {
     "base_uri": "https://localhost:8080/"
    },
    "id": "PmE8l3SKGDbl",
    "outputId": "90d0daf7-580a-4def-9c42-f34a8ee9ca6a"
   },
   "outputs": [
    {
     "data": {
      "text/plain": [
       "array([ 67,  57,  89, 100])"
      ]
     },
     "execution_count": 40,
     "metadata": {},
     "output_type": "execute_result"
    }
   ],
   "source": [
    "# values\n",
    "marks_series.values"
   ]
  },
  {
   "cell_type": "markdown",
   "metadata": {},
   "source": [
    "### What is Range Index ?"
   ]
  },
  {
   "cell_type": "markdown",
   "metadata": {},
   "source": [
    "In Pandas, `RangeIndex` is a type of index that represents a range of consecutive integers. It is the default index type for a Series or DataFrame when no index is specified.\n",
    "\n",
    "A `RangeIndex` object is created with a start value, a stop value, and a step value, which specify the range of integers in the index. The start value is inclusive, the stop value is exclusive, and the step value is the distance between consecutive integers.\n",
    "\n",
    "Here is an example of how to create a Series with a `RangeIndex`:\n"
   ]
  },
  {
   "cell_type": "code",
   "execution_count": 39,
   "metadata": {},
   "outputs": [
    {
     "name": "stdout",
     "output_type": "stream",
     "text": [
      "RangeIndex(start=0, stop=4, step=1)\n"
     ]
    }
   ],
   "source": [
    "\n",
    "import pandas as pd\n",
    "\n",
    "# create a Series with a RangeIndex\n",
    "my_series = pd.Series([1, 2, 3, 4])\n",
    "\n",
    "# print the index\n",
    "print(my_series.index)\n",
    "\n"
   ]
  },
  {
   "cell_type": "markdown",
   "metadata": {},
   "source": [
    "In this example, we create a Series called `my_series` with four values. Since no index is specified, the Series is created with a default `RangeIndex` that starts at 0, ends at 4 (exclusive), and has a step of 1. We then print the index of the Series, which returns a `RangeIndex` object with the same start, stop, and step values.\n",
    "\n",
    "<b>A `RangeIndex` can be useful when dealing with large datasets, as it does not store the actual index values in memory, but rather generates them on the fly as needed. This can lead to memory savings and faster computations. </b>"
   ]
  },
  {
   "cell_type": "markdown",
   "metadata": {},
   "source": [
    "### Series.Value"
   ]
  },
  {
   "cell_type": "markdown",
   "metadata": {},
   "source": [
    "In Pandas, the `values` attribute of a Series is a NumPy array that contains the actual data values in the Series. It is a one-dimensional array that holds the values of the Series, without any index or labels.\n",
    "\n",
    "The `values` attribute can be accessed using dot notation, like this:"
   ]
  },
  {
   "cell_type": "code",
   "execution_count": 41,
   "metadata": {},
   "outputs": [
    {
     "name": "stdout",
     "output_type": "stream",
     "text": [
      "[1 2 3 4]\n"
     ]
    }
   ],
   "source": [
    "import pandas as pd\n",
    "\n",
    "# create a Series\n",
    "my_series = pd.Series([1, 2, 3, 4])\n",
    "\n",
    "# access the values\n",
    "print(my_series.values)\n"
   ]
  },
  {
   "cell_type": "markdown",
   "metadata": {},
   "source": [
    "\n",
    "In this example, we create a Series called `my_series` with four values. We then access the `values` attribute of the Series using dot notation, which returns a NumPy array containing the values of the Series. The array contains the values [1, 2, 3, 4], which are the four integers in the Series.\n",
    "\n",
    "The `values` attribute is useful when you need to perform operations on the data values in the Series, such as calculating statistics or applying functions to the data. Since the `values` attribute returns a NumPy array, you can use any of the NumPy array methods and functions to manipulate the data."
   ]
  },
  {
   "cell_type": "markdown",
   "metadata": {
    "id": "UCP7I0t_KMID"
   },
   "source": [
    "### Series using read_csv"
   ]
  },
  {
   "cell_type": "code",
   "execution_count": 4,
   "metadata": {
    "colab": {
     "base_uri": "https://localhost:8080/"
    },
    "id": "r2FWTRoBGEk5",
    "outputId": "8a160aa3-095c-4602-b4ca-2edcfaf3d13b"
   },
   "outputs": [
    {
     "data": {
      "text/plain": [
       "0       48\n",
       "1       57\n",
       "2       40\n",
       "3       43\n",
       "4       44\n",
       "      ... \n",
       "360    231\n",
       "361    226\n",
       "362    155\n",
       "363    144\n",
       "364    172\n",
       "Name: Crypto_Money, Length: 365, dtype: int64"
      ]
     },
     "execution_count": 4,
     "metadata": {},
     "output_type": "execute_result"
    }
   ],
   "source": [
    "# with one col\n",
    "import pandas as pd\n",
    "subs = pd.read_csv('data/daily_crypto.csv',squeeze=True)\n",
    "subs"
   ]
  },
  {
   "cell_type": "markdown",
   "metadata": {},
   "source": [
    "This code reads a CSV file named `daily_crypto.csv` into a Pandas DataFrame called `subs`. The `squeeze=True` parameter is used to return a Series instead of a DataFrame, since the CSV file has only one column of data.\n",
    "\n",
    "Here is a breakdown of the code:\n",
    "\n",
    "1. `import pandas as pd`: This imports the Pandas library and assigns it the alias `pd`, which is a common convention.\n",
    "\n",
    "2. `subs = pd.read_csv('data/daily_crypto.csv',squeeze=True)`: This reads a CSV file named `daily_crypto.csv` from a directory called `data` (relative to the current working directory) into a Pandas DataFrame called `subs`. The `squeeze=True` parameter is used to return a Series instead of a DataFrame. The resulting Series contains the data from the CSV file, with each row of data represented as a value in the Series.\n",
    "\n",
    "Note that the code assumes that the CSV file has a header row that specifies the column name. If the CSV file does not have a header row, you can add the parameter `header=None` to the `read_csv()` function call to indicate that the file has no header. You can also specify a custom header row by passing a list of column names to the `names` parameter."
   ]
  },
  {
   "cell_type": "markdown",
   "metadata": {},
   "source": [
    "Do note the below aspect, by default the pd.read_csv() returns a dataframe, in order to return a series we would be using squeeze=True"
   ]
  },
  {
   "cell_type": "code",
   "execution_count": 6,
   "metadata": {
    "scrolled": true
   },
   "outputs": [
    {
     "name": "stdout",
     "output_type": "stream",
     "text": [
      "<class 'pandas.core.frame.DataFrame'>\n",
      "<class 'pandas.core.series.Series'>\n"
     ]
    }
   ],
   "source": [
    "print(type(pd.read_csv('data/daily_crypto.csv')))\n",
    "print(type(pd.read_csv('data/daily_crypto.csv',squeeze=True)))"
   ]
  },
  {
   "cell_type": "code",
   "execution_count": null,
   "metadata": {},
   "outputs": [],
   "source": []
  },
  {
   "cell_type": "code",
   "execution_count": 22,
   "metadata": {
    "colab": {
     "base_uri": "https://localhost:8080/"
    },
    "id": "a6Y3bq4TOniT",
    "outputId": "f919b599-9e23-423b-c42c-a468999ad3f6"
   },
   "outputs": [
    {
     "data": {
      "text/plain": [
       "Day\n",
       "1       1\n",
       "2      23\n",
       "3      13\n",
       "4      12\n",
       "5       1\n",
       "       ..\n",
       "211     0\n",
       "212    20\n",
       "213    73\n",
       "214    25\n",
       "215     7\n",
       "Name: Money_Made, Length: 215, dtype: int64"
      ]
     },
     "execution_count": 22,
     "metadata": {},
     "output_type": "execute_result"
    }
   ],
   "source": [
    "# with 2 cols\n",
    "money_made = pd.read_csv('data/money_made.csv',index_col='Day',squeeze=True)\n",
    "money_made"
   ]
  },
  {
   "cell_type": "code",
   "execution_count": 23,
   "metadata": {
    "colab": {
     "base_uri": "https://localhost:8080/"
    },
    "id": "v34r_I_82dwZ",
    "outputId": "ab5f9a30-d9f1-4532-fbc8-a8b792107b80",
    "scrolled": false
   },
   "outputs": [
    {
     "data": {
      "text/plain": [
       "movie\n",
       "The Shawshank Redemption          Tim Robbins\n",
       "The Godfather                   Marlon Brando\n",
       "The Dark Knight                Christian Bale\n",
       "The Godfather: Part II              Al Pacino\n",
       "12 Angry Men                      Henry Fonda\n",
       "                                  ...        \n",
       "Breakfast at Tiffany's         Audrey Hepburn\n",
       "Giant                        Elizabeth Taylor\n",
       "From Here to Eternity          Burt Lancaster\n",
       "Lifeboat                    Tallulah Bankhead\n",
       "The 39 Steps                     Robert Donat\n",
       "Name: lead, Length: 1000, dtype: object"
      ]
     },
     "execution_count": 23,
     "metadata": {},
     "output_type": "execute_result"
    }
   ],
   "source": [
    "movies = pd.read_csv('data/hollywood.csv',index_col='movie',squeeze=True)\n",
    "movies"
   ]
  },
  {
   "cell_type": "code",
   "execution_count": 19,
   "metadata": {},
   "outputs": [],
   "source": [
    "# movies = pd.read_csv('data/movies/imdb_top_1000.csv')\n",
    "# movies = movies[['Series_Title','Star1']]\n",
    "# movies = movies.rename(columns={'Series_Title': 'movie','Star1':'lead'})\n",
    "# movies.head()\n",
    "# movies.to_csv('data/hollywood.csv')"
   ]
  },
  {
   "cell_type": "markdown",
   "metadata": {
    "id": "taKAApMTLJkG"
   },
   "source": [
    "### Series methods"
   ]
  },
  {
   "cell_type": "markdown",
   "metadata": {},
   "source": [
    "In Pandas, the `head()` and `tail()` methods are used to return a subset of a Series object. Here's what each method does:\n",
    "\n",
    "- `head()`: This method returns the first n elements of a Series. By default, it returns the first 5 elements. You can pass an integer argument to `head()` to specify a different number of elements to return.\n",
    "\n",
    "- `tail()`: This method returns the last n elements of a Series. By default, it returns the last 5 elements. You can pass an integer argument to `tail()` to specify a different number of elements to return.\n",
    "\n",
    "Here's an example that demonstrates how to use `head()` and `tail()` on a Series:\n",
    "\n",
    "``` python\n",
    "import pandas as pd\n",
    "\n",
    "# create a Series\n",
    "s = pd.Series([1, 2, 3, 4, 5, 6, 7, 8, 9, 10])\n",
    "\n",
    "# use head() to return the first 3 elements of the Series\n",
    "print(s.head(3))\n",
    "\n",
    "# use tail() to return the last 3 elements of the Series\n",
    "print(s.tail(3))\n",
    "```\n",
    "\n",
    "In this example, we create a Series with 10 integers. We then use `head(3)` to return the first three elements of the Series, which are [1, 2, 3]. We use `tail(3)` to return the last three elements of the Series, which are [8, 9, 10]."
   ]
  },
  {
   "cell_type": "code",
   "execution_count": 34,
   "metadata": {
    "colab": {
     "base_uri": "https://localhost:8080/"
    },
    "id": "Lt-l4sM_LLsH",
    "outputId": "ce63f92e-7d0c-46b1-f64c-92afa28cd1c3"
   },
   "outputs": [
    {
     "data": {
      "text/plain": [
       "0    48\n",
       "1    57\n",
       "2    40\n",
       "3    43\n",
       "4    44\n",
       "Name: Crypto_Money, dtype: int64"
      ]
     },
     "execution_count": 34,
     "metadata": {},
     "output_type": "execute_result"
    }
   ],
   "source": [
    "# head and tail\n",
    "subs.head()"
   ]
  },
  {
   "cell_type": "code",
   "execution_count": 25,
   "metadata": {
    "colab": {
     "base_uri": "https://localhost:8080/"
    },
    "id": "dvZrPaR-DiKT",
    "outputId": "88925c9f-a86a-4fd7-aec8-fcb8dfc9ad45"
   },
   "outputs": [
    {
     "data": {
      "text/plain": [
       "Day\n",
       "1     1\n",
       "2    23\n",
       "3    13\n",
       "Name: Money_Made, dtype: int64"
      ]
     },
     "execution_count": 25,
     "metadata": {},
     "output_type": "execute_result"
    }
   ],
   "source": [
    "money_made.head(3)"
   ]
  },
  {
   "cell_type": "code",
   "execution_count": 26,
   "metadata": {
    "colab": {
     "base_uri": "https://localhost:8080/"
    },
    "id": "S5St_OwODto7",
    "outputId": "1748a142-3854-4f8f-c7ec-54c0268859e8"
   },
   "outputs": [
    {
     "data": {
      "text/plain": [
       "Day\n",
       "206     0\n",
       "207     0\n",
       "208     9\n",
       "209    58\n",
       "210    30\n",
       "211     0\n",
       "212    20\n",
       "213    73\n",
       "214    25\n",
       "215     7\n",
       "Name: Money_Made, dtype: int64"
      ]
     },
     "execution_count": 26,
     "metadata": {},
     "output_type": "execute_result"
    }
   ],
   "source": [
    "money_made.tail(10)"
   ]
  },
  {
   "cell_type": "code",
   "execution_count": 27,
   "metadata": {
    "colab": {
     "base_uri": "https://localhost:8080/"
    },
    "id": "COKh4XYBLqT3",
    "outputId": "7294bf7c-0f1d-46c6-885a-7b993f2a9551",
    "scrolled": true
   },
   "outputs": [
    {
     "data": {
      "text/plain": [
       "movie\n",
       "Little Women                      Saoirse Ronan\n",
       "Shrek                              Vicky Jenson\n",
       "Y tu mamá también                 Maribel Verdú\n",
       "Star Trek Into Darkness              Chris Pine\n",
       "King Kong                  Ernest B. Schoedsack\n",
       "Name: lead, dtype: object"
      ]
     },
     "execution_count": 27,
     "metadata": {},
     "output_type": "execute_result"
    }
   ],
   "source": [
    "# sample\n",
    "movies.sample(5)"
   ]
  },
  {
   "cell_type": "markdown",
   "metadata": {},
   "source": [
    "### Value_Counts"
   ]
  },
  {
   "cell_type": "markdown",
   "metadata": {},
   "source": [
    "The `value_counts()` method in Pandas is used to count the unique values in a Series object and return the counts as a new Series object. It returns a Series containing counts of unique values in the original Series, sorted in descending order. The resulting Series will have the unique values as its index, and the counts of those values as its values.\n",
    "\n",
    "Here's an example that demonstrates how to use `value_counts()` on a Series:\n",
    "\n",
    "``` python\n",
    "import pandas as pd\n",
    "\n",
    "# create a Series\n",
    "s = pd.Series(['A', 'B', 'A', 'C', 'B', 'A', 'D'])\n",
    "\n",
    "# use value_counts() to count the number of occurrences of each unique value\n",
    "counts = s.value_counts()\n",
    "\n",
    "# print the resulting Series\n",
    "print(counts)\n",
    "```\n",
    "\n",
    "In this example, we create a Series with 7 values, including 3 'A's, 2 'B's, 1 'C', and 1 'D'. We use `value_counts()` to count the number of occurrences of each unique value, and assign the resulting Series to a variable called `counts`. Finally, we print the `counts` Series to the console, which displays the counts of each unique value in descending order:\n",
    "\n",
    "```\n",
    "A    3\n",
    "B    2\n",
    "C    1\n",
    "D    1\n",
    "dtype: int64\n",
    "```\n",
    "\n",
    "This tells us that there are 3 occurrences of 'A', 2 occurrences of 'B', 1 occurrence of 'C', and 1 occurrence of 'D' in the original Series."
   ]
  },
  {
   "cell_type": "code",
   "execution_count": 28,
   "metadata": {
    "colab": {
     "base_uri": "https://localhost:8080/"
    },
    "id": "t3m4wTw6N-v0",
    "outputId": "cdae4a99-143d-487d-836c-948ffd6dd67a"
   },
   "outputs": [
    {
     "data": {
      "text/plain": [
       "Tom Hanks          12\n",
       "Robert De Niro     11\n",
       "Al Pacino          10\n",
       "Clint Eastwood     10\n",
       "Humphrey Bogart     9\n",
       "                   ..\n",
       "Preity Zinta        1\n",
       "Javier Bardem       1\n",
       "Ki-duk Kim          1\n",
       "Vladimir Garin      1\n",
       "Robert Donat        1\n",
       "Name: lead, Length: 660, dtype: int64"
      ]
     },
     "execution_count": 28,
     "metadata": {},
     "output_type": "execute_result"
    }
   ],
   "source": [
    "# value_counts -> movies\n",
    "movies.value_counts()"
   ]
  },
  {
   "cell_type": "markdown",
   "metadata": {},
   "source": [
    "### Sorting"
   ]
  },
  {
   "cell_type": "markdown",
   "metadata": {},
   "source": [
    "`sort_values()` is a method in Pandas that is used to sort the values of a DataFrame or Series in ascending or descending order. It returns a new DataFrame or Series with the sorted values.\n",
    "\n",
    "Here is the basic syntax of the `sort_values()` method:\n",
    "\n",
    "``` python\n",
    "DataFrame.sort_values(by, axis=0, ascending=True, inplace=False, ignore_index=False, key=None)\n",
    "```\n",
    "\n",
    "- `by`: specifies the column or list of columns by which to sort. This can be a string or list of strings.\n",
    "\n",
    "- `axis`: specifies whether to sort by rows (`axis=0`) or columns (`axis=1`). The default is `axis=0`.\n",
    "\n",
    "- `ascending`: specifies whether to sort in ascending (`True`) or descending (`False`) order. The default is `True`.\n",
    "\n",
    "- `inplace`: specifies whether to sort the DataFrame or Series in place (`True`) or return a new sorted DataFrame or Series (`False`). The default is `False`.\n",
    "\n",
    "- `ignore_index`: specifies whether to reset the index of the sorted DataFrame or Series. The default is `False`.\n",
    "\n",
    "- `key`: specifies a function to customize the sorting logic.\n",
    "\n",
    "Here's an example that demonstrates how to use `sort_values()` to sort a Series:\n",
    "\n"
   ]
  },
  {
   "cell_type": "code",
   "execution_count": 35,
   "metadata": {
    "scrolled": true
   },
   "outputs": [
    {
     "name": "stdout",
     "output_type": "stream",
     "text": [
      "1    1\n",
      "3    1\n",
      "6    2\n",
      "0    3\n",
      "9    3\n",
      "2    4\n",
      "4    5\n",
      "8    5\n",
      "7    6\n",
      "5    9\n",
      "dtype: int64\n"
     ]
    }
   ],
   "source": [
    "import pandas as pd\n",
    "\n",
    "# create a Series\n",
    "s = pd.Series([3, 1, 4, 1, 5, 9, 2, 6, 5, 3])\n",
    "\n",
    "# sort the values in ascending order\n",
    "s_sorted = s.sort_values()\n",
    "\n",
    "# print the sorted Series\n",
    "print(s_sorted)\n"
   ]
  },
  {
   "cell_type": "markdown",
   "metadata": {},
   "source": [
    "\n",
    "In this example, we create a Series with 10 integers. We use `sort_values()` to sort the values in ascending order, and assign the resulting Series to a variable called `s_sorted`. Finally, we print the `s_sorted` Series to the console, which displays the sorted values:\n",
    "This tells us that the original Series values have been sorted in ascending order."
   ]
  },
  {
   "cell_type": "code",
   "execution_count": 36,
   "metadata": {
    "colab": {
     "base_uri": "https://localhost:8080/"
    },
    "id": "vzMt0ZOPMgpO",
    "outputId": "17bd1ba3-ad6b-46cb-b6f8-1fac73474e74"
   },
   "outputs": [
    {
     "data": {
      "text/plain": [
       "113"
      ]
     },
     "execution_count": 36,
     "metadata": {},
     "output_type": "execute_result"
    }
   ],
   "source": [
    "# sort_values -> inplace\n",
    "# method chaining\n",
    "money_made.sort_values(ascending=False).head(1).values[0]"
   ]
  },
  {
   "cell_type": "code",
   "execution_count": 37,
   "metadata": {
    "colab": {
     "base_uri": "https://localhost:8080/"
    },
    "id": "5Psr0lEwGE2i",
    "outputId": "537ab14a-c922-4eeb-a8c7-ee7c057e1e11",
    "scrolled": true
   },
   "outputs": [
    {
     "data": {
      "text/plain": [
       "Day\n",
       "128    113\n",
       "126    109\n",
       "123    108\n",
       "120    100\n",
       "164    100\n",
       "      ... \n",
       "211      0\n",
       "8        0\n",
       "130      0\n",
       "135      0\n",
       "87       0\n",
       "Name: Money_Made, Length: 215, dtype: int64"
      ]
     },
     "execution_count": 37,
     "metadata": {},
     "output_type": "execute_result"
    }
   ],
   "source": [
    "money_made.sort_values(ascending=False)"
   ]
  },
  {
   "cell_type": "markdown",
   "metadata": {},
   "source": [
    "### In Place"
   ]
  },
  {
   "cell_type": "markdown",
   "metadata": {},
   "source": [
    "The `inplace` parameter in Pandas is a boolean parameter that specifies whether to perform the operation in place or not. If `inplace=True`, the original object is modified in place and the method does not return anything. If `inplace=False` (default), a new object is returned and the original object is not modified.\n",
    "\n",
    "The importance of `inplace` is that it can save memory by modifying the existing object instead of creating a new one. When dealing with large datasets, it can be more memory-efficient to modify the existing DataFrame or Series in place rather than creating a new one. \n",
    "\n",
    "However, modifying the original object in place can also be risky as it can lead to unexpected results and can make it harder to debug errors in the code. Therefore, it is important to use `inplace` with caution and only when necessary.\n",
    "\n",
    "Here's an example to illustrate the use of `inplace` in Pandas:\n",
    "\n"
   ]
  },
  {
   "cell_type": "code",
   "execution_count": 38,
   "metadata": {},
   "outputs": [
    {
     "name": "stdout",
     "output_type": "stream",
     "text": [
      "   A  B\n",
      "0  1  4\n",
      "1  2  5\n",
      "2  3  6\n"
     ]
    }
   ],
   "source": [
    "import pandas as pd\n",
    "\n",
    "# create a DataFrame\n",
    "df = pd.DataFrame({'A': [1, 2, 3], 'B': [4, 5, 6]})\n",
    "\n",
    "# sort the DataFrame by column A and modify it in place\n",
    "df.sort_values('A', inplace=True)\n",
    "\n",
    "# print the sorted DataFrame\n",
    "print(df)"
   ]
  },
  {
   "cell_type": "markdown",
   "metadata": {},
   "source": [
    "In this example, we create a DataFrame with two columns ('A' and 'B') and three rows. We use the `sort_values()` method to sort the DataFrame by column 'A' in ascending order and modify it in place using `inplace=True`. Finally, we print the sorted DataFrame, which displays the sorted values:\n",
    "\n",
    "As we can see, the original DataFrame is now sorted in place and the method does not return anything. If we had used `inplace=False` (or not specified it at all, since it is `False` by default), a new sorted DataFrame would have been returned instead of modifying the original one in place."
   ]
  },
  {
   "cell_type": "markdown",
   "metadata": {},
   "source": [
    "### Sort Index"
   ]
  },
  {
   "cell_type": "markdown",
   "metadata": {},
   "source": [
    "`sort_index` is a method in Pandas that is used to sort a DataFrame or a Series by the row and column index labels. It returns a new sorted DataFrame or Series and does not modify the original object. \n",
    "\n",
    "The `sort_index` method takes several parameters, including:\n",
    "\n",
    "- `axis`: the axis to sort along (0 for rows, 1 for columns)\n",
    "- `ascending`: a boolean or list of booleans specifying whether to sort in ascending or descending order\n",
    "- `inplace`: a boolean specifying whether to sort the DataFrame or Series in place or return a new sorted object\n",
    "- `na_position`: a string specifying where to place missing values ('last' or 'first')\n",
    "\n",
    "Here's an example of how to use `sort_index` to sort a Series by its index:\n",
    "\n",
    "``` python\n",
    "import pandas as pd\n",
    "\n",
    "# create a Series\n",
    "s = pd.Series([3, 1, 4, 1, 5, 9], index=['a', 'b', 'c', 'd', 'e', 'f'])\n",
    "\n",
    "# sort the Series by index\n",
    "s_sorted = s.sort_index()\n",
    "\n",
    "# print the sorted Series\n",
    "print(s_sorted)\n",
    "```\n",
    "\n",
    "In this example, we create a Series with six values and assign it to the variable `s`. We specify the index labels for the Series using a list of strings. We use the `sort_index()` method to sort the Series by its index labels in ascending order and assign the result to a new variable `s_sorted`. Finally, we print the sorted Series, which displays the sorted index labels and their corresponding values:\n",
    "\n",
    "```\n",
    "a    3\n",
    "b    1\n",
    "c    4\n",
    "d    1\n",
    "e    5\n",
    "f    9\n",
    "dtype: int64\n",
    "```\n",
    "\n",
    "As we can see, the index labels of the Series are sorted in ascending order, and the corresponding values are also reordered accordingly."
   ]
  },
  {
   "cell_type": "code",
   "execution_count": 30,
   "metadata": {
    "id": "Z0t20LmCNZVi"
   },
   "outputs": [],
   "source": [
    "# sort_index -> inplace -> movies\n",
    "movies.sort_index(ascending=False,inplace=True)"
   ]
  },
  {
   "cell_type": "code",
   "execution_count": 31,
   "metadata": {
    "colab": {
     "base_uri": "https://localhost:8080/"
    },
    "id": "pyFYColfG3LP",
    "outputId": "47ee4f49-d3c1-4936-e23c-483a5b2544de"
   },
   "outputs": [
    {
     "data": {
      "text/plain": [
       "movie\n",
       "Ôkami kodomo no Ame to Yuki            Aoi Miyazaki\n",
       "À bout de souffle                Jean-Paul Belmondo\n",
       "Zwartboek                         Carice van Houten\n",
       "Zulu                                  Stanley Baker\n",
       "Zootopia                                 Rich Moore\n",
       "                                       ...         \n",
       "2001: A Space Odyssey                   Keir Dullea\n",
       "1917                           Dean-Charles Chapman\n",
       "12 Years a Slave                   Chiwetel Ejiofor\n",
       "12 Angry Men                            Henry Fonda\n",
       "(500) Days of Summer                Zooey Deschanel\n",
       "Name: lead, Length: 1000, dtype: object"
      ]
     },
     "execution_count": 31,
     "metadata": {},
     "output_type": "execute_result"
    }
   ],
   "source": [
    "movies"
   ]
  },
  {
   "cell_type": "code",
   "execution_count": 32,
   "metadata": {
    "id": "XwHA77x2GJtb"
   },
   "outputs": [],
   "source": [
    "money_made.sort_values(inplace=True)"
   ]
  },
  {
   "cell_type": "code",
   "execution_count": 33,
   "metadata": {
    "colab": {
     "base_uri": "https://localhost:8080/"
    },
    "id": "44qVilrDGWCK",
    "outputId": "98dc5995-4849-4450-c089-06558ac4f48d"
   },
   "outputs": [
    {
     "data": {
      "text/plain": [
       "Day\n",
       "87       0\n",
       "211      0\n",
       "207      0\n",
       "206      0\n",
       "91       0\n",
       "      ... \n",
       "164    100\n",
       "120    100\n",
       "123    108\n",
       "126    109\n",
       "128    113\n",
       "Name: Money_Made, Length: 215, dtype: int64"
      ]
     },
     "execution_count": 33,
     "metadata": {},
     "output_type": "execute_result"
    }
   ],
   "source": [
    "money_made"
   ]
  },
  {
   "cell_type": "markdown",
   "metadata": {
    "id": "58RZWU44Tj_U"
   },
   "source": [
    "### Series Maths Methods"
   ]
  },
  {
   "cell_type": "markdown",
   "metadata": {},
   "source": [
    "Pandas Series provides a wide range of mathematical and statistical methods that can be used to manipulate and analyze data. Some of the commonly used methods are:\n",
    "\n",
    "1. `add()`: Used to add two Series element-wise.\n",
    "2. `sub()`: Used to subtract two Series element-wise.\n",
    "3. `mul()`: Used to multiply two Series element-wise.\n",
    "4. `div()`: Used to divide two Series element-wise.\n",
    "5. `sum()`: Used to calculate the sum of all elements in a Series.\n",
    "6. `mean()`: Used to calculate the mean of all elements in a Series.\n",
    "7. `median()`: Used to calculate the median of all elements in a Series.\n",
    "8. `min()`: Used to find the minimum value in a Series.\n",
    "9. `max()`: Used to find the maximum value in a Series.\n",
    "10. `std()`: Used to calculate the standard deviation of all elements in a Series.\n",
    "11. `var()`: Used to calculate the variance of all elements in a Series.\n",
    "12. `count()`: Used to count the number of non-null elements in a Series.\n",
    "13. `unique()`: Used to return an array of unique values in a Series.\n",
    "14. `value_counts()`: Used to count the number of occurrences of each unique value in a Series.\n",
    "\n",
    "Here is an example of how to use some of these methods:\n",
    "\n",
    "``` python\n",
    "import pandas as pd\n",
    "\n",
    "# create a Series\n",
    "s = pd.Series([2, 4, 6, 8, 10])\n",
    "\n",
    "# add two Series element-wise\n",
    "s_add = s.add(pd.Series([1, 2, 3, 4, 5]))\n",
    "\n",
    "# find the maximum value in the Series\n",
    "s_max = s.max()\n",
    "\n",
    "# calculate the mean of all elements in the Series\n",
    "s_mean = s.mean()\n",
    "\n",
    "# count the number of non-null elements in the Series\n",
    "s_count = s.count()\n",
    "\n",
    "# display the results\n",
    "print(\"s_add:\\n\", s_add)\n",
    "print(\"s_max:\", s_max)\n",
    "print(\"s_mean:\", s_mean)\n",
    "print(\"s_count:\", s_count)\n",
    "```\n",
    "\n",
    "In this example, we create a Series `s` with five values. We use the `add()` method to add a new Series element-wise to `s`, which returns a new Series `s_add`. We use the `max()` method to find the maximum value in `s` and assign it to `s_max`. We use the `mean()` method to calculate the mean of all elements in `s` and assign it to `s_mean`. Finally, we use the `count()` method to count the number of non-null elements in `s` and assign it to `s_count`. We print the results using `print()` statements, which display the output as:\n",
    "\n",
    "```\n",
    "s_add:\n",
    " 0     3\n",
    " 1     6\n",
    " 2     9\n",
    " 3    12\n",
    " 4    15\n",
    " dtype: int64\n",
    "s_max: 10\n",
    "s_mean: 6.0\n",
    "s_count: 5\n",
    "```"
   ]
  },
  {
   "cell_type": "code",
   "execution_count": 39,
   "metadata": {
    "colab": {
     "base_uri": "https://localhost:8080/"
    },
    "id": "6GzHd8BPToFa",
    "outputId": "c2aa9e18-2ec0-49c5-ab62-61928d1068e3"
   },
   "outputs": [
    {
     "data": {
      "text/plain": [
       "215"
      ]
     },
     "execution_count": 39,
     "metadata": {},
     "output_type": "execute_result"
    }
   ],
   "source": [
    "# count\n",
    "money_made.count()"
   ]
  },
  {
   "cell_type": "code",
   "execution_count": 40,
   "metadata": {
    "colab": {
     "base_uri": "https://localhost:8080/"
    },
    "id": "QAUr7vxtTrAU",
    "outputId": "b63afaa2-bf2f-409b-bd54-db2865c9d4fa"
   },
   "outputs": [
    {
     "data": {
      "text/plain": [
       "49510"
      ]
     },
     "execution_count": 40,
     "metadata": {},
     "output_type": "execute_result"
    }
   ],
   "source": [
    "# sum -> product\n",
    "subs.sum()"
   ]
  },
  {
   "cell_type": "code",
   "execution_count": 42,
   "metadata": {
    "colab": {
     "base_uri": "https://localhost:8080/"
    },
    "id": "q1pRRhmdTrM0",
    "outputId": "7b4c758a-12b6-452a-bc22-d2c1a9a8ce46"
   },
   "outputs": [
    {
     "name": "stdout",
     "output_type": "stream",
     "text": [
      "24.0\n",
      "0    Tom Hanks\n",
      "dtype: object\n",
      "62.67502303725269\n",
      "688.0024777222342\n"
     ]
    }
   ],
   "source": [
    "# mean -> median -> mode -> std -> var\n",
    "subs.mean()\n",
    "print(money_made.median())\n",
    "print(movies.mode()) # most occuring\n",
    "print(subs.std())\n",
    "print(money_made.var())"
   ]
  },
  {
   "cell_type": "code",
   "execution_count": 43,
   "metadata": {
    "colab": {
     "base_uri": "https://localhost:8080/"
    },
    "id": "L64dQIXJTrXF",
    "outputId": "54e6f3fa-e75f-4382-8c02-d9ba8466285a"
   },
   "outputs": [
    {
     "data": {
      "text/plain": [
       "396"
      ]
     },
     "execution_count": 43,
     "metadata": {},
     "output_type": "execute_result"
    }
   ],
   "source": [
    "# min/max\n",
    "subs.max()"
   ]
  },
  {
   "cell_type": "code",
   "execution_count": 44,
   "metadata": {
    "colab": {
     "base_uri": "https://localhost:8080/"
    },
    "id": "SAvniKCuUB_J",
    "outputId": "c7f46902-52e5-4c1e-d0ac-bbe31850d37e"
   },
   "outputs": [
    {
     "data": {
      "text/plain": [
       "count    365.000000\n",
       "mean     135.643836\n",
       "std       62.675023\n",
       "min       33.000000\n",
       "25%       88.000000\n",
       "50%      123.000000\n",
       "75%      177.000000\n",
       "max      396.000000\n",
       "Name: Crypto_Money, dtype: float64"
      ]
     },
     "execution_count": 44,
     "metadata": {},
     "output_type": "execute_result"
    }
   ],
   "source": [
    "# describe\n",
    "subs.describe()"
   ]
  },
  {
   "cell_type": "markdown",
   "metadata": {
    "id": "Cz12N8YKP-h8"
   },
   "source": [
    "### Series Indexing"
   ]
  },
  {
   "cell_type": "markdown",
   "metadata": {},
   "source": [
    "Series indexing refers to the process of selecting a subset of data from a Pandas Series based on certain conditions. In other words, indexing is used to retrieve specific elements or subsets of a Series that match certain criteria.\n",
    "\n",
    "In Pandas, there are two main ways to perform indexing on a Series:\n",
    "\n",
    "1. **Label-based indexing**: This method uses the index labels to retrieve specific elements or subsets of a Series. You can use the `.loc[]` accessor to perform label-based indexing. For example:\n",
    "\n",
    "``` python\n",
    "import pandas as pd\n",
    "\n",
    "# create a Series\n",
    "s = pd.Series([10, 20, 30, 40, 50], index=['A', 'B', 'C', 'D', 'E'])\n",
    "\n",
    "# label-based indexing\n",
    "print(s.loc['B'])  # output: 20\n",
    "print(s.loc[['A', 'C', 'E']])  # output: \n",
    "# A    10\n",
    "# C    30\n",
    "# E    50\n",
    "# dtype: int64\n",
    "```\n",
    "\n",
    "2. **Position-based indexing**: This method uses the integer positions of the elements to retrieve specific elements or subsets of a Series. You can use the `.iloc[]` accessor to perform position-based indexing. For example:\n",
    "\n",
    "``` python\n",
    "import pandas as pd\n",
    "\n",
    "# create a Series\n",
    "s = pd.Series([10, 20, 30, 40, 50])\n",
    "\n",
    "# position-based indexing\n",
    "print(s.iloc[2])  # output: 30\n",
    "print(s.iloc[[1, 3, 4]])  # output: \n",
    "# 1    20\n",
    "# 3    40\n",
    "# 4    50\n",
    "# dtype: int64\n",
    "```\n",
    "\n",
    "Note that you can also use boolean indexing to retrieve specific elements or subsets of a Series based on certain conditions. You can use a boolean expression to filter the elements of a Series that satisfy the condition. For example:\n",
    "\n",
    "``` python\n",
    "import pandas as pd\n",
    "\n",
    "# create a Series\n",
    "s = pd.Series([10, 20, 30, 40, 50])\n",
    "\n",
    "# boolean indexing\n",
    "print(s[s > 30])  # output: \n",
    "# 3    40\n",
    "# 4    50\n",
    "# dtype: int64\n",
    "``` \n",
    "\n",
    "In this example, we use boolean indexing to retrieve the elements of `s` that are greater than 30. The resulting Series contains only the values that satisfy the condition."
   ]
  },
  {
   "cell_type": "code",
   "execution_count": 45,
   "metadata": {
    "colab": {
     "base_uri": "https://localhost:8080/"
    },
    "id": "VXMiwNgAQA4V",
    "outputId": "2dc567ed-8548-4a68-df9e-91a0842bced4"
   },
   "outputs": [
    {
     "data": {
      "text/plain": [
       "0    12\n",
       "1    13\n",
       "2    14\n",
       "3    35\n",
       "4    46\n",
       "5    57\n",
       "6    58\n",
       "7    79\n",
       "8     9\n",
       "dtype: int64"
      ]
     },
     "execution_count": 45,
     "metadata": {},
     "output_type": "execute_result"
    }
   ],
   "source": [
    "# integer indexing\n",
    "x = pd.Series([12,13,14,35,46,57,58,79,9])\n",
    "x"
   ]
  },
  {
   "cell_type": "code",
   "execution_count": 46,
   "metadata": {
    "colab": {
     "base_uri": "https://localhost:8080/",
     "height": 444
    },
    "id": "uL2i-qNuQ6t8",
    "outputId": "1a52fb86-819d-4470-fc88-dd67ce00c577"
   },
   "outputs": [
    {
     "ename": "KeyError",
     "evalue": "-1",
     "output_type": "error",
     "traceback": [
      "\u001b[1;31m---------------------------------------------------------------------------\u001b[0m",
      "\u001b[1;31mValueError\u001b[0m                                Traceback (most recent call last)",
      "\u001b[1;32mD:\\Software\\Anaconda\\Software\\lib\\site-packages\\pandas\\core\\indexes\\range.py\u001b[0m in \u001b[0;36mget_loc\u001b[1;34m(self, key, method, tolerance)\u001b[0m\n\u001b[0;32m    384\u001b[0m                 \u001b[1;32mtry\u001b[0m\u001b[1;33m:\u001b[0m\u001b[1;33m\u001b[0m\u001b[1;33m\u001b[0m\u001b[0m\n\u001b[1;32m--> 385\u001b[1;33m                     \u001b[1;32mreturn\u001b[0m \u001b[0mself\u001b[0m\u001b[1;33m.\u001b[0m\u001b[0m_range\u001b[0m\u001b[1;33m.\u001b[0m\u001b[0mindex\u001b[0m\u001b[1;33m(\u001b[0m\u001b[0mnew_key\u001b[0m\u001b[1;33m)\u001b[0m\u001b[1;33m\u001b[0m\u001b[1;33m\u001b[0m\u001b[0m\n\u001b[0m\u001b[0;32m    386\u001b[0m                 \u001b[1;32mexcept\u001b[0m \u001b[0mValueError\u001b[0m \u001b[1;32mas\u001b[0m \u001b[0merr\u001b[0m\u001b[1;33m:\u001b[0m\u001b[1;33m\u001b[0m\u001b[1;33m\u001b[0m\u001b[0m\n",
      "\u001b[1;31mValueError\u001b[0m: -1 is not in range",
      "\nThe above exception was the direct cause of the following exception:\n",
      "\u001b[1;31mKeyError\u001b[0m                                  Traceback (most recent call last)",
      "\u001b[1;32m<ipython-input-46-60055cb99cf0>\u001b[0m in \u001b[0;36m<module>\u001b[1;34m\u001b[0m\n\u001b[0;32m      1\u001b[0m \u001b[1;31m# negative indexing\u001b[0m\u001b[1;33m\u001b[0m\u001b[1;33m\u001b[0m\u001b[1;33m\u001b[0m\u001b[0m\n\u001b[1;32m----> 2\u001b[1;33m \u001b[0mx\u001b[0m\u001b[1;33m[\u001b[0m\u001b[1;33m-\u001b[0m\u001b[1;36m1\u001b[0m\u001b[1;33m]\u001b[0m\u001b[1;33m\u001b[0m\u001b[1;33m\u001b[0m\u001b[0m\n\u001b[0m",
      "\u001b[1;32mD:\\Software\\Anaconda\\Software\\lib\\site-packages\\pandas\\core\\series.py\u001b[0m in \u001b[0;36m__getitem__\u001b[1;34m(self, key)\u001b[0m\n\u001b[0;32m    940\u001b[0m \u001b[1;33m\u001b[0m\u001b[0m\n\u001b[0;32m    941\u001b[0m         \u001b[1;32melif\u001b[0m \u001b[0mkey_is_scalar\u001b[0m\u001b[1;33m:\u001b[0m\u001b[1;33m\u001b[0m\u001b[1;33m\u001b[0m\u001b[0m\n\u001b[1;32m--> 942\u001b[1;33m             \u001b[1;32mreturn\u001b[0m \u001b[0mself\u001b[0m\u001b[1;33m.\u001b[0m\u001b[0m_get_value\u001b[0m\u001b[1;33m(\u001b[0m\u001b[0mkey\u001b[0m\u001b[1;33m)\u001b[0m\u001b[1;33m\u001b[0m\u001b[1;33m\u001b[0m\u001b[0m\n\u001b[0m\u001b[0;32m    943\u001b[0m \u001b[1;33m\u001b[0m\u001b[0m\n\u001b[0;32m    944\u001b[0m         \u001b[1;32mif\u001b[0m \u001b[0mis_hashable\u001b[0m\u001b[1;33m(\u001b[0m\u001b[0mkey\u001b[0m\u001b[1;33m)\u001b[0m\u001b[1;33m:\u001b[0m\u001b[1;33m\u001b[0m\u001b[1;33m\u001b[0m\u001b[0m\n",
      "\u001b[1;32mD:\\Software\\Anaconda\\Software\\lib\\site-packages\\pandas\\core\\series.py\u001b[0m in \u001b[0;36m_get_value\u001b[1;34m(self, label, takeable)\u001b[0m\n\u001b[0;32m   1049\u001b[0m \u001b[1;33m\u001b[0m\u001b[0m\n\u001b[0;32m   1050\u001b[0m         \u001b[1;31m# Similar to Index.get_value, but we do not fall back to positional\u001b[0m\u001b[1;33m\u001b[0m\u001b[1;33m\u001b[0m\u001b[1;33m\u001b[0m\u001b[0m\n\u001b[1;32m-> 1051\u001b[1;33m         \u001b[0mloc\u001b[0m \u001b[1;33m=\u001b[0m \u001b[0mself\u001b[0m\u001b[1;33m.\u001b[0m\u001b[0mindex\u001b[0m\u001b[1;33m.\u001b[0m\u001b[0mget_loc\u001b[0m\u001b[1;33m(\u001b[0m\u001b[0mlabel\u001b[0m\u001b[1;33m)\u001b[0m\u001b[1;33m\u001b[0m\u001b[1;33m\u001b[0m\u001b[0m\n\u001b[0m\u001b[0;32m   1052\u001b[0m         \u001b[1;32mreturn\u001b[0m \u001b[0mself\u001b[0m\u001b[1;33m.\u001b[0m\u001b[0mindex\u001b[0m\u001b[1;33m.\u001b[0m\u001b[0m_get_values_for_loc\u001b[0m\u001b[1;33m(\u001b[0m\u001b[0mself\u001b[0m\u001b[1;33m,\u001b[0m \u001b[0mloc\u001b[0m\u001b[1;33m,\u001b[0m \u001b[0mlabel\u001b[0m\u001b[1;33m)\u001b[0m\u001b[1;33m\u001b[0m\u001b[1;33m\u001b[0m\u001b[0m\n\u001b[0;32m   1053\u001b[0m \u001b[1;33m\u001b[0m\u001b[0m\n",
      "\u001b[1;32mD:\\Software\\Anaconda\\Software\\lib\\site-packages\\pandas\\core\\indexes\\range.py\u001b[0m in \u001b[0;36mget_loc\u001b[1;34m(self, key, method, tolerance)\u001b[0m\n\u001b[0;32m    385\u001b[0m                     \u001b[1;32mreturn\u001b[0m \u001b[0mself\u001b[0m\u001b[1;33m.\u001b[0m\u001b[0m_range\u001b[0m\u001b[1;33m.\u001b[0m\u001b[0mindex\u001b[0m\u001b[1;33m(\u001b[0m\u001b[0mnew_key\u001b[0m\u001b[1;33m)\u001b[0m\u001b[1;33m\u001b[0m\u001b[1;33m\u001b[0m\u001b[0m\n\u001b[0;32m    386\u001b[0m                 \u001b[1;32mexcept\u001b[0m \u001b[0mValueError\u001b[0m \u001b[1;32mas\u001b[0m \u001b[0merr\u001b[0m\u001b[1;33m:\u001b[0m\u001b[1;33m\u001b[0m\u001b[1;33m\u001b[0m\u001b[0m\n\u001b[1;32m--> 387\u001b[1;33m                     \u001b[1;32mraise\u001b[0m \u001b[0mKeyError\u001b[0m\u001b[1;33m(\u001b[0m\u001b[0mkey\u001b[0m\u001b[1;33m)\u001b[0m \u001b[1;32mfrom\u001b[0m \u001b[0merr\u001b[0m\u001b[1;33m\u001b[0m\u001b[1;33m\u001b[0m\u001b[0m\n\u001b[0m\u001b[0;32m    388\u001b[0m             \u001b[1;32mraise\u001b[0m \u001b[0mKeyError\u001b[0m\u001b[1;33m(\u001b[0m\u001b[0mkey\u001b[0m\u001b[1;33m)\u001b[0m\u001b[1;33m\u001b[0m\u001b[1;33m\u001b[0m\u001b[0m\n\u001b[0;32m    389\u001b[0m         \u001b[1;32mreturn\u001b[0m \u001b[0msuper\u001b[0m\u001b[1;33m(\u001b[0m\u001b[1;33m)\u001b[0m\u001b[1;33m.\u001b[0m\u001b[0mget_loc\u001b[0m\u001b[1;33m(\u001b[0m\u001b[0mkey\u001b[0m\u001b[1;33m,\u001b[0m \u001b[0mmethod\u001b[0m\u001b[1;33m=\u001b[0m\u001b[0mmethod\u001b[0m\u001b[1;33m,\u001b[0m \u001b[0mtolerance\u001b[0m\u001b[1;33m=\u001b[0m\u001b[0mtolerance\u001b[0m\u001b[1;33m)\u001b[0m\u001b[1;33m\u001b[0m\u001b[1;33m\u001b[0m\u001b[0m\n",
      "\u001b[1;31mKeyError\u001b[0m: -1"
     ]
    }
   ],
   "source": [
    "# negative indexing\n",
    "x[-1]"
   ]
  },
  {
   "cell_type": "code",
   "execution_count": 47,
   "metadata": {
    "colab": {
     "base_uri": "https://localhost:8080/"
    },
    "id": "9BKWa4-fKugd",
    "outputId": "3d9fbab1-9295-4307-be08-e9574d3d267d",
    "scrolled": true
   },
   "outputs": [
    {
     "data": {
      "text/plain": [
       "movie\n",
       "Ôkami kodomo no Ame to Yuki            Aoi Miyazaki\n",
       "À bout de souffle                Jean-Paul Belmondo\n",
       "Zwartboek                         Carice van Houten\n",
       "Zulu                                  Stanley Baker\n",
       "Zootopia                                 Rich Moore\n",
       "                                       ...         \n",
       "2001: A Space Odyssey                   Keir Dullea\n",
       "1917                           Dean-Charles Chapman\n",
       "12 Years a Slave                   Chiwetel Ejiofor\n",
       "12 Angry Men                            Henry Fonda\n",
       "(500) Days of Summer                Zooey Deschanel\n",
       "Name: lead, Length: 1000, dtype: object"
      ]
     },
     "execution_count": 47,
     "metadata": {},
     "output_type": "execute_result"
    }
   ],
   "source": [
    "movies"
   ]
  },
  {
   "cell_type": "markdown",
   "metadata": {},
   "source": [
    "### Negative indexing"
   ]
  },
  {
   "cell_type": "markdown",
   "metadata": {},
   "source": [
    "Negative indexing does not work in Pandas Series because the indices are labels that are unique and not necessarily integers. Negative indexing is a feature commonly found in list and tuple data structures in Python, where the elements are accessed by counting from the end of the sequence using negative numbers. However, in Pandas Series, the index labels are unique and can be of any data type, including strings and dates, making it difficult to implement negative indexing.\n",
    "\n",
    "To access elements from the end of a Series in Pandas, you can use the `.iloc[]` accessor along with negative integers to specify the positions of the elements to retrieve. For example:\n",
    "\n",
    "``` python\n",
    "import pandas as pd\n",
    "\n",
    "# create a Series\n",
    "s = pd.Series([10, 20, 30, 40, 50])\n",
    "\n",
    "# access the last element using negative indexing\n",
    "print(s.iloc[-1])  # output: 50\n",
    "```\n",
    "\n",
    "In this example, we use the `.iloc[]` accessor with the negative integer `-1` to access the last element of the Series `s`. Note that we cannot use `-1` as an index label in this case, as it is not a valid label for the Series."
   ]
  },
  {
   "cell_type": "code",
   "execution_count": 48,
   "metadata": {
    "colab": {
     "base_uri": "https://localhost:8080/",
     "height": 515
    },
    "id": "UdfXS16jLVIo",
    "outputId": "7adcf453-a4a2-4984-a2a3-de2090e035f4"
   },
   "outputs": [
    {
     "ename": "KeyError",
     "evalue": "-1",
     "output_type": "error",
     "traceback": [
      "\u001b[1;31m---------------------------------------------------------------------------\u001b[0m",
      "\u001b[1;31mValueError\u001b[0m                                Traceback (most recent call last)",
      "\u001b[1;32mD:\\Software\\Anaconda\\Software\\lib\\site-packages\\pandas\\core\\indexes\\range.py\u001b[0m in \u001b[0;36mget_loc\u001b[1;34m(self, key, method, tolerance)\u001b[0m\n\u001b[0;32m    384\u001b[0m                 \u001b[1;32mtry\u001b[0m\u001b[1;33m:\u001b[0m\u001b[1;33m\u001b[0m\u001b[1;33m\u001b[0m\u001b[0m\n\u001b[1;32m--> 385\u001b[1;33m                     \u001b[1;32mreturn\u001b[0m \u001b[0mself\u001b[0m\u001b[1;33m.\u001b[0m\u001b[0m_range\u001b[0m\u001b[1;33m.\u001b[0m\u001b[0mindex\u001b[0m\u001b[1;33m(\u001b[0m\u001b[0mnew_key\u001b[0m\u001b[1;33m)\u001b[0m\u001b[1;33m\u001b[0m\u001b[1;33m\u001b[0m\u001b[0m\n\u001b[0m\u001b[0;32m    386\u001b[0m                 \u001b[1;32mexcept\u001b[0m \u001b[0mValueError\u001b[0m \u001b[1;32mas\u001b[0m \u001b[0merr\u001b[0m\u001b[1;33m:\u001b[0m\u001b[1;33m\u001b[0m\u001b[1;33m\u001b[0m\u001b[0m\n",
      "\u001b[1;31mValueError\u001b[0m: -1 is not in range",
      "\nThe above exception was the direct cause of the following exception:\n",
      "\u001b[1;31mKeyError\u001b[0m                                  Traceback (most recent call last)",
      "\u001b[1;32m<ipython-input-48-40f7f8412ab0>\u001b[0m in \u001b[0;36m<module>\u001b[1;34m\u001b[0m\n\u001b[1;32m----> 1\u001b[1;33m \u001b[0msubs\u001b[0m\u001b[1;33m[\u001b[0m\u001b[1;33m-\u001b[0m\u001b[1;36m1\u001b[0m\u001b[1;33m]\u001b[0m\u001b[1;33m\u001b[0m\u001b[1;33m\u001b[0m\u001b[0m\n\u001b[0m",
      "\u001b[1;32mD:\\Software\\Anaconda\\Software\\lib\\site-packages\\pandas\\core\\series.py\u001b[0m in \u001b[0;36m__getitem__\u001b[1;34m(self, key)\u001b[0m\n\u001b[0;32m    940\u001b[0m \u001b[1;33m\u001b[0m\u001b[0m\n\u001b[0;32m    941\u001b[0m         \u001b[1;32melif\u001b[0m \u001b[0mkey_is_scalar\u001b[0m\u001b[1;33m:\u001b[0m\u001b[1;33m\u001b[0m\u001b[1;33m\u001b[0m\u001b[0m\n\u001b[1;32m--> 942\u001b[1;33m             \u001b[1;32mreturn\u001b[0m \u001b[0mself\u001b[0m\u001b[1;33m.\u001b[0m\u001b[0m_get_value\u001b[0m\u001b[1;33m(\u001b[0m\u001b[0mkey\u001b[0m\u001b[1;33m)\u001b[0m\u001b[1;33m\u001b[0m\u001b[1;33m\u001b[0m\u001b[0m\n\u001b[0m\u001b[0;32m    943\u001b[0m \u001b[1;33m\u001b[0m\u001b[0m\n\u001b[0;32m    944\u001b[0m         \u001b[1;32mif\u001b[0m \u001b[0mis_hashable\u001b[0m\u001b[1;33m(\u001b[0m\u001b[0mkey\u001b[0m\u001b[1;33m)\u001b[0m\u001b[1;33m:\u001b[0m\u001b[1;33m\u001b[0m\u001b[1;33m\u001b[0m\u001b[0m\n",
      "\u001b[1;32mD:\\Software\\Anaconda\\Software\\lib\\site-packages\\pandas\\core\\series.py\u001b[0m in \u001b[0;36m_get_value\u001b[1;34m(self, label, takeable)\u001b[0m\n\u001b[0;32m   1049\u001b[0m \u001b[1;33m\u001b[0m\u001b[0m\n\u001b[0;32m   1050\u001b[0m         \u001b[1;31m# Similar to Index.get_value, but we do not fall back to positional\u001b[0m\u001b[1;33m\u001b[0m\u001b[1;33m\u001b[0m\u001b[1;33m\u001b[0m\u001b[0m\n\u001b[1;32m-> 1051\u001b[1;33m         \u001b[0mloc\u001b[0m \u001b[1;33m=\u001b[0m \u001b[0mself\u001b[0m\u001b[1;33m.\u001b[0m\u001b[0mindex\u001b[0m\u001b[1;33m.\u001b[0m\u001b[0mget_loc\u001b[0m\u001b[1;33m(\u001b[0m\u001b[0mlabel\u001b[0m\u001b[1;33m)\u001b[0m\u001b[1;33m\u001b[0m\u001b[1;33m\u001b[0m\u001b[0m\n\u001b[0m\u001b[0;32m   1052\u001b[0m         \u001b[1;32mreturn\u001b[0m \u001b[0mself\u001b[0m\u001b[1;33m.\u001b[0m\u001b[0mindex\u001b[0m\u001b[1;33m.\u001b[0m\u001b[0m_get_values_for_loc\u001b[0m\u001b[1;33m(\u001b[0m\u001b[0mself\u001b[0m\u001b[1;33m,\u001b[0m \u001b[0mloc\u001b[0m\u001b[1;33m,\u001b[0m \u001b[0mlabel\u001b[0m\u001b[1;33m)\u001b[0m\u001b[1;33m\u001b[0m\u001b[1;33m\u001b[0m\u001b[0m\n\u001b[0;32m   1053\u001b[0m \u001b[1;33m\u001b[0m\u001b[0m\n",
      "\u001b[1;32mD:\\Software\\Anaconda\\Software\\lib\\site-packages\\pandas\\core\\indexes\\range.py\u001b[0m in \u001b[0;36mget_loc\u001b[1;34m(self, key, method, tolerance)\u001b[0m\n\u001b[0;32m    385\u001b[0m                     \u001b[1;32mreturn\u001b[0m \u001b[0mself\u001b[0m\u001b[1;33m.\u001b[0m\u001b[0m_range\u001b[0m\u001b[1;33m.\u001b[0m\u001b[0mindex\u001b[0m\u001b[1;33m(\u001b[0m\u001b[0mnew_key\u001b[0m\u001b[1;33m)\u001b[0m\u001b[1;33m\u001b[0m\u001b[1;33m\u001b[0m\u001b[0m\n\u001b[0;32m    386\u001b[0m                 \u001b[1;32mexcept\u001b[0m \u001b[0mValueError\u001b[0m \u001b[1;32mas\u001b[0m \u001b[0merr\u001b[0m\u001b[1;33m:\u001b[0m\u001b[1;33m\u001b[0m\u001b[1;33m\u001b[0m\u001b[0m\n\u001b[1;32m--> 387\u001b[1;33m                     \u001b[1;32mraise\u001b[0m \u001b[0mKeyError\u001b[0m\u001b[1;33m(\u001b[0m\u001b[0mkey\u001b[0m\u001b[1;33m)\u001b[0m \u001b[1;32mfrom\u001b[0m \u001b[0merr\u001b[0m\u001b[1;33m\u001b[0m\u001b[1;33m\u001b[0m\u001b[0m\n\u001b[0m\u001b[0;32m    388\u001b[0m             \u001b[1;32mraise\u001b[0m \u001b[0mKeyError\u001b[0m\u001b[1;33m(\u001b[0m\u001b[0mkey\u001b[0m\u001b[1;33m)\u001b[0m\u001b[1;33m\u001b[0m\u001b[1;33m\u001b[0m\u001b[0m\n\u001b[0;32m    389\u001b[0m         \u001b[1;32mreturn\u001b[0m \u001b[0msuper\u001b[0m\u001b[1;33m(\u001b[0m\u001b[1;33m)\u001b[0m\u001b[1;33m.\u001b[0m\u001b[0mget_loc\u001b[0m\u001b[1;33m(\u001b[0m\u001b[0mkey\u001b[0m\u001b[1;33m,\u001b[0m \u001b[0mmethod\u001b[0m\u001b[1;33m=\u001b[0m\u001b[0mmethod\u001b[0m\u001b[1;33m,\u001b[0m \u001b[0mtolerance\u001b[0m\u001b[1;33m=\u001b[0m\u001b[0mtolerance\u001b[0m\u001b[1;33m)\u001b[0m\u001b[1;33m\u001b[0m\u001b[1;33m\u001b[0m\u001b[0m\n",
      "\u001b[1;31mKeyError\u001b[0m: -1"
     ]
    }
   ],
   "source": [
    "subs[-1]"
   ]
  },
  {
   "cell_type": "code",
   "execution_count": 50,
   "metadata": {
    "colab": {
     "base_uri": "https://localhost:8080/"
    },
    "id": "0Aok361MQA8J",
    "outputId": "a31e2b7e-53a5-499f-ccb2-f9276a0b3139"
   },
   "outputs": [
    {
     "data": {
      "text/plain": [
       "5     46\n",
       "6     33\n",
       "7     40\n",
       "8     44\n",
       "9     74\n",
       "10    49\n",
       "11    56\n",
       "12    49\n",
       "13    42\n",
       "14    39\n",
       "15    44\n",
       "Name: Crypto_Money, dtype: int64"
      ]
     },
     "execution_count": 50,
     "metadata": {},
     "output_type": "execute_result"
    }
   ],
   "source": [
    "# slicing\n",
    "subs[5:16]"
   ]
  },
  {
   "cell_type": "code",
   "execution_count": 53,
   "metadata": {
    "colab": {
     "base_uri": "https://localhost:8080/"
    },
    "id": "Liu7rQJbQ9GW",
    "outputId": "c205b3f2-e431-4e2c-8a52-57b701b806e7"
   },
   "outputs": [
    {
     "data": {
      "text/plain": [
       "360    231\n",
       "361    226\n",
       "362    155\n",
       "363    144\n",
       "364    172\n",
       "Name: Crypto_Money, dtype: int64"
      ]
     },
     "execution_count": 53,
     "metadata": {},
     "output_type": "execute_result"
    }
   ],
   "source": [
    "# negative slicing\n",
    "subs[-5:]"
   ]
  },
  {
   "cell_type": "code",
   "execution_count": 54,
   "metadata": {
    "colab": {
     "base_uri": "https://localhost:8080/"
    },
    "id": "BE4kLq1vMSes",
    "outputId": "ff5de4e4-5b80-484c-9241-72de04792aa8"
   },
   "outputs": [
    {
     "data": {
      "text/plain": [
       "movie\n",
       "Ôkami kodomo no Ame to Yuki            Aoi Miyazaki\n",
       "Zwartboek                         Carice van Houten\n",
       "Zootopia                                 Rich Moore\n",
       "Zodiac                              Jake Gyllenhaal\n",
       "Zerkalo                         Margarita Terekhova\n",
       "                                       ...         \n",
       "300                                   Gerard Butler\n",
       "28 Days Later...                     Cillian Murphy\n",
       "21 Grams                                  Sean Penn\n",
       "1917                           Dean-Charles Chapman\n",
       "12 Angry Men                            Henry Fonda\n",
       "Name: lead, Length: 500, dtype: object"
      ]
     },
     "execution_count": 54,
     "metadata": {},
     "output_type": "execute_result"
    }
   ],
   "source": [
    "movies[::2]"
   ]
  },
  {
   "cell_type": "code",
   "execution_count": 57,
   "metadata": {
    "colab": {
     "base_uri": "https://localhost:8080/"
    },
    "id": "QjB-8CydQA_W",
    "outputId": "9bcace4d-f461-4a12-83f4-ebc6d620d943"
   },
   "outputs": [
    {
     "data": {
      "text/plain": [
       "1    57\n",
       "3    43\n",
       "4    44\n",
       "5    46\n",
       "Name: Crypto_Money, dtype: int64"
      ]
     },
     "execution_count": 57,
     "metadata": {},
     "output_type": "execute_result"
    }
   ],
   "source": [
    "# fancy indexing\n",
    "subs[[1,3,4,5]]"
   ]
  },
  {
   "cell_type": "code",
   "execution_count": 58,
   "metadata": {
    "colab": {
     "base_uri": "https://localhost:8080/",
     "height": 36
    },
    "id": "m4y-6vjTQBCP",
    "outputId": "0da130b4-7e28-457e-884c-9be1ca736d26"
   },
   "outputs": [
    {
     "data": {
      "text/plain": [
       "'Jake Gyllenhaal'"
      ]
     },
     "execution_count": 58,
     "metadata": {},
     "output_type": "execute_result"
    }
   ],
   "source": [
    "# indexing with labels -> fancy indexing\n",
    "movies['Zodiac']"
   ]
  },
  {
   "cell_type": "markdown",
   "metadata": {},
   "source": [
    "### Custom index and the hidden internal index"
   ]
  },
  {
   "cell_type": "markdown",
   "metadata": {},
   "source": [
    "When a custom index is specified in a Pandas Series, it overrides the default integer index that would otherwise be assigned to the Series. However, the Series still maintains a hidden, underlying integer index that is used for positional indexing.\n",
    "\n",
    "So, when we use integer-based indexing, such as `s[1]`, Pandas looks up the value at the second position (i.e., index 1) in the underlying integer index, rather than the custom index that we provided. This is why integer-based indexing can still work with a Series that has a custom index.\n",
    "\n",
    "However, when we use label-based indexing, such as `s['a']`, Pandas looks up the value corresponding to the label `'a'` in the custom index that we provided. If a label-based index is not specified, then the default integer index is used.\n",
    "\n",
    "Here's an example to demonstrate this:\n",
    "\n",
    "```python\n",
    "import pandas as pd\n",
    "\n",
    "# Create a Series with a custom index\n",
    "s = pd.Series([10, 20, 30, 40], index=['a', 'b', 'c', 'd'])\n",
    "\n",
    "# Access values using integer-based indexing\n",
    "print(s[1])  # Output: 20\n",
    "\n",
    "# Access values using label-based indexing\n",
    "print(s['b'])  # Output: 20\n",
    "```\n",
    "\n",
    "In this example, the custom index `['a', 'b', 'c', 'd']` overrides the default integer index `[0, 1, 2, 3]`. However, when we access the value at position 1 using `s[1]`, Pandas looks up the value at the second position in the default integer index, which is 20. When we access the value corresponding to the label `'b'` using `s['b']`, Pandas looks up the value associated with the label `'b'` in the custom index, which is also 20."
   ]
  },
  {
   "cell_type": "markdown",
   "metadata": {
    "id": "NFElpr-tR5en"
   },
   "source": [
    "### Editing Series"
   ]
  },
  {
   "cell_type": "code",
   "execution_count": 60,
   "metadata": {
    "colab": {
     "base_uri": "https://localhost:8080/"
    },
    "id": "bMaxSAmfR8JQ",
    "outputId": "15df7b1b-d1f4-42dd-c6ac-d155afd18b0e"
   },
   "outputs": [
    {
     "data": {
      "text/plain": [
       "0       48\n",
       "1      100\n",
       "2       40\n",
       "3       43\n",
       "4       44\n",
       "      ... \n",
       "360    231\n",
       "361    226\n",
       "362    155\n",
       "363    144\n",
       "364    172\n",
       "Name: Crypto_Money, Length: 365, dtype: int64"
      ]
     },
     "execution_count": 60,
     "metadata": {},
     "output_type": "execute_result"
    }
   ],
   "source": [
    "# using indexing\n",
    "subs[1] = 100\n",
    "subs"
   ]
  },
  {
   "cell_type": "code",
   "execution_count": 61,
   "metadata": {
    "id": "p2sikMnPR8MU"
   },
   "outputs": [],
   "source": [
    "# what if an index does not exist\n",
    "subs['evs'] = 100"
   ]
  },
  {
   "cell_type": "code",
   "execution_count": 62,
   "metadata": {
    "colab": {
     "base_uri": "https://localhost:8080/"
    },
    "id": "rmwOXl0yNjA6",
    "outputId": "66228db5-7b15-46b0-e5d8-8fc97ecee7dd"
   },
   "outputs": [
    {
     "data": {
      "text/plain": [
       "0       48\n",
       "1      100\n",
       "2       40\n",
       "3       43\n",
       "4       44\n",
       "      ... \n",
       "361    226\n",
       "362    155\n",
       "363    144\n",
       "364    172\n",
       "evs    100\n",
       "Name: Crypto_Money, Length: 366, dtype: int64"
      ]
     },
     "execution_count": 62,
     "metadata": {},
     "output_type": "execute_result"
    }
   ],
   "source": [
    "subs"
   ]
  },
  {
   "cell_type": "code",
   "execution_count": 64,
   "metadata": {
    "colab": {
     "base_uri": "https://localhost:8080/"
    },
    "id": "bsvV3kz0R8Ps",
    "outputId": "2b6e97f9-2374-4f6e-f832-146eb3339f99"
   },
   "outputs": [
    {
     "data": {
      "text/plain": [
       "0       48\n",
       "1      100\n",
       "2      100\n",
       "3      100\n",
       "4       44\n",
       "      ... \n",
       "361    226\n",
       "362    155\n",
       "363    144\n",
       "364    172\n",
       "evs    100\n",
       "Name: Crypto_Money, Length: 366, dtype: int64"
      ]
     },
     "execution_count": 64,
     "metadata": {},
     "output_type": "execute_result"
    }
   ],
   "source": [
    "# slicing\n",
    "subs[2:4] = [100,100]\n",
    "subs"
   ]
  },
  {
   "cell_type": "code",
   "execution_count": 65,
   "metadata": {
    "colab": {
     "base_uri": "https://localhost:8080/"
    },
    "id": "UbXMK59FSJp7",
    "outputId": "75f69728-d376-468f-8843-604f4454ea6c"
   },
   "outputs": [
    {
     "data": {
      "text/plain": [
       "0        0\n",
       "1      100\n",
       "2      100\n",
       "3        0\n",
       "4        0\n",
       "      ... \n",
       "361    226\n",
       "362    155\n",
       "363    144\n",
       "364    172\n",
       "evs    100\n",
       "Name: Crypto_Money, Length: 366, dtype: int64"
      ]
     },
     "execution_count": 65,
     "metadata": {},
     "output_type": "execute_result"
    }
   ],
   "source": [
    "# fancy indexing\n",
    "subs[[0,3,4]] = [0,0,0]\n",
    "subs"
   ]
  },
  {
   "cell_type": "code",
   "execution_count": 67,
   "metadata": {
    "colab": {
     "base_uri": "https://localhost:8080/"
    },
    "id": "D1gyqD5bSa_1",
    "outputId": "56b096fb-686b-4240-8b0f-c07de0e34e53"
   },
   "outputs": [
    {
     "data": {
      "text/plain": [
       "movie\n",
       "Ôkami kodomo no Ame to Yuki          Aoi Miyazaki\n",
       "À bout de souffle              Jean-Paul Belmondo\n",
       "Zwartboek                       Carice van Houten\n",
       "Zulu                                Stanley Baker\n",
       "Zootopia                               Rich Moore\n",
       "                                      ...        \n",
       "12 Years a Slave                 Chiwetel Ejiofor\n",
       "12 Angry Men                          Henry Fonda\n",
       "(500) Days of Summer              Zooey Deschanel\n",
       "2 States (2014 film)                   Alia Bhatt\n",
       "Goszilla vs Bugsbunny                    Iron Man\n",
       "Name: lead, Length: 1002, dtype: object"
      ]
     },
     "execution_count": 67,
     "metadata": {},
     "output_type": "execute_result"
    }
   ],
   "source": [
    "# using index label\n",
    "movies['Goszilla vs Bugsbunny'] = 'Iron Man'\n",
    "movies"
   ]
  },
  {
   "cell_type": "markdown",
   "metadata": {
    "id": "6OVEN5eFUWA-"
   },
   "source": [
    "### Series with Python Functionalities"
   ]
  },
  {
   "cell_type": "code",
   "execution_count": 68,
   "metadata": {
    "colab": {
     "base_uri": "https://localhost:8080/"
    },
    "id": "zebKLTsNt12p",
    "outputId": "1fc18462-7d27-4029-fe3d-cea42f00013d"
   },
   "outputs": [
    {
     "name": "stdout",
     "output_type": "stream",
     "text": [
      "366\n",
      "<class 'pandas.core.series.Series'>\n",
      "['T', '_AXIS_LEN', '_AXIS_ORDERS', '_AXIS_REVERSED', '_AXIS_TO_AXIS_NUMBER', '_HANDLED_TYPES', '__abs__', '__add__', '__and__', '__annotations__', '__array__', '__array_priority__', '__array_ufunc__', '__array_wrap__', '__bool__', '__class__', '__contains__', '__copy__', '__deepcopy__', '__delattr__', '__delitem__', '__dict__', '__dir__', '__divmod__', '__doc__', '__eq__', '__finalize__', '__float__', '__floordiv__', '__format__', '__ge__', '__getattr__', '__getattribute__', '__getitem__', '__getstate__', '__gt__', '__hash__', '__iadd__', '__iand__', '__ifloordiv__', '__imod__', '__imul__', '__init__', '__init_subclass__', '__int__', '__invert__', '__ior__', '__ipow__', '__isub__', '__iter__', '__itruediv__', '__ixor__', '__le__', '__len__', '__long__', '__lt__', '__matmul__', '__mod__', '__module__', '__mul__', '__ne__', '__neg__', '__new__', '__nonzero__', '__or__', '__pos__', '__pow__', '__radd__', '__rand__', '__rdivmod__', '__reduce__', '__reduce_ex__', '__repr__', '__rfloordiv__', '__rmatmul__', '__rmod__', '__rmul__', '__ror__', '__round__', '__rpow__', '__rsub__', '__rtruediv__', '__rxor__', '__setattr__', '__setitem__', '__setstate__', '__sizeof__', '__str__', '__sub__', '__subclasshook__', '__truediv__', '__weakref__', '__xor__', '_accessors', '_accum_func', '_add_numeric_operations', '_agg_by_level', '_agg_examples_doc', '_agg_see_also_doc', '_align_frame', '_align_series', '_arith_method', '_as_manager', '_attrs', '_binop', '_can_hold_na', '_check_inplace_and_allows_duplicate_labels', '_check_inplace_setting', '_check_is_chained_assignment_possible', '_check_label_or_level_ambiguity', '_check_setitem_copy', '_clear_item_cache', '_clip_with_one_bound', '_clip_with_scalar', '_cmp_method', '_consolidate', '_consolidate_inplace', '_construct_axes_dict', '_construct_axes_from_arguments', '_construct_result', '_constructor', '_constructor_expanddim', '_convert', '_convert_dtypes', '_data', '_dir_additions', '_dir_deletions', '_drop_axis', '_drop_labels_or_levels', '_duplicated', '_find_valid_index', '_flags', '_from_mgr', '_get_axis', '_get_axis_name', '_get_axis_number', '_get_axis_resolvers', '_get_block_manager_axis', '_get_bool_data', '_get_cacher', '_get_cleaned_column_resolvers', '_get_index_resolvers', '_get_label_or_level_values', '_get_numeric_data', '_get_value', '_get_values', '_get_values_tuple', '_get_with', '_gotitem', '_hidden_attrs', '_index', '_indexed_same', '_info_axis', '_info_axis_name', '_info_axis_number', '_init_dict', '_init_mgr', '_inplace_method', '_internal_names', '_internal_names_set', '_is_cached', '_is_copy', '_is_label_or_level_reference', '_is_label_reference', '_is_level_reference', '_is_mixed_type', '_is_view', '_item_cache', '_ixs', '_logical_func', '_logical_method', '_map_values', '_maybe_update_cacher', '_memory_usage', '_metadata', '_mgr', '_min_count_stat_function', '_name', '_needs_reindex_multi', '_protect_consolidate', '_reduce', '_reindex_axes', '_reindex_indexer', '_reindex_multi', '_reindex_with_indexers', '_replace_single', '_repr_data_resource_', '_repr_latex_', '_reset_cache', '_reset_cacher', '_set_as_cached', '_set_axis', '_set_axis_name', '_set_axis_nocheck', '_set_is_copy', '_set_labels', '_set_name', '_set_value', '_set_values', '_set_with', '_set_with_engine', '_slice', '_stat_axis', '_stat_axis_name', '_stat_axis_number', '_stat_function', '_stat_function_ddof', '_take_with_is_copy', '_typ', '_update_inplace', '_validate_dtype', '_values', '_where', 'abs', 'add', 'add_prefix', 'add_suffix', 'agg', 'aggregate', 'align', 'all', 'any', 'append', 'apply', 'argmax', 'argmin', 'argsort', 'array', 'asfreq', 'asof', 'astype', 'at', 'at_time', 'attrs', 'autocorr', 'axes', 'backfill', 'between', 'between_time', 'bfill', 'bool', 'clip', 'combine', 'combine_first', 'compare', 'convert_dtypes', 'copy', 'corr', 'count', 'cov', 'cummax', 'cummin', 'cumprod', 'cumsum', 'describe', 'diff', 'div', 'divide', 'divmod', 'dot', 'drop', 'drop_duplicates', 'droplevel', 'dropna', 'dtype', 'dtypes', 'duplicated', 'empty', 'eq', 'equals', 'ewm', 'expanding', 'explode', 'factorize', 'ffill', 'fillna', 'filter', 'first', 'first_valid_index', 'flags', 'floordiv', 'ge', 'get', 'groupby', 'gt', 'hasnans', 'head', 'hist', 'iat', 'idxmax', 'idxmin', 'iloc', 'index', 'infer_objects', 'interpolate', 'is_monotonic', 'is_monotonic_decreasing', 'is_monotonic_increasing', 'is_unique', 'isin', 'isna', 'isnull', 'item', 'items', 'iteritems', 'keys', 'kurt', 'kurtosis', 'last', 'last_valid_index', 'le', 'loc', 'lt', 'mad', 'map', 'mask', 'max', 'mean', 'median', 'memory_usage', 'min', 'mod', 'mode', 'mul', 'multiply', 'name', 'nbytes', 'ndim', 'ne', 'nlargest', 'notna', 'notnull', 'nsmallest', 'nunique', 'pad', 'pct_change', 'pipe', 'plot', 'pop', 'pow', 'prod', 'product', 'quantile', 'radd', 'rank', 'ravel', 'rdiv', 'rdivmod', 'reindex', 'reindex_like', 'rename', 'rename_axis', 'reorder_levels', 'repeat', 'replace', 'resample', 'reset_index', 'rfloordiv', 'rmod', 'rmul', 'rolling', 'round', 'rpow', 'rsub', 'rtruediv', 'sample', 'searchsorted', 'sem', 'set_axis', 'set_flags', 'shape', 'shift', 'size', 'skew', 'slice_shift', 'sort_index', 'sort_values', 'squeeze', 'std', 'sub', 'subtract', 'sum', 'swapaxes', 'swaplevel', 'tail', 'take', 'to_clipboard', 'to_csv', 'to_dict', 'to_excel', 'to_frame', 'to_hdf', 'to_json', 'to_latex', 'to_list', 'to_markdown', 'to_numpy', 'to_period', 'to_pickle', 'to_sql', 'to_string', 'to_timestamp', 'to_xarray', 'transform', 'transpose', 'truediv', 'truncate', 'tz_convert', 'tz_localize', 'unique', 'unstack', 'update', 'value_counts', 'values', 'var', 'view', 'where', 'xs']\n",
      "[0, 0, 0, 33, 33, 35, 37, 39, 40, 40, 40, 42, 42, 44, 44, 45, 46, 46, 49, 49, 49, 49, 50, 50, 50, 51, 54, 56, 56, 56, 56, 61, 62, 64, 65, 65, 66, 66, 66, 66, 67, 68, 70, 70, 70, 71, 71, 72, 72, 72, 72, 72, 73, 74, 74, 75, 76, 76, 76, 76, 77, 77, 78, 78, 78, 79, 79, 80, 80, 80, 81, 81, 82, 82, 83, 83, 83, 84, 84, 84, 85, 86, 86, 86, 87, 87, 87, 87, 88, 88, 88, 88, 88, 89, 89, 89, 90, 90, 90, 90, 91, 92, 92, 92, 93, 93, 93, 93, 95, 95, 96, 96, 96, 96, 97, 97, 98, 98, 99, 99, 100, 100, 100, 100, 100, 100, 101, 101, 101, 102, 102, 103, 103, 104, 104, 104, 105, 105, 105, 105, 105, 105, 105, 105, 105, 108, 108, 108, 108, 108, 108, 109, 109, 110, 110, 110, 111, 111, 112, 113, 113, 113, 114, 114, 114, 114, 115, 115, 115, 115, 117, 117, 117, 118, 118, 119, 119, 119, 119, 120, 122, 123, 123, 123, 123, 123, 124, 125, 126, 127, 128, 128, 129, 130, 131, 131, 132, 132, 134, 134, 134, 135, 135, 136, 136, 136, 137, 138, 138, 138, 139, 140, 144, 145, 146, 146, 146, 146, 147, 149, 150, 150, 150, 150, 151, 152, 152, 152, 153, 153, 153, 154, 154, 154, 155, 155, 156, 156, 156, 156, 157, 157, 157, 157, 158, 158, 159, 159, 160, 160, 160, 160, 162, 164, 166, 167, 167, 168, 170, 170, 170, 170, 171, 172, 172, 173, 173, 173, 174, 174, 175, 175, 176, 176, 177, 178, 179, 179, 180, 180, 180, 182, 183, 183, 183, 184, 184, 184, 185, 185, 185, 185, 186, 186, 186, 188, 189, 190, 190, 192, 192, 192, 196, 196, 196, 197, 197, 202, 202, 202, 203, 204, 206, 207, 209, 210, 210, 211, 212, 213, 214, 216, 219, 220, 221, 221, 222, 222, 224, 225, 225, 226, 227, 228, 229, 230, 231, 233, 236, 236, 237, 241, 243, 244, 245, 247, 249, 254, 254, 258, 259, 259, 261, 261, 265, 267, 268, 269, 276, 276, 290, 295, 301, 306, 312, 396]\n",
      "0\n",
      "396\n"
     ]
    }
   ],
   "source": [
    "# len/type/dir/sorted/max/min\n",
    "print(len(subs))\n",
    "print(type(subs))\n",
    "print(dir(subs))\n",
    "print(sorted(subs))\n",
    "print(min(subs))\n",
    "print(max(subs))"
   ]
  },
  {
   "cell_type": "code",
   "execution_count": 69,
   "metadata": {
    "colab": {
     "base_uri": "https://localhost:8080/"
    },
    "id": "ZJmwrkkgt2x4",
    "outputId": "f0f07972-6f03-4a1f-fe81-311a4ca84926"
   },
   "outputs": [
    {
     "data": {
      "text/plain": [
       "[0,\n",
       " 100,\n",
       " 100,\n",
       " 0,\n",
       " 0,\n",
       " 46,\n",
       " 33,\n",
       " 40,\n",
       " 44,\n",
       " 74,\n",
       " 49,\n",
       " 56,\n",
       " 49,\n",
       " 42,\n",
       " 39,\n",
       " 44,\n",
       " 54,\n",
       " 51,\n",
       " 40,\n",
       " 37,\n",
       " 40,\n",
       " 45,\n",
       " 50,\n",
       " 56,\n",
       " 35,\n",
       " 49,\n",
       " 46,\n",
       " 88,\n",
       " 61,\n",
       " 42,\n",
       " 56,\n",
       " 50,\n",
       " 50,\n",
       " 49,\n",
       " 76,\n",
       " 123,\n",
       " 108,\n",
       " 110,\n",
       " 56,\n",
       " 62,\n",
       " 65,\n",
       " 66,\n",
       " 33,\n",
       " 66,\n",
       " 82,\n",
       " 126,\n",
       " 109,\n",
       " 88,\n",
       " 83,\n",
       " 108,\n",
       " 101,\n",
       " 128,\n",
       " 111,\n",
       " 96,\n",
       " 101,\n",
       " 99,\n",
       " 105,\n",
       " 72,\n",
       " 93,\n",
       " 76,\n",
       " 104,\n",
       " 70,\n",
       " 80,\n",
       " 99,\n",
       " 104,\n",
       " 136,\n",
       " 115,\n",
       " 123,\n",
       " 112,\n",
       " 145,\n",
       " 87,\n",
       " 84,\n",
       " 92,\n",
       " 80,\n",
       " 70,\n",
       " 70,\n",
       " 132,\n",
       " 123,\n",
       " 98,\n",
       " 96,\n",
       " 88,\n",
       " 86,\n",
       " 92,\n",
       " 92,\n",
       " 110,\n",
       " 120,\n",
       " 105,\n",
       " 72,\n",
       " 84,\n",
       " 90,\n",
       " 78,\n",
       " 81,\n",
       " 89,\n",
       " 89,\n",
       " 93,\n",
       " 86,\n",
       " 95,\n",
       " 83,\n",
       " 72,\n",
       " 87,\n",
       " 100,\n",
       " 72,\n",
       " 79,\n",
       " 67,\n",
       " 71,\n",
       " 90,\n",
       " 77,\n",
       " 100,\n",
       " 88,\n",
       " 65,\n",
       " 95,\n",
       " 78,\n",
       " 89,\n",
       " 96,\n",
       " 81,\n",
       " 105,\n",
       " 80,\n",
       " 66,\n",
       " 73,\n",
       " 68,\n",
       " 159,\n",
       " 90,\n",
       " 83,\n",
       " 76,\n",
       " 77,\n",
       " 66,\n",
       " 64,\n",
       " 85,\n",
       " 136,\n",
       " 135,\n",
       " 71,\n",
       " 79,\n",
       " 75,\n",
       " 72,\n",
       " 78,\n",
       " 109,\n",
       " 93,\n",
       " 84,\n",
       " 74,\n",
       " 87,\n",
       " 128,\n",
       " 105,\n",
       " 105,\n",
       " 82,\n",
       " 86,\n",
       " 100,\n",
       " 88,\n",
       " 104,\n",
       " 87,\n",
       " 119,\n",
       " 118,\n",
       " 97,\n",
       " 114,\n",
       " 117,\n",
       " 102,\n",
       " 101,\n",
       " 96,\n",
       " 90,\n",
       " 114,\n",
       " 118,\n",
       " 113,\n",
       " 123,\n",
       " 129,\n",
       " 140,\n",
       " 180,\n",
       " 225,\n",
       " 249,\n",
       " 265,\n",
       " 306,\n",
       " 261,\n",
       " 222,\n",
       " 170,\n",
       " 160,\n",
       " 114,\n",
       " 175,\n",
       " 170,\n",
       " 115,\n",
       " 152,\n",
       " 105,\n",
       " 105,\n",
       " 93,\n",
       " 110,\n",
       " 102,\n",
       " 136,\n",
       " 76,\n",
       " 105,\n",
       " 130,\n",
       " 146,\n",
       " 146,\n",
       " 105,\n",
       " 146,\n",
       " 150,\n",
       " 114,\n",
       " 113,\n",
       " 117,\n",
       " 108,\n",
       " 103,\n",
       " 108,\n",
       " 138,\n",
       " 124,\n",
       " 139,\n",
       " 117,\n",
       " 103,\n",
       " 108,\n",
       " 146,\n",
       " 131,\n",
       " 113,\n",
       " 108,\n",
       " 125,\n",
       " 91,\n",
       " 97,\n",
       " 98,\n",
       " 119,\n",
       " 115,\n",
       " 123,\n",
       " 119,\n",
       " 127,\n",
       " 135,\n",
       " 137,\n",
       " 156,\n",
       " 160,\n",
       " 122,\n",
       " 111,\n",
       " 131,\n",
       " 192,\n",
       " 224,\n",
       " 254,\n",
       " 214,\n",
       " 236,\n",
       " 261,\n",
       " 247,\n",
       " 207,\n",
       " 254,\n",
       " 301,\n",
       " 233,\n",
       " 168,\n",
       " 179,\n",
       " 154,\n",
       " 152,\n",
       " 153,\n",
       " 202,\n",
       " 185,\n",
       " 158,\n",
       " 173,\n",
       " 180,\n",
       " 184,\n",
       " 259,\n",
       " 196,\n",
       " 213,\n",
       " 210,\n",
       " 179,\n",
       " 182,\n",
       " 216,\n",
       " 183,\n",
       " 185,\n",
       " 159,\n",
       " 180,\n",
       " 160,\n",
       " 154,\n",
       " 147,\n",
       " 138,\n",
       " 157,\n",
       " 134,\n",
       " 184,\n",
       " 134,\n",
       " 132,\n",
       " 119,\n",
       " 153,\n",
       " 185,\n",
       " 138,\n",
       " 150,\n",
       " 134,\n",
       " 160,\n",
       " 170,\n",
       " 175,\n",
       " 228,\n",
       " 237,\n",
       " 276,\n",
       " 173,\n",
       " 290,\n",
       " 295,\n",
       " 245,\n",
       " 241,\n",
       " 267,\n",
       " 269,\n",
       " 211,\n",
       " 186,\n",
       " 206,\n",
       " 202,\n",
       " 176,\n",
       " 236,\n",
       " 222,\n",
       " 203,\n",
       " 190,\n",
       " 190,\n",
       " 170,\n",
       " 156,\n",
       " 172,\n",
       " 174,\n",
       " 157,\n",
       " 178,\n",
       " 189,\n",
       " 174,\n",
       " 157,\n",
       " 173,\n",
       " 162,\n",
       " 151,\n",
       " 115,\n",
       " 152,\n",
       " 150,\n",
       " 186,\n",
       " 156,\n",
       " 230,\n",
       " 186,\n",
       " 150,\n",
       " 153,\n",
       " 167,\n",
       " 183,\n",
       " 244,\n",
       " 158,\n",
       " 155,\n",
       " 167,\n",
       " 157,\n",
       " 196,\n",
       " 243,\n",
       " 227,\n",
       " 259,\n",
       " 183,\n",
       " 166,\n",
       " 154,\n",
       " 396,\n",
       " 312,\n",
       " 268,\n",
       " 229,\n",
       " 197,\n",
       " 188,\n",
       " 176,\n",
       " 221,\n",
       " 225,\n",
       " 221,\n",
       " 202,\n",
       " 171,\n",
       " 185,\n",
       " 184,\n",
       " 276,\n",
       " 258,\n",
       " 219,\n",
       " 212,\n",
       " 192,\n",
       " 164,\n",
       " 192,\n",
       " 220,\n",
       " 196,\n",
       " 197,\n",
       " 204,\n",
       " 149,\n",
       " 156,\n",
       " 177,\n",
       " 210,\n",
       " 209,\n",
       " 231,\n",
       " 226,\n",
       " 155,\n",
       " 144,\n",
       " 172,\n",
       " 100]"
      ]
     },
     "execution_count": 69,
     "metadata": {},
     "output_type": "execute_result"
    }
   ],
   "source": [
    "# type conversion\n",
    "list(subs)"
   ]
  },
  {
   "cell_type": "code",
   "execution_count": 70,
   "metadata": {
    "colab": {
     "base_uri": "https://localhost:8080/"
    },
    "id": "VPV0VndRP56t",
    "outputId": "eb5c5533-2589-49c2-f6f5-970f2818d10e"
   },
   "outputs": [
    {
     "data": {
      "text/plain": [
       "{'Ôkami kodomo no Ame to Yuki': 'Aoi Miyazaki',\n",
       " 'À bout de souffle': 'Jean-Paul Belmondo',\n",
       " 'Zwartboek': 'Carice van Houten',\n",
       " 'Zulu': 'Stanley Baker',\n",
       " 'Zootopia': 'Rich Moore',\n",
       " 'Zombieland': 'Jesse Eisenberg',\n",
       " 'Zodiac': 'Jake Gyllenhaal',\n",
       " 'Zindagi Na Milegi Dobara': 'Hrithik Roshan',\n",
       " 'Zerkalo': 'Margarita Terekhova',\n",
       " 'Zelig': 'Woody Allen',\n",
       " 'Yôjinbô': 'Toshirô Mifune',\n",
       " 'Young Frankenstein': 'Gene Wilder',\n",
       " 'Yip Man': 'Donnie Yen',\n",
       " 'Ying xiong': 'Jet Li',\n",
       " 'Yeopgijeogin geunyeo': 'Tae-Hyun Cha',\n",
       " 'Y tu mamá también': 'Maribel Verdú',\n",
       " 'X: First Class': 'James McAvoy',\n",
       " 'X-Men: Days of Future Past': 'Patrick Stewart',\n",
       " 'Wreck-It Ralph': 'John C. Reilly',\n",
       " 'Wonder': 'Jacob Tremblay',\n",
       " 'Wo hu cang long': 'Yun-Fat Chow',\n",
       " 'Witness for the Prosecution': 'Tyrone Power',\n",
       " 'Withnail & I': 'Richard E. Grant',\n",
       " 'Wind River': 'Kelsey Asbille',\n",
       " 'Willy Wonka & the Chocolate Factory': 'Gene Wilder',\n",
       " \"Who's Afraid of Virginia Woolf?\": 'Elizabeth Taylor',\n",
       " 'Who Framed Roger Rabbit': 'Bob Hoskins',\n",
       " 'White Heat': 'James Cagney',\n",
       " 'Whiplash': 'Miles Teller',\n",
       " 'Where Eagles Dare': 'Richard Burton',\n",
       " 'When Harry Met Sally...': 'Billy Crystal',\n",
       " \"What's Eating Gilbert Grape\": 'Johnny Depp',\n",
       " 'What We Do in the Shadows': 'Taika Waititi',\n",
       " 'What Ever Happened to Baby Jane?': 'Bette Davis',\n",
       " 'Watership Down': 'John Hubley',\n",
       " 'Watchmen': 'Jackie Earle Haley',\n",
       " 'Warrior': 'Tom Hardy',\n",
       " 'Walk the Line': 'Joaquin Phoenix',\n",
       " 'Waking Life': 'Ethan Hawke',\n",
       " 'Wait Until Dark': 'Audrey Hepburn',\n",
       " 'WALL·E': 'Ben Burtt',\n",
       " 'Vozvrashchenie': 'Vladimir Garin',\n",
       " 'Vizontele': 'Ömer Faruk Sorak',\n",
       " 'Vivre sa vie: Film en douze tableaux': 'Anna Karina',\n",
       " 'Viskningar och rop': 'Harriet Andersson',\n",
       " 'Vikram Vedha': 'Pushkar',\n",
       " 'Victoria': 'Laia Costa',\n",
       " 'Vicky Donor': 'Ayushmann Khurrana',\n",
       " 'Vertigo': 'James Stewart',\n",
       " 'Veer-Zaara': 'Shah Rukh Khan',\n",
       " 'Vampire Hunter D: Bloodlust': 'Andrew Philpot',\n",
       " 'V for Vendetta': 'Hugo Weaving',\n",
       " 'Uri: The Surgical Strike': 'Vicky Kaushal',\n",
       " 'Up': 'Bob Peterson',\n",
       " 'Unforgiven': 'Clint Eastwood',\n",
       " 'Underground': \"Predrag 'Miki' Manojlovic\",\n",
       " 'Under sandet': 'Roland Møller',\n",
       " 'Un prophète': 'Tahar Rahim',\n",
       " 'Un long dimanche de fiançailles': 'Audrey Tautou',\n",
       " 'Udta Punjab': 'Shahid Kapoor',\n",
       " 'Udaan': 'Rajat Barmecha',\n",
       " 'Tôkyô monogatari': 'Chishû Ryû',\n",
       " 'Tôkyô goddofâzâzu': 'Shôgo Furuya',\n",
       " 'Twelve Monkeys': 'Bruce Willis',\n",
       " 'Tumbbad': 'Anand Gandhi',\n",
       " 'True Romance': 'Christian Slater',\n",
       " 'True Grit': 'Joel Coen',\n",
       " 'Tropa de Elite 2: O Inimigo Agora é Outro': 'Wagner Moura',\n",
       " 'Tropa de Elite': 'Wagner Moura',\n",
       " 'Trois couleurs: Rouge': 'Irène Jacob',\n",
       " 'Trois couleurs: Bleu': 'Juliette Binoche',\n",
       " 'Trois couleurs: Blanc': 'Zbigniew Zamachowski',\n",
       " 'Trainspotting': 'Ewan McGregor',\n",
       " 'Training Day': 'Denzel Washington',\n",
       " 'Toy Story 4': 'Tom Hanks',\n",
       " 'Toy Story 3': 'Tom Hanks',\n",
       " 'Toy Story 2': 'Ash Brannon',\n",
       " 'Toy Story': 'Tom Hanks',\n",
       " 'Touch of Evil': 'Charlton Heston',\n",
       " 'Tonari no Totoro': 'Hitoshi Takagi',\n",
       " 'Tombstone': 'Kevin Jarre',\n",
       " 'Toki o kakeru shôjo': 'Riisa Naka',\n",
       " 'Togo': 'Willem Dafoe',\n",
       " 'Todo sobre mi madre': 'Cecilia Roth',\n",
       " 'To Kill a Mockingbird': 'Gregory Peck',\n",
       " 'To Have and Have Not': 'Humphrey Bogart',\n",
       " 'To Be or Not to Be': 'Carole Lombard',\n",
       " 'Titanic': 'Leonardo DiCaprio',\n",
       " 'Three Billboards Outside Ebbing, Missouri': 'Frances McDormand',\n",
       " 'Thor: Ragnarok': 'Chris Hemsworth',\n",
       " 'This Is Spinal Tap': 'Rob Reiner',\n",
       " 'This Is England': 'Thomas Turgoose',\n",
       " 'There Will Be Blood': 'Daniel Day-Lewis',\n",
       " 'The Wrestler': 'Mickey Rourke',\n",
       " \"The World's Fastest Indian\": 'Anthony Hopkins',\n",
       " 'The Wolf of Wall Street': 'Leonardo DiCaprio',\n",
       " 'The Wizard of Oz': 'George Cukor',\n",
       " 'The Wild Bunch': 'William Holden',\n",
       " 'The Warriors': 'Michael Beck',\n",
       " 'The Visitor': 'Richard Jenkins',\n",
       " 'The Verdict': 'Paul Newman',\n",
       " 'The Usual Suspects': 'Kevin Spacey',\n",
       " 'The Untouchables': 'Kevin Costner',\n",
       " 'The Truman Show': 'Jim Carrey',\n",
       " 'The Trial of the Chicago 7': 'Eddie Redmayne',\n",
       " 'The Treasure of the Sierra Madre': 'Humphrey Bogart',\n",
       " 'The Third Man': 'Orson Welles',\n",
       " 'The Thing': 'Kurt Russell',\n",
       " 'The Thin Red Line': 'Jim Caviezel',\n",
       " 'The Thin Man': 'William Powell',\n",
       " 'The Theory of Everything': 'Eddie Redmayne',\n",
       " 'The Terminator': 'Arnold Schwarzenegger',\n",
       " 'The Ten Commandments': 'Charlton Heston',\n",
       " 'The Taking of Pelham One Two Three': 'Walter Matthau',\n",
       " 'The Straight Story': 'Richard Farnsworth',\n",
       " 'The Sting': 'Paul Newman',\n",
       " 'The Station Agent': 'Peter Dinklage',\n",
       " 'The Sound of Music': 'Julie Andrews',\n",
       " 'The Social Network': 'Jesse Eisenberg',\n",
       " 'The Sixth Sense': 'Bruce Willis',\n",
       " 'The Silence of the Lambs': 'Jodie Foster',\n",
       " 'The Shop Around the Corner': 'Margaret Sullavan',\n",
       " 'The Shining': 'Jack Nicholson',\n",
       " 'The Shawshank Redemption': 'Tim Robbins',\n",
       " 'The Secret of Kells': 'Nora Twomey',\n",
       " 'The Searchers': 'John Wayne',\n",
       " 'The Sandlot': 'Tom Guiry',\n",
       " 'The Royal Tenenbaums': 'Gene Hackman',\n",
       " 'The Right Stuff': 'Sam Shepard',\n",
       " 'The Revenant': 'Leonardo DiCaprio',\n",
       " 'The Remains of the Day': 'Anthony Hopkins',\n",
       " 'The Red Shoes': 'Emeric Pressburger',\n",
       " 'The Quiet Man': 'John Wayne',\n",
       " 'The Pursuit of Happyness': 'Will Smith',\n",
       " 'The Purple Rose of Cairo': 'Mia Farrow',\n",
       " 'The Princess Bride': 'Cary Elwes',\n",
       " 'The Prestige': 'Christian Bale',\n",
       " 'The Pianist': 'Adrien Brody',\n",
       " 'The Philadelphia Story': 'Cary Grant',\n",
       " 'The Perks of Being a Wallflower': 'Logan Lerman',\n",
       " 'The Peanut Butter Falcon': 'Michael Schwartz',\n",
       " 'The Outlaw Josey Wales': 'Clint Eastwood',\n",
       " 'The Others': 'Nicole Kidman',\n",
       " 'The Odd Couple': 'Jack Lemmon',\n",
       " 'The Notebook': 'Gena Rowlands',\n",
       " 'The Nightmare Before Christmas': 'Danny Elfman',\n",
       " 'The Night of the Hunter': 'Robert Mitchum',\n",
       " 'The Naked Gun: From the Files of Police Squad!': 'Leslie Nielsen',\n",
       " 'The Muppet Movie': 'Jim Henson',\n",
       " 'The Muppet Christmas Carol': 'Michael Caine',\n",
       " 'The Message': 'Anthony Quinn',\n",
       " 'The Matrix': 'Lilly Wachowski',\n",
       " 'The Martian': 'Matt Damon',\n",
       " 'The Manchurian Candidate': 'Frank Sinatra',\n",
       " 'The Man from Earth': 'David Lee Smith',\n",
       " 'The Man Who Would Be King': 'Sean Connery',\n",
       " 'The Man Who Shot Liberty Valance': 'James Stewart',\n",
       " 'The Maltese Falcon': 'Humphrey Bogart',\n",
       " 'The Magnificent Seven': 'Yul Brynner',\n",
       " 'The Magdalene Sisters': 'Eileen Walsh',\n",
       " 'The Machinist': 'Christian Bale',\n",
       " 'The Lunchbox': 'Irrfan Khan',\n",
       " 'The Lost Weekend': 'Ray Milland',\n",
       " 'The Lord of the Rings: The Two Towers': 'Elijah Wood',\n",
       " 'The Lord of the Rings: The Return of the King': 'Elijah Wood',\n",
       " 'The Lord of the Rings: The Fellowship of the Ring': 'Elijah Wood',\n",
       " 'The Longest Day': 'Andrew Marton',\n",
       " 'The Long Goodbye': 'Elliott Gould',\n",
       " 'The Lives of Others': 'Ulrich Mühe',\n",
       " 'The Little Mermaid': 'John Musker',\n",
       " 'The Lion in Winter': \"Peter O'Toole\",\n",
       " 'The Lion King': 'Rob Minkoff',\n",
       " 'The Lego Movie': 'Phil Lord',\n",
       " 'The Last of the Mohicans': 'Daniel Day-Lewis',\n",
       " 'The Last Samurai': 'Tom Cruise',\n",
       " 'The Last Picture Show': 'Timothy Bottoms',\n",
       " 'The Last King of Scotland': 'James McAvoy',\n",
       " 'The Last Emperor': 'John Lone',\n",
       " 'The Ladykillers': 'Alec Guinness',\n",
       " 'The Lady Vanishes': 'Margaret Lockwood',\n",
       " \"The King's Speech\": 'Colin Firth',\n",
       " 'The King of Comedy': 'Robert De Niro',\n",
       " 'The Killing Fields': 'Sam Waterston',\n",
       " 'The Killing': 'Sterling Hayden',\n",
       " 'The Kid': 'Charles Chaplin',\n",
       " 'The Jungle Book': 'Phil Harris',\n",
       " 'The Iron Giant': 'Eli Marienthal',\n",
       " 'The Irishman': 'Robert De Niro',\n",
       " 'The Invisible Man': 'Claude Rains',\n",
       " 'The Intouchables': 'Éric Toledano',\n",
       " 'The Insider': 'Russell Crowe',\n",
       " 'The Innocents': 'Deborah Kerr',\n",
       " 'The Incredibles': 'Craig T. Nelson',\n",
       " 'The Imitation Game': 'Benedict Cumberbatch',\n",
       " 'The Illusionist': 'Edward Norton',\n",
       " 'The Hustler': 'Paul Newman',\n",
       " 'The Hurricane': 'Denzel Washington',\n",
       " 'The Hobbit: The Desolation of Smaug': 'Ian McKellen',\n",
       " 'The Hobbit: An Unexpected Journey': 'Martin Freeman',\n",
       " 'The Help': 'Emma Stone',\n",
       " 'The Hateful Eight': 'Samuel L. Jackson',\n",
       " 'The Hangover': 'Zach Galifianakis',\n",
       " 'The Green Mile': 'Tom Hanks',\n",
       " 'The Great Escape': 'Steve McQueen',\n",
       " 'The Great Dictator': 'Charles Chaplin',\n",
       " 'The Grapes of Wrath': 'Henry Fonda',\n",
       " 'The Grand Budapest Hotel': 'Ralph Fiennes',\n",
       " 'The Graduate': 'Dustin Hoffman',\n",
       " 'The Goonies': 'Sean Astin',\n",
       " 'The Gold Rush': 'Charles Chaplin',\n",
       " 'The Godfather: Part III': 'Al Pacino',\n",
       " 'The Godfather: Part II': 'Al Pacino',\n",
       " 'The Godfather': 'Marlon Brando',\n",
       " 'The Girl with the Dragon Tattoo': 'Daniel Craig',\n",
       " 'The Gentlemen': 'Matthew McConaughey',\n",
       " 'The General': 'Buster Keaton',\n",
       " 'The Game': 'Michael Douglas',\n",
       " 'The Fugitive': 'Harrison Ford',\n",
       " 'The French Connection': 'Gene Hackman',\n",
       " 'The Florida Project': 'Brooklynn Prince',\n",
       " 'The Fighter': 'Mark Wahlberg',\n",
       " 'The Fifth Element': 'Bruce Willis',\n",
       " 'The Fault in Our Stars': 'Shailene Woodley',\n",
       " 'The Fall': 'Lee Pace',\n",
       " 'The Exorcist': 'Ellen Burstyn',\n",
       " 'The Elephant Man': 'Anthony Hopkins',\n",
       " 'The Dirty Dozen': 'Lee Marvin',\n",
       " 'The Departed': 'Leonardo DiCaprio',\n",
       " 'The Deer Hunter': 'Robert De Niro',\n",
       " 'The Day the Earth Stood Still': 'Michael Rennie',\n",
       " 'The Day of the Jackal': 'Edward Fox',\n",
       " 'The Dark Knight Rises': 'Christian Bale',\n",
       " 'The Dark Knight': 'Christian Bale',\n",
       " 'The Curious Case of Benjamin Button': 'Brad Pitt',\n",
       " 'The Count of Monte Cristo': 'Jim Caviezel',\n",
       " 'The Conversation': 'Gene Hackman',\n",
       " 'The Color Purple': 'Danny Glover',\n",
       " 'The Circus': 'Charles Chaplin',\n",
       " 'The Butterfly Effect': 'J. Mackye Gruber',\n",
       " 'The Broken Circle Breakdown': 'Veerle Baetens',\n",
       " 'The Bridges of Madison County': 'Clint Eastwood',\n",
       " 'The Bridge on the River Kwai': 'William Holden',\n",
       " 'The Breakfast Club': 'Emilio Estevez',\n",
       " 'The Boy in the Striped Pyjamas': 'Asa Butterfield',\n",
       " 'The Bourne Ultimatum': 'Matt Damon',\n",
       " 'The Bourne Supremacy': 'Matt Damon',\n",
       " 'The Bourne Identity': 'Franka Potente',\n",
       " 'The Boondock Saints': 'Willem Dafoe',\n",
       " 'The Blues Brothers': 'John Belushi',\n",
       " 'The Blind Side': 'Quinton Aaron',\n",
       " 'The Birds': 'Rod Taylor',\n",
       " 'The Big Sleep': 'Humphrey Bogart',\n",
       " 'The Big Short': 'Christian Bale',\n",
       " 'The Big Lebowski': 'Ethan Coen',\n",
       " 'The Best Years of Our Lives': 'Myrna Loy',\n",
       " 'The Avengers': 'Robert Downey Jr.',\n",
       " 'The Artist': 'Jean Dujardin',\n",
       " 'The Apartment': 'Jack Lemmon',\n",
       " 'The African Queen': 'Humphrey Bogart',\n",
       " 'The Adventures of Robin Hood': 'William Keighley',\n",
       " 'The 39 Steps': 'Robert Donat',\n",
       " 'Terminator 2: Judgment Day': 'Arnold Schwarzenegger',\n",
       " 'Tenkû no shiro Rapyuta': 'Mayumi Tanaka',\n",
       " 'Tengoku to jigoku': 'Toshirô Mifune',\n",
       " 'Taxi Driver': 'Robert De Niro',\n",
       " 'Tangled': 'Byron Howard',\n",
       " 'Talvar': 'Irrfan Khan',\n",
       " 'Taken': 'Liam Neeson',\n",
       " 'Taegukgi hwinalrimyeo': 'Jang Dong-Gun',\n",
       " 'Taare Zameen Par': 'Amole Gupte',\n",
       " 'Synecdoche, New York': 'Philip Seymour Hoffman',\n",
       " 'Sweet Smell of Success': 'Burt Lancaster',\n",
       " 'Swades: We, the People': 'Shah Rukh Khan',\n",
       " 'Sunset Blvd.': 'William Holden',\n",
       " 'Sunrise: A Song of Two Humans': \"George O'Brien\",\n",
       " 'Strangers on a Train': 'Farley Granger',\n",
       " 'Straight Outta Compton': \"O'Shea Jackson Jr.\",\n",
       " 'Stardust': 'Charlie Cox',\n",
       " 'Star Wars: Episode VII - The Force Awakens': 'Daisy Ridley',\n",
       " 'Star Wars: Episode VI - Return of the Jedi': 'Mark Hamill',\n",
       " 'Star Wars: Episode V - The Empire Strikes Back': 'Mark Hamill',\n",
       " 'Star Wars': 'Mark Hamill',\n",
       " 'Star Trek Into Darkness': 'Chris Pine',\n",
       " 'Star Trek II: The Wrath of Khan': 'William Shatner',\n",
       " 'Star Trek': 'Chris Pine',\n",
       " 'Stand by Me': 'Wil Wheaton',\n",
       " 'Stalker': 'Alisa Freyndlikh',\n",
       " 'Stalag 17': 'William Holden',\n",
       " 'Stagecoach': 'John Wayne',\n",
       " 'Spotlight': 'Mark Ruffalo',\n",
       " 'Spoorloos': 'Bernard-Pierre Donnadieu',\n",
       " 'Spider-Man: Into the Spider-Verse': 'Peter Ramsey',\n",
       " 'Special Chabbis': 'Akshay Kumar',\n",
       " 'Spartacus': 'Kirk Douglas',\n",
       " 'South Park: Bigger, Longer & Uncut': 'Trey Parker',\n",
       " 'Sound of Metal': 'Riz Ahmed',\n",
       " 'Soul': 'Kemp Powers',\n",
       " 'Soorarai Pottru': 'Suriya',\n",
       " 'Song of the Sea': 'David Rawle',\n",
       " 'Some Like It Hot': 'Marilyn Monroe',\n",
       " 'Solaris': 'Natalya Bondarchuk',\n",
       " 'Snatch': 'Jason Statham',\n",
       " 'Smultronstället': 'Victor Sjöström',\n",
       " 'Slumdog Millionaire': 'Loveleen Tandan',\n",
       " 'Sling Blade': 'Billy Bob Thornton',\n",
       " 'Sleuth': 'Laurence Olivier',\n",
       " 'Sleepers': 'Robert De Niro',\n",
       " 'Skyfall': 'Daniel Craig',\n",
       " \"Singin' in the Rain\": 'Gene Kelly',\n",
       " 'Sing Street': 'Ferdia Walsh-Peelo',\n",
       " 'Sin City': 'Quentin Tarantino',\n",
       " 'Silver Linings Playbook': 'Bradley Cooper',\n",
       " 'Sicario': 'Emily Blunt',\n",
       " 'Shutter Island': 'Leonardo DiCaprio',\n",
       " 'Shrek': 'Vicky Jenson',\n",
       " 'Short Term 12': 'Brie Larson',\n",
       " 'Short Cuts': 'Andie MacDowell',\n",
       " 'Sholay': 'Sanjeev Kumar',\n",
       " 'Shine': 'Geoffrey Rush',\n",
       " 'Shin seiki Evangelion Gekijô-ban: Air/Magokoro wo, kimi ni': 'Kazuya Tsurumaki',\n",
       " 'Shichinin no samurai': 'Toshirô Mifune',\n",
       " 'Sherlock Jr.': 'Buster Keaton',\n",
       " 'Sherlock Holmes': 'Robert Downey Jr.',\n",
       " 'Shaun of the Dead': 'Simon Pegg',\n",
       " 'Shadow of a Doubt': 'Teresa Wright',\n",
       " 'Seven Pounds': 'Will Smith',\n",
       " 'Serpico': 'Al Pacino',\n",
       " 'Serenity': 'Nathan Fillion',\n",
       " 'Serbuan maut 2: Berandal': 'Iko Uwais',\n",
       " 'Serbuan maut': 'Iko Uwais',\n",
       " 'Seppuku': 'Tatsuya Nakadai',\n",
       " 'Sense and Sensibility': 'Emma Thompson',\n",
       " 'Sen to Chihiro no kamikakushi': 'Daveigh Chase',\n",
       " 'Secrets & Lies': 'Timothy Spall',\n",
       " 'Searching': 'John Cho',\n",
       " 'Se7en': 'Morgan Freeman',\n",
       " \"Schindler's List\": 'Liam Neeson',\n",
       " 'Scent of a Woman': 'Al Pacino',\n",
       " 'Scarface: The Shame of the Nation': 'Richard Rosson',\n",
       " 'Scarface': 'Al Pacino',\n",
       " 'Saw': 'Cary Elwes',\n",
       " 'Saving Private Ryan': 'Tom Hanks',\n",
       " 'Sanjuro': 'Toshirô Mifune',\n",
       " 'Salinui chueok': 'Kang-ho Song',\n",
       " 'Sabrina': 'Humphrey Bogart',\n",
       " 'Rushmore': 'Jason Schwartzman',\n",
       " 'Rush': 'Daniel Brühl',\n",
       " 'Rupan sansei: Kariosutoro no shiro': 'Yasuo Yamada',\n",
       " \"Rosemary's Baby\": 'Mia Farrow',\n",
       " 'Rope': 'James Stewart',\n",
       " 'Room': 'Brie Larson',\n",
       " 'Roman Holiday': 'Gregory Peck',\n",
       " 'Roma': 'Yalitza Aparicio',\n",
       " 'Rogue One': 'Felicity Jones',\n",
       " 'Rocky': 'Sylvester Stallone',\n",
       " 'Rockstar': 'Ranbir Kapoor',\n",
       " 'Road to Perdition': 'Tom Hanks',\n",
       " 'Rio Bravo': 'John Wayne',\n",
       " 'Reservoir Dogs': 'Harvey Keitel',\n",
       " 'Requiem for a Dream': 'Ellen Burstyn',\n",
       " 'Repulsion': 'Catherine Deneuve',\n",
       " 'Remember the Titans': 'Denzel Washington',\n",
       " 'Relatos salvajes': 'Darío Grandinetti',\n",
       " 'Red River': 'Arthur Rosson',\n",
       " 'Rebel Without a Cause': 'James Dean',\n",
       " 'Rebecca': 'Laurence Olivier',\n",
       " 'Rear Window': 'James Stewart',\n",
       " 'Ray': 'Jamie Foxx',\n",
       " 'Ratatouille': 'Jan Pinkava',\n",
       " 'Rashômon': 'Toshirô Mifune',\n",
       " 'Rang De Basanti': 'Aamir Khan',\n",
       " 'Ran': 'Tatsuya Nakadai',\n",
       " 'Rain Man': 'Dustin Hoffman',\n",
       " 'Raiders of the Lost Ark': 'Harrison Ford',\n",
       " 'Raging Bull': 'Robert De Niro',\n",
       " 'Raazi': 'Alia Bhatt',\n",
       " 'Queen': 'Kangana Ranaut',\n",
       " 'Pâfekuto burû': 'Junko Iwao',\n",
       " 'Pulp Fiction': 'John Travolta',\n",
       " 'Psycho': 'Anthony Perkins',\n",
       " 'Prisoners': 'Hugh Jackman',\n",
       " 'Primal Fear': 'Richard Gere',\n",
       " 'Pride & Prejudice': 'Keira Knightley',\n",
       " 'Pride': 'Bill Nighy',\n",
       " 'Predator': 'Arnold Schwarzenegger',\n",
       " 'Portrait de la jeune fille en feu': 'Noémie Merlant',\n",
       " 'Platoon': 'Charlie Sheen',\n",
       " 'Planet of the Apes': 'Charlton Heston',\n",
       " 'Planes, Trains & Automobiles': 'Steve Martin',\n",
       " 'Pirates of the Caribbean: The Curse of the Black Pearl': 'Johnny Depp',\n",
       " 'Pink Floyd: The Wall': 'Bob Geldof',\n",
       " 'Pink': 'Taapsee Pannu',\n",
       " 'Philomena': 'Judi Dench',\n",
       " 'Philadelphia': 'Tom Hanks',\n",
       " 'Persona': 'Bibi Andersson',\n",
       " 'Persepolis': 'Marjane Satrapi',\n",
       " 'Perfetti sconosciuti': 'Giuseppe Battiston',\n",
       " 'Per un pugno di dollari': 'Clint Eastwood',\n",
       " 'Per qualche dollaro in più': 'Clint Eastwood',\n",
       " 'Peeping Tom': 'Karlheinz Böhm',\n",
       " 'Patton': 'George C. Scott',\n",
       " 'Paths of Glory': 'Kirk Douglas',\n",
       " 'Paris, Texas': 'Harry Dean Stanton',\n",
       " 'Papurika': 'Megumi Hayashibara',\n",
       " 'Papillon': 'Steve McQueen',\n",
       " 'Paper Moon': \"Ryan O'Neal\",\n",
       " \"Pan's Labyrinth\": 'Ivana Baquero',\n",
       " 'Paddington 2': 'Ben Whishaw',\n",
       " 'Paan Singh Tomar': 'Irrfan Khan',\n",
       " 'PK': 'Aamir Khan',\n",
       " 'Out of the Past': 'Robert Mitchum',\n",
       " 'Ordinary People': 'Donald Sutherland',\n",
       " 'Only the Brave': 'Josh Brolin',\n",
       " \"One Flew Over the Cuckoo's Nest\": 'Jack Nicholson',\n",
       " 'Ondskan': 'Andreas Wilson',\n",
       " 'Once Were Warriors': 'Rena Owen',\n",
       " 'Once Upon a Time... in Hollywood': 'Leonardo DiCaprio',\n",
       " 'Once Upon a Time in the West': 'Henry Fonda',\n",
       " 'Once Upon a Time in America': 'Robert De Niro',\n",
       " 'Once': 'Glen Hansard',\n",
       " 'On the Waterfront': 'Marlon Brando',\n",
       " 'On Golden Pond': 'Katharine Hepburn',\n",
       " 'Omoide no Mânî': 'Hiromasa Yonebayashi',\n",
       " 'Omohide poro poro': 'Miki Imai',\n",
       " 'Oldeuboi': 'Choi Min-sik',\n",
       " 'Okuribito': 'Masahiro Motoki',\n",
       " 'Office Space': 'Ron Livingston',\n",
       " 'October Sky': 'Jake Gyllenhaal',\n",
       " \"Ocean's Eleven\": 'George Clooney',\n",
       " 'OMG: Oh My God!': 'Paresh Rawal',\n",
       " 'O Brother, Where Art Thou?': 'Ethan Coen',\n",
       " 'Nuovo Cinema Paradiso': 'Philippe Noiret',\n",
       " 'Nueve reinas': 'Ricardo Darín',\n",
       " 'Notorious': 'Cary Grant',\n",
       " 'Nosferatu': 'Max Schreck',\n",
       " 'North by Northwest': 'Cary Grant',\n",
       " \"No Man's Land\": 'Branko Djuric',\n",
       " 'No Country for Old Men': 'Joel Coen',\n",
       " 'Nightcrawler': 'Jake Gyllenhaal',\n",
       " 'Night on Earth': 'Winona Ryder',\n",
       " 'Night of the Living Dead': 'Duane Jones',\n",
       " 'Network': 'Faye Dunaway',\n",
       " 'Nelyubov': 'Maryana Spivak',\n",
       " 'Nefes: Vatan Sagolsun': 'Erdem Can',\n",
       " 'Nebraska': 'Bruce Dern',\n",
       " 'Naked': 'David Thewlis',\n",
       " 'Män som hatar kvinnor': 'Michael Nyqvist',\n",
       " 'Mystic River': 'Sean Penn',\n",
       " 'Mysterious Skin': 'Brady Corbet',\n",
       " 'My Name Is Khan': 'Shah Rukh Khan',\n",
       " 'My Left Foot: The Story of Christy Brown': 'Daniel Day-Lewis',\n",
       " 'My Fair Lady': 'Audrey Hepburn',\n",
       " 'My Cousin Vinny': 'Joe Pesci',\n",
       " 'Mustang': 'Günes Sensoy',\n",
       " 'Munna Bhai M.B.B.S.': 'Sanjay Dutt',\n",
       " 'Mulholland Dr.': 'Naomi Watts',\n",
       " 'Mulan': 'Barry Cook',\n",
       " 'Mr. Smith Goes to Washington': 'James Stewart',\n",
       " 'Mr. Nobody': 'Jared Leto',\n",
       " 'Mou gaan dou': 'Alan Mak',\n",
       " 'Moonrise Kingdom': 'Jared Gilman',\n",
       " 'Moon': 'Sam Rockwell',\n",
       " 'Monty Python and the Holy Grail': 'Terry Jones',\n",
       " 'Monsters, Inc.': 'David Silverman',\n",
       " 'Mononoke-hime': 'Yôji Matsuda',\n",
       " 'Moneyball': 'Brad Pitt',\n",
       " 'Mommy': 'Anne Dorval',\n",
       " 'Modern Times': 'Charles Chaplin',\n",
       " 'Moana': 'John Musker',\n",
       " 'Mississippi Burning': 'Gene Hackman',\n",
       " 'Mission: Impossible - Fallout': 'Tom Cruise',\n",
       " 'Misery': 'James Caan',\n",
       " 'Miracle on 34th Street': 'Edmund Gwenn',\n",
       " 'Miracle in cell NO.7': 'Aras Bulut Iynemli',\n",
       " 'Minority Report': 'Tom Cruise',\n",
       " 'Mimi wo sumaseba': 'Yoko Honna',\n",
       " 'Million Dollar Baby': 'Hilary Swank',\n",
       " \"Miller's Crossing\": 'Ethan Coen',\n",
       " 'Midnight in Paris': 'Owen Wilson',\n",
       " 'Midnight Express': 'Brad Davis',\n",
       " 'Midnight Cowboy': 'Dustin Hoffman',\n",
       " 'Metropolis': 'Brigitte Helm',\n",
       " 'Memento': 'Guy Pearce',\n",
       " 'Me and Earl and the Dying Girl': 'Thomas Mann',\n",
       " 'Match Point': 'Scarlett Johansson',\n",
       " 'Mary and Max': 'Toni Collette',\n",
       " 'Mary Poppins': 'Julie Andrews',\n",
       " 'Marriage Story': 'Adam Driver',\n",
       " 'Mar adentro': 'Javier Bardem',\n",
       " 'Manhattan': 'Woody Allen',\n",
       " 'Mandariinid': 'Lembit Ulfsak',\n",
       " 'Manchester by the Sea': 'Casey Affleck',\n",
       " 'Manbiki kazoku': 'Lily Franky',\n",
       " 'Man on Fire': 'Denzel Washington',\n",
       " 'Malcolm X': 'Denzel Washington',\n",
       " 'Majo no takkyûbin': 'Kirsten Dunst',\n",
       " 'Magnolia': 'Tom Cruise',\n",
       " 'Madeo': 'Hye-ja Kim',\n",
       " 'Mad Max: Fury Road': 'Tom Hardy',\n",
       " 'Mad Max 2': 'Mel Gibson',\n",
       " 'M.S. Dhoni: The Untold Story': 'Sushant Singh Rajput',\n",
       " 'M - Eine Stadt sucht einen Mörder': 'Peter Lorre',\n",
       " 'Léon': 'Jean Reno',\n",
       " 'Låt den rätte komma in': 'Kåre Hedebrant',\n",
       " 'Lucky Number Slevin': 'Josh Hartnett',\n",
       " 'Loving Vincent': 'Hugh Welchman',\n",
       " 'Love and Death': 'Woody Allen',\n",
       " 'Lost in Translation': 'Bill Murray',\n",
       " 'Lost Highway': 'Bill Pullman',\n",
       " 'Lord of War': 'Nicolas Cage',\n",
       " 'Lola rennt': 'Franka Potente',\n",
       " 'Logan': 'Hugh Jackman',\n",
       " 'Lock, Stock and Two Smoking Barrels': 'Jason Flemyng',\n",
       " 'Little Women': 'Saoirse Ronan',\n",
       " 'Little Miss Sunshine': 'Valerie Faris',\n",
       " 'Lion': 'Dev Patel',\n",
       " 'Lilja 4-ever': 'Oksana Akinshina',\n",
       " 'Lifeboat': 'Tallulah Bankhead',\n",
       " 'Life of Pi': 'Suraj Sharma',\n",
       " 'Life of Brian': 'Graham Chapman',\n",
       " 'Leviafan': 'Aleksey Serebryakov',\n",
       " 'Letters from Iwo Jima': 'Ken Watanabe',\n",
       " 'Lethal Weapon': 'Mel Gibson',\n",
       " 'Les yeux sans visage': 'Pierre Brasseur',\n",
       " 'Les triplettes de Belleville': 'Michèle Caucheteux',\n",
       " 'Les quatre cents coups': 'Jean-Pierre Léaud',\n",
       " 'Les diaboliques': 'Simone Signoret',\n",
       " 'Les choristes': 'Gérard Jugnot',\n",
       " 'Le scaphandre et le papillon': 'Laura Obiols',\n",
       " 'Le samouraï': 'Alain Delon',\n",
       " 'Le salaire de la peur': 'Yves Montand',\n",
       " 'Le passé': 'Bérénice Bejo',\n",
       " 'Le notti di Cabiria': 'Giulietta Masina',\n",
       " 'Le locataire': 'Roman Polanski',\n",
       " 'Le dîner de cons': 'Thierry Lhermitte',\n",
       " 'Le charme discret de la bourgeoisie': 'Fernando Rey',\n",
       " 'Le Petit Prince': 'Jeff Bridges',\n",
       " 'Lawrence of Arabia': \"Peter O'Toole\",\n",
       " 'Laura': 'Gene Tierney',\n",
       " 'Lat sau san taam': 'Yun-Fat Chow',\n",
       " 'Lage Raho Munna Bhai': 'Sanjay Dutt',\n",
       " 'Lagaan: Once Upon a Time in India': 'Aamir Khan',\n",
       " 'Ladri di biciclette': 'Lamberto Maggiorani',\n",
       " 'La vita è bella': 'Roberto Benigni',\n",
       " \"La vie d'Adèle\": 'Léa Seydoux',\n",
       " 'La règle du jeu': 'Marcel Dalio',\n",
       " 'La planète sauvage': 'Barry Bostwick',\n",
       " 'La piel que habito': 'Antonio Banderas',\n",
       " \"La passion de Jeanne d'Arc\": 'Maria Falconetti',\n",
       " 'La montaña sagrada': 'Alejandro Jodorowsky',\n",
       " 'La migliore offerta': 'Geoffrey Rush',\n",
       " \"La leggenda del pianista sull'oceano\": 'Tim Roth',\n",
       " 'La haine': 'Vincent Cassel',\n",
       " 'La grande bellezza': 'Toni Servillo',\n",
       " 'La double vie de Véronique': 'Irène Jacob',\n",
       " 'La dolce vita': 'Marcello Mastroianni',\n",
       " 'La battaglia di Algeri': 'Brahim Hadjadj',\n",
       " 'La Vie En Rose': 'Marion Cotillard',\n",
       " 'La Strada': 'Anthony Quinn',\n",
       " 'La La Land': 'Ryan Gosling',\n",
       " 'La Grande Illusion': 'Jean Gabin',\n",
       " 'L.A. Confidential': 'Kevin Spacey',\n",
       " \"L'avventura\": 'Gabriele Ferzetti',\n",
       " 'Kôkaku Kidôtai': 'Atsuko Tanaka',\n",
       " 'Kurenai no buta': 'Shûichirô Moriyama',\n",
       " 'Kung fu': 'Stephen Chow',\n",
       " 'Kumonosu-jô': 'Toshirô Mifune',\n",
       " 'Kubo and the Two Strings': 'Charlize Theron',\n",
       " 'Kramer vs. Kramer': 'Dustin Hoffman',\n",
       " 'Kokuhaku': 'Takako Matsu',\n",
       " 'Koe no katachi': 'Miyu Irino',\n",
       " \"Knockin' on Heaven's Door\": 'Til Schweiger',\n",
       " 'Knives Out': 'Daniel Craig',\n",
       " 'Klaus': 'Carlos Martínez López',\n",
       " 'Kis Uykusu': 'Haluk Bilginer',\n",
       " 'Kingsman: The Secret Service': 'Colin Firth',\n",
       " 'King Kong': 'Ernest B. Schoedsack',\n",
       " 'Kind Hearts and Coronets': 'Dennis Price',\n",
       " 'Kimi no na wa.': 'Ryûnosuke Kamiki',\n",
       " 'Kill Bill: Vol. 2': 'Uma Thurman',\n",
       " 'Kill Bill: Vol. 1': 'Uma Thurman',\n",
       " 'Kick-Ass': 'Aaron Taylor-Johnson',\n",
       " 'Key Largo': 'Humphrey Bogart',\n",
       " \"Kelly's Heroes\": 'Clint Eastwood',\n",
       " 'Kaze tachinu': 'Hideaki Anno',\n",
       " 'Kaze no tani no Naushika': 'Sumi Shimamoto',\n",
       " 'Kari-gurashi no Arietti': 'Amy Poehler',\n",
       " 'Kal Ho Naa Ho': 'Preity Zinta',\n",
       " 'Kakushi-toride no san-akunin': 'Toshirô Mifune',\n",
       " 'Kai po che!': 'Amit Sadh',\n",
       " 'Kahaani': 'Vidya Balan',\n",
       " 'Kaguyahime no monogatari': 'Chloë Grace Moretz',\n",
       " 'Kagemusha': 'Tatsuya Nakadai',\n",
       " 'K.G.F: Chapter 1': 'Yash',\n",
       " 'Jûbê ninpûchô': 'Kôichi Yamadera',\n",
       " 'Just Mercy': 'Michael B. Jordan',\n",
       " 'Jurassic Park': 'Sam Neill',\n",
       " 'Jungfrukällan': 'Max von Sydow',\n",
       " 'Jules et Jim': 'Jeanne Moreau',\n",
       " 'Judgment at Nuremberg': 'Spencer Tracy',\n",
       " 'Joyeux Noël': 'Diane Kruger',\n",
       " 'Joker': 'Joaquin Phoenix',\n",
       " 'Jojo Rabbit': 'Roman Griffin Davis',\n",
       " 'Jodaeiye Nader az Simin': 'Payman Maadi',\n",
       " \"Jeux d'enfants\": 'Guillaume Canet',\n",
       " 'Jaws': 'Roy Scheider',\n",
       " 'Jagten': 'Mads Mikkelsen',\n",
       " 'Jab We Met': 'Shahid Kapoor',\n",
       " 'JFK': 'Kevin Costner',\n",
       " 'Ivanovo detstvo': 'Eduard Abalov',\n",
       " \"It's a Wonderful Life\": 'James Stewart',\n",
       " 'It Happened One Night': 'Clark Gable',\n",
       " 'Isle of Dogs': 'Bryan Cranston',\n",
       " 'Iron Man': 'Robert Downey Jr.',\n",
       " 'Invasion of the Body Snatchers': 'Kevin McCarthy',\n",
       " 'Into the Wild': 'Emile Hirsch',\n",
       " 'Interstellar': 'Matthew McConaughey',\n",
       " 'Interstate 60: Episodes of the Road': 'James Marsden',\n",
       " 'Inside Out': 'Ronnie Del Carmen',\n",
       " 'Inside Man': 'Denzel Washington',\n",
       " 'Inherit the Wind': 'Spencer Tracy',\n",
       " 'Inglourious Basterds': 'Brad Pitt',\n",
       " 'Indiana Jones and the Last Crusade': 'Harrison Ford',\n",
       " 'Incredibles 2': 'Craig T. Nelson',\n",
       " 'Inception': 'Leonardo DiCaprio',\n",
       " 'Incendies': 'Lubna Azabal',\n",
       " 'In the Name of the Father': 'Daniel Day-Lewis',\n",
       " 'In the Heat of the Night': 'Sidney Poitier',\n",
       " 'In a Lonely Place': 'Humphrey Bogart',\n",
       " 'In Bruges': 'Colin Farrell',\n",
       " 'In America': 'Paddy Considine',\n",
       " 'Il postino': 'Massimo Troisi',\n",
       " 'Il conformista': 'Jean-Louis Trintignant',\n",
       " 'Il buono, il brutto, il cattivo': 'Clint Eastwood',\n",
       " 'Ikiru': 'Takashi Shimura',\n",
       " 'Idi i smotri': 'Aleksey Kravchenko',\n",
       " 'I, Daniel Blake': 'Laura Obiols',\n",
       " 'I Am Sam': 'Sean Penn',\n",
       " 'Höstsonaten': 'Ingrid Bergman',\n",
       " 'Hævnen': 'Mikael Persbrandt',\n",
       " 'Huo Yuan Jia': 'Jet Li',\n",
       " 'Hunt for the Wilderpeople': 'Sam Neill',\n",
       " 'How to Train Your Dragon 2': 'Jay Baruchel',\n",
       " 'How to Train Your Dragon': 'Chris Sanders',\n",
       " 'Hotel Rwanda': 'Don Cheadle',\n",
       " 'Hotaru no haka': 'Tsutomu Tatsumi',\n",
       " 'Hot Fuzz': 'Simon Pegg',\n",
       " 'Home Alone': 'Macaulay Culkin',\n",
       " 'His Girl Friday': 'Cary Grant',\n",
       " 'Hiroshima mon amour': 'Emmanuelle Riva',\n",
       " 'High Noon': 'Gary Cooper',\n",
       " 'Hidden Figures': 'Taraji P. Henson',\n",
       " 'Hera Pheri': 'Akshay Kumar',\n",
       " 'Her': 'Joaquin Phoenix',\n",
       " 'Hell or High Water': 'Chris Pine',\n",
       " 'Hedwig and the Angry Inch': 'John Cameron Mitchell',\n",
       " 'Heat': 'Al Pacino',\n",
       " 'Hauru no ugoku shiro': 'Chieko Baishô',\n",
       " 'Harvey': 'James Stewart',\n",
       " \"Harry Potter and the Sorcerer's Stone\": 'Daniel Radcliffe',\n",
       " 'Harry Potter and the Prisoner of Azkaban': 'Daniel Radcliffe',\n",
       " 'Harry Potter and the Half-Blood Prince': 'Daniel Radcliffe',\n",
       " 'Harry Potter and the Goblet of Fire': 'Daniel Radcliffe',\n",
       " 'Harry Potter and the Deathly Hallows: Part 2': 'Daniel Radcliffe',\n",
       " 'Harry Potter and the Deathly Hallows: Part 1': 'Daniel Radcliffe',\n",
       " 'Harold and Maude': 'Ruth Gordon',\n",
       " 'Happiness': 'Jane Adams',\n",
       " 'Hannah and Her Sisters': 'Mia Farrow',\n",
       " 'Hana-bi': 'Takeshi Kitano',\n",
       " 'Hamlet': 'Kenneth Branagh',\n",
       " 'Hamilton': 'Lin-Manuel Miranda',\n",
       " 'Halloween': 'Donald Pleasence',\n",
       " 'Haider': 'Shahid Kapoor',\n",
       " 'Hacksaw Ridge': 'Andrew Garfield',\n",
       " \"Hachi: A Dog's Tale\": 'Richard Gere',\n",
       " 'Hable con ella': 'Rosario Flores',\n",
       " 'Gully Boy': 'Vijay Varma',\n",
       " \"Guess Who's Coming to Dinner\": 'Spencer Tracy',\n",
       " 'Guardians of the Galaxy Vol. 2': 'Chris Pratt',\n",
       " 'Guardians of the Galaxy': 'Chris Pratt',\n",
       " 'Groundhog Day': 'Bill Murray',\n",
       " 'Green Book': 'Viggo Mortensen',\n",
       " 'Gravity': 'Sandra Bullock',\n",
       " 'Gran Torino': 'Clint Eastwood',\n",
       " 'Goodfellas': 'Robert De Niro',\n",
       " 'Good Will Hunting': 'Robin Williams',\n",
       " 'Good Bye Lenin!': 'Daniel Brühl',\n",
       " 'Gongdong gyeongbi guyeok JSA': 'Lee Yeong-ae',\n",
       " 'Gone with the Wind': 'George Cukor',\n",
       " 'Gone Girl': 'Ben Affleck',\n",
       " 'Gone Baby Gone': 'Morgan Freeman',\n",
       " 'Goldfinger': 'Sean Connery',\n",
       " \"God's Own Country\": \"Josh O'Connor\",\n",
       " 'Glory': 'Matthew Broderick',\n",
       " 'Glengarry Glen Ross': 'Al Pacino',\n",
       " 'Gladiator': 'Russell Crowe',\n",
       " 'Giù la testa': 'Rod Steiger',\n",
       " 'Gisaengchung': 'Kang-ho Song',\n",
       " 'Gilda': 'Rita Hayworth',\n",
       " 'Gifted': 'Chris Evans',\n",
       " 'Giant': 'Elizabeth Taylor',\n",
       " 'Ghostbusters': 'Bill Murray',\n",
       " 'Get Out': 'Daniel Kaluuya',\n",
       " 'Gegen die Wand': 'Birol Ünel',\n",
       " 'Gattaca': 'Ethan Hawke',\n",
       " 'Gangs of Wasseypur': 'Manoj Bajpayee',\n",
       " 'Gandhi': 'Ben Kingsley',\n",
       " 'Gake no ue no Ponyo': 'Cate Blanchett',\n",
       " 'G.O.R.A.': 'Cem Yilmaz',\n",
       " 'Funny Games': 'Susanne Lothar',\n",
       " 'Full Metal Jacket': 'Matthew Modine',\n",
       " 'Frost/Nixon': 'Frank Langella',\n",
       " 'From Here to Eternity': 'Burt Lancaster',\n",
       " 'Fried Green Tomatoes': 'Kathy Bates',\n",
       " 'Freaks': 'Wallace Ford',\n",
       " 'Frankenstein': 'Colin Clive',\n",
       " 'Forushande': 'Shahab Hosseini',\n",
       " 'Forrest Gump': 'Tom Hanks',\n",
       " 'Ford v Ferrari': 'Matt Damon',\n",
       " 'Flipped': 'Madeline Carroll',\n",
       " 'Fitzcarraldo': 'Klaus Kinski',\n",
       " 'First Blood': 'Sylvester Stallone',\n",
       " 'Finding Neverland': 'Johnny Depp',\n",
       " 'Finding Nemo': 'Lee Unkrich',\n",
       " 'Fight Club': 'Brad Pitt',\n",
       " 'Fiddler on the Roof': 'Topol',\n",
       " 'Festen': 'Ulrich Thomsen',\n",
       " \"Ferris Bueller's Day Off\": 'Matthew Broderick',\n",
       " 'Fear and Loathing in Las Vegas': 'Johnny Depp',\n",
       " 'Fargo': 'Ethan Coen',\n",
       " 'Fantastic Mr. Fox': 'George Clooney',\n",
       " 'Fantasia': 'Samuel Armstrong',\n",
       " 'Fanny och Alexander': 'Bertil Guve',\n",
       " 'Falling Down': 'Michael Douglas',\n",
       " 'Fa yeung nin wah': 'Tony Chiu-Wai Leung',\n",
       " 'Ex Machina': 'Alicia Vikander',\n",
       " 'Evil Dead II': 'Bruce Campbell',\n",
       " 'Eternal Sunshine of the Spotless Mind': 'Jim Carrey',\n",
       " 'Eskiya': 'Sener Sen',\n",
       " 'Escape from Alcatraz': 'Clint Eastwood',\n",
       " 'Enter the Dragon': 'Bruce Lee',\n",
       " 'English Vinglish': 'Sridevi',\n",
       " 'Enemy at the Gates': 'Jude Law',\n",
       " 'End of Watch': 'Jake Gyllenhaal',\n",
       " 'En man som heter Ove': 'Rolf Lassgård',\n",
       " 'Empire of the Sun': 'Christian Bale',\n",
       " 'El ángel exterminador': 'Silvia Pinal',\n",
       " 'El secreto de sus ojos': 'Ricardo Darín',\n",
       " 'El cuerpo': 'Jose Coronado',\n",
       " 'Efter brylluppet': 'Mads Mikkelsen',\n",
       " 'Edward Scissorhands': 'Johnny Depp',\n",
       " 'Edge of Tomorrow': 'Tom Cruise',\n",
       " 'Ed Wood': 'Johnny Depp',\n",
       " 'Eastern Promises': 'Naomi Watts',\n",
       " 'East of Eden': 'James Dean',\n",
       " 'E.T. the Extra-Terrestrial': 'Henry Thomas',\n",
       " 'Dà hóng denglong gaogao guà': 'Gong Li',\n",
       " 'Dunkirk': 'Fionn Whitehead',\n",
       " 'Duck Soup': 'Groucho Marx',\n",
       " 'Du rififi chez les hommes': 'Jean Servais',\n",
       " 'Druk': 'Mads Mikkelsen',\n",
       " 'Drive': 'Ryan Gosling',\n",
       " 'Drishyam': movie\n",
       " Drishyam    Ajay Devgn\n",
       " Drishyam      Mohanlal\n",
       " Name: lead, dtype: object,\n",
       " 'Dr. Strangelove or: How I Learned to Stop Worrying and Love the Bomb': 'Peter Sellers',\n",
       " 'Down by Law': 'Tom Waits',\n",
       " 'Double Indemnity': 'Fred MacMurray',\n",
       " 'Donnie Darko': 'Jake Gyllenhaal',\n",
       " 'Donnie Brasco': 'Al Pacino',\n",
       " 'Dom za vesanje': 'Davor Dujmovic',\n",
       " 'Dogville': 'Nicole Kidman',\n",
       " 'Dog Day Afternoon': 'Al Pacino',\n",
       " 'Doctor Zhivago': 'Omar Sharif',\n",
       " 'Do the Right Thing': 'Danny Aiello',\n",
       " 'Do lok tin si': 'Leon Lai',\n",
       " 'Django Unchained': 'Jamie Foxx',\n",
       " 'District 9': 'Sharlto Copley',\n",
       " 'Dirty Harry': 'Clint Eastwood',\n",
       " 'Dip huet seung hung': 'Yun-Fat Chow',\n",
       " 'Dilwale Dulhania Le Jayenge': 'Shah Rukh Khan',\n",
       " 'Dil Chahta Hai': 'Aamir Khan',\n",
       " 'Dil Bechara': 'Sushant Singh Rajput',\n",
       " 'Die Welle': 'Jürgen Vogel',\n",
       " 'Die Hard: With a Vengeance': 'Bruce Willis',\n",
       " 'Die Hard': 'Bruce Willis',\n",
       " 'Diarios de motocicleta': 'Gael García Bernal',\n",
       " 'Dial M for Murder': 'Ray Milland',\n",
       " 'Dev.D': 'Abhay Deol',\n",
       " 'Detachment': 'Adrien Brody',\n",
       " 'Det sjunde inseglet': 'Max von Sydow',\n",
       " 'Despicable Me': 'Chris Renaud',\n",
       " 'Der Untergang': 'Bruno Ganz',\n",
       " 'Der Name der Rose': 'Sean Connery',\n",
       " 'Der Himmel über Berlin': 'Bruno Ganz',\n",
       " 'Deliverance': 'Jon Voight',\n",
       " 'Delicatessen': 'Jean-Pierre Jeunet',\n",
       " 'Death Note: Desu nôto': 'Tatsuya Fujiwara',\n",
       " 'Deadpool 2': 'Ryan Reynolds',\n",
       " 'Deadpool': 'Ryan Reynolds',\n",
       " 'Dead Poets Society': 'Robin Williams',\n",
       " \"Dead Man's Shoes\": 'Paddy Considine',\n",
       " 'Dead Man': 'Johnny Depp',\n",
       " 'Dazed and Confused': 'Jason London',\n",
       " 'Days of Heaven': 'Richard Gere',\n",
       " 'Dawn of the Planet of the Apes': 'Gary Oldman',\n",
       " 'Dawn of the Dead': 'David Emge',\n",
       " 'Das weiße Band - Eine deutsche Kindergeschichte': 'Christian Friedel',\n",
       " 'Das Experiment': 'Moritz Bleibtreu',\n",
       " 'Das Cabinet des Dr. Caligari': 'Werner Krauss',\n",
       " 'Das Boot': 'Jürgen Prochnow',\n",
       " 'Dark Waters': 'Mark Ruffalo',\n",
       " 'Dark City': 'Rufus Sewell',\n",
       " 'Darbareye Elly': 'Golshifteh Farahani',\n",
       " 'Dangal': 'Aamir Khan',\n",
       " 'Dances with Wolves': 'Kevin Costner',\n",
       " 'Dancer in the Dark': 'Björk',\n",
       " 'Dallas Buyers Club': 'Matthew McConaughey',\n",
       " 'Crna macka, beli macor': 'Bajram Severdzan',\n",
       " 'Crimes and Misdemeanors': 'Martin Landau',\n",
       " 'Creed': 'Michael B. Jordan',\n",
       " 'Crash': 'Don Cheadle',\n",
       " 'Cowboy Bebop: Tengoku no tobira': 'Tensai Okamura',\n",
       " 'Coraline': 'Dakota Fanning',\n",
       " 'Cool Hand Luke': 'Paul Newman',\n",
       " 'Control': 'Sam Riley',\n",
       " 'Contratiempo': 'Mario Casas',\n",
       " 'Coco': 'Adrian Molina',\n",
       " 'Close Encounters of the Third Kind': 'Richard Dreyfuss',\n",
       " 'Clerks': \"Brian O'Halloran\",\n",
       " 'City Lights': 'Charles Chaplin',\n",
       " 'Citizen Kane': 'Orson Welles',\n",
       " 'Cinderella Man': 'Russell Crowe',\n",
       " 'Cidade de Deus': 'Kátia Lund',\n",
       " 'Chung Hing sam lam': 'Brigitte Lin',\n",
       " 'Chugyeokja': 'Kim Yoon-seok',\n",
       " 'Chinatown': 'Jack Nicholson',\n",
       " 'Children of Men': 'Julianne Moore',\n",
       " 'Chhichhore': 'Sushant Singh Rajput',\n",
       " 'Charade': 'Cary Grant',\n",
       " 'Changeling': 'Angelina Jolie',\n",
       " 'Chak De! India': 'Shah Rukh Khan',\n",
       " 'Central do Brasil': 'Fernanda Montenegro',\n",
       " 'Celda 211': 'Luis Tosar',\n",
       " 'Catch Me If You Can': 'Leonardo DiCaprio',\n",
       " 'Cat on a Hot Tin Roof': 'Elizabeth Taylor',\n",
       " 'Cast Away': 'Tom Hanks',\n",
       " 'Casino Royale': 'Daniel Craig',\n",
       " 'Casino': 'Robert De Niro',\n",
       " 'Casablanca': 'Humphrey Bogart',\n",
       " \"Carlito's Way\": 'Al Pacino',\n",
       " 'Captain Phillips': 'Tom Hanks',\n",
       " 'Captain Fantastic': 'Viggo Mortensen',\n",
       " 'Captain America: The Winter Soldier': 'Joe Russo',\n",
       " 'Captain America: Civil War': 'Joe Russo',\n",
       " 'Capharnaüm': 'Zain Al Rafeea',\n",
       " 'Cape Fear': 'Gregory Peck',\n",
       " 'Call Me by Your Name': 'Armie Hammer',\n",
       " 'Cabaret': 'Liza Minnelli',\n",
       " 'C.R.A.Z.Y.': 'Michel Côté',\n",
       " 'Bãhubali: The Beginning': 'Prabhas',\n",
       " 'Butch Cassidy and the Sundance Kid': 'Paul Newman',\n",
       " 'Bronenosets Potemkin': 'Aleksandr Antonov',\n",
       " 'Brokeback Mountain': 'Jake Gyllenhaal',\n",
       " 'Bringing Up Baby': 'Katharine Hepburn',\n",
       " 'Brief Encounter': 'Celia Johnson',\n",
       " 'Bridge of Spies': 'Tom Hanks',\n",
       " 'Bride of Frankenstein': 'Boris Karloff',\n",
       " 'Breaking the Waves': 'Emily Watson',\n",
       " \"Breakfast at Tiffany's\": 'Audrey Hepburn',\n",
       " 'Brazil': 'Jonathan Pryce',\n",
       " 'Braveheart': 'Mel Gibson',\n",
       " 'Boyz n the Hood': 'Cuba Gooding Jr.',\n",
       " 'Boyhood': 'Ellar Coltrane',\n",
       " 'Bound by Honor': 'Damian Chapa',\n",
       " 'Boogie Nights': 'Mark Wahlberg',\n",
       " 'Bonnie and Clyde': 'Warren Beatty',\n",
       " 'Bom Yeoareum Gaeul Gyeoul Geurigo Bom': 'Ki-duk Kim',\n",
       " 'Boksuneun naui geot': 'Kang-ho Song',\n",
       " 'Bohemian Rhapsody': 'Rami Malek',\n",
       " 'Blue Velvet': 'Isabella Rossellini',\n",
       " 'Blowup': 'David Hemmings',\n",
       " 'Blow': 'Johnny Depp',\n",
       " 'Blood Simple': 'Ethan Coen',\n",
       " 'Blood Diamond': 'Leonardo DiCaprio',\n",
       " 'Blazing Saddles': 'Cleavon Little',\n",
       " 'Blade Runner 2049': 'Harrison Ford',\n",
       " 'Blade Runner': 'Harrison Ford',\n",
       " 'Black Swan': 'Natalie Portman',\n",
       " 'Black Hawk Down': 'Josh Hartnett',\n",
       " 'Black': 'Amitabh Bachchan',\n",
       " 'Birdman or (The Unexpected Virtue of Ignorance)': 'Michael Keaton',\n",
       " \"Bir Zamanlar Anadolu'da\": 'Muhammet Uzuner',\n",
       " 'Bin-jip': 'Seung-Yun Lee',\n",
       " 'Billy Elliot': 'Jamie Bell',\n",
       " 'Big Hero 6': 'Chris Williams',\n",
       " 'Big Fish': 'Ewan McGregor',\n",
       " 'Bhaag Milkha Bhaag': 'Farhan Akhtar',\n",
       " 'Ben-Hur': 'Charlton Heston',\n",
       " 'Belle de jour': 'Catherine Deneuve',\n",
       " 'Being There': 'Peter Sellers',\n",
       " 'Being John Malkovich': 'John Cusack',\n",
       " 'Before Sunset': 'Ethan Hawke',\n",
       " 'Before Sunrise': 'Ethan Hawke',\n",
       " 'Before Midnight': 'Ethan Hawke',\n",
       " 'Beauty and the Beast': 'Kirk Wise',\n",
       " 'Beasts of No Nation': 'Abraham Attah',\n",
       " 'Batoru rowaiaru': 'Tatsuya Fujiwara',\n",
       " 'Batman: Mask of the Phantasm': 'Boyd Kirkland',\n",
       " 'Batman Begins': 'Christian Bale',\n",
       " 'Barton Fink': 'Ethan Coen',\n",
       " 'Barry Lyndon': \"Ryan O'Neal\",\n",
       " 'Barfi!': 'Ranbir Kapoor',\n",
       " 'Bajrangi Bhaijaan': 'Salman Khan',\n",
       " 'Badlands': 'Martin Sheen',\n",
       " 'Badhaai ho': 'Ayushmann Khurrana',\n",
       " 'Back to the Future Part II': 'Michael J. Fox',\n",
       " 'Back to the Future': 'Michael J. Fox',\n",
       " 'Bacheha-Ye aseman': 'Mohammad Amir Naji',\n",
       " 'Baby Driver': 'Ansel Elgort',\n",
       " 'Baby': 'Akshay Kumar',\n",
       " 'Babam ve Oglum': 'Çetin Tekindor',\n",
       " 'Baahubali 2: The Conclusion': 'Prabhas',\n",
       " 'Ba wang bie ji': 'Leslie Cheung',\n",
       " 'Ayla: The Daughter of War': 'Erdem Can',\n",
       " 'Awakenings': 'Robert De Niro',\n",
       " 'Avengers: Infinity War': 'Joe Russo',\n",
       " 'Avengers: Endgame': 'Joe Russo',\n",
       " 'Avatar': 'Sam Worthington',\n",
       " 'Auf der anderen Seite': 'Baki Davrak',\n",
       " 'Au revoir les enfants': 'Gaspard Manesse',\n",
       " 'Atonement': 'Keira Knightley',\n",
       " 'As Good as It Gets': 'Jack Nicholson',\n",
       " 'Arsenic and Old Lace': 'Cary Grant',\n",
       " 'Arrival': 'Amy Adams',\n",
       " 'Argo': 'Ben Affleck',\n",
       " 'Apollo 13': 'Tom Hanks',\n",
       " 'Apocalypto': 'Gerardo Taracena',\n",
       " 'Apocalypse Now': 'Martin Sheen',\n",
       " 'Annie Hall': 'Woody Allen',\n",
       " 'Ang-ma-reul bo-at-da': 'Lee Byung-Hun',\n",
       " 'Andrei Rublev': 'Anatoliy Solonitsyn',\n",
       " 'Andhadhun': 'Ayushmann Khurrana',\n",
       " 'Andaz Apna Apna': 'Aamir Khan',\n",
       " 'Anatomy of a Murder': 'James Stewart',\n",
       " 'Anand': 'Rajesh Khanna',\n",
       " 'Amélie': 'Audrey Tautou',\n",
       " 'Amour': 'Jean-Louis Trintignant',\n",
       " 'Amores perros': 'Emilio Echevarría',\n",
       " 'American Psycho': 'Christian Bale',\n",
       " 'American History X': 'Edward Norton',\n",
       " 'American Gangster': 'Denzel Washington',\n",
       " 'American Beauty': 'Kevin Spacey',\n",
       " 'Amarcord': 'Magali Noël',\n",
       " 'Amadeus': 'F. Murray Abraham',\n",
       " 'Almost Famous': 'Billy Crudup',\n",
       " \"All the President's Men\": 'Dustin Hoffman',\n",
       " 'All That Jazz': 'Roy Scheider',\n",
       " 'All Quiet on the Western Front': 'Lew Ayres',\n",
       " 'All About Eve': 'Bette Davis',\n",
       " 'Aliens': 'Sigourney Weaver',\n",
       " 'Alien': 'Sigourney Weaver',\n",
       " 'Aladdin': 'John Musker',\n",
       " 'Akira': 'Mitsuo Iwata',\n",
       " 'Ajeossi': 'Won Bin',\n",
       " 'Airplane!': 'David Zucker',\n",
       " 'Airlift': 'Akshay Kumar',\n",
       " 'Ah-ga-ssi': 'Kim Min-hee',\n",
       " 'Aguirre, der Zorn Gottes': 'Klaus Kinski',\n",
       " 'After Hours': 'Griffin Dunne',\n",
       " 'Adaptation.': 'Nicolas Cage',\n",
       " 'Adams æbler': 'Ulrich Thomsen',\n",
       " 'Ace in the Hole': 'Kirk Douglas',\n",
       " 'Abre los ojos': 'Eduardo Noriega',\n",
       " 'About Time': 'Domhnall Gleeson',\n",
       " 'A Wednesday': 'Anupam Kher',\n",
       " 'A Streetcar Named Desire': 'Vivien Leigh',\n",
       " 'A Star Is Born': 'Lady Gaga',\n",
       " 'A Night at the Opera': 'Edmund Goulding',\n",
       " 'A Man for All Seasons': 'Paul Scofield',\n",
       " 'A Little Princess': 'Liesel Matthews',\n",
       " \"A Hard Day's Night\": 'John Lennon',\n",
       " 'A Few Good Men': 'Tom Cruise',\n",
       " 'A Clockwork Orange': 'Malcolm McDowell',\n",
       " 'A Christmas Story': 'Peter Billingsley',\n",
       " 'A Bronx Tale': 'Robert De Niro',\n",
       " 'A Beautiful Mind': 'Russell Crowe',\n",
       " '8½': 'Marcello Mastroianni',\n",
       " '50/50': 'Joseph Gordon-Levitt',\n",
       " '4 luni, 3 saptamâni si 2 zile': 'Anamaria Marinca',\n",
       " '3:10 to Yuma': 'Russell Crowe',\n",
       " '300': 'Gerard Butler',\n",
       " '3 Idiots': 'Aamir Khan',\n",
       " '28 Days Later...': 'Cillian Murphy',\n",
       " '25th Hour': 'Edward Norton',\n",
       " '21 Grams': 'Sean Penn',\n",
       " '2001: A Space Odyssey': 'Keir Dullea',\n",
       " '1917': 'Dean-Charles Chapman',\n",
       " '12 Years a Slave': 'Chiwetel Ejiofor',\n",
       " '12 Angry Men': 'Henry Fonda',\n",
       " '(500) Days of Summer': 'Zooey Deschanel',\n",
       " '2 States (2014 film)': 'Alia Bhatt',\n",
       " ...}"
      ]
     },
     "execution_count": 70,
     "metadata": {},
     "output_type": "execute_result"
    }
   ],
   "source": [
    "dict(movies)"
   ]
  },
  {
   "cell_type": "code",
   "execution_count": 71,
   "metadata": {
    "colab": {
     "base_uri": "https://localhost:8080/"
    },
    "id": "ScG8OTsIt3yS",
    "outputId": "8f002760-75d0-44be-d43f-a21b3b5ee84f"
   },
   "outputs": [
    {
     "data": {
      "text/plain": [
       "True"
      ]
     },
     "execution_count": 71,
     "metadata": {},
     "output_type": "execute_result"
    }
   ],
   "source": [
    "# membership operator\n",
    "\n",
    "'2 States (2014 film)' in movies"
   ]
  },
  {
   "cell_type": "code",
   "execution_count": 72,
   "metadata": {
    "colab": {
     "base_uri": "https://localhost:8080/"
    },
    "id": "R8woF_08QP7D",
    "outputId": "550f3d87-af4a-49c1-a321-359c88877695"
   },
   "outputs": [
    {
     "data": {
      "text/plain": [
       "True"
      ]
     },
     "execution_count": 72,
     "metadata": {},
     "output_type": "execute_result"
    }
   ],
   "source": [
    "'Alia Bhatt' in movies.values"
   ]
  },
  {
   "cell_type": "code",
   "execution_count": 73,
   "metadata": {
    "colab": {
     "base_uri": "https://localhost:8080/"
    },
    "id": "IGjHY4OAQLCC",
    "outputId": "a1394b4a-a632-48a5-c73c-633a20956da3"
   },
   "outputs": [
    {
     "data": {
      "text/plain": [
       "movie\n",
       "Ôkami kodomo no Ame to Yuki          Aoi Miyazaki\n",
       "À bout de souffle              Jean-Paul Belmondo\n",
       "Zwartboek                       Carice van Houten\n",
       "Zulu                                Stanley Baker\n",
       "Zootopia                               Rich Moore\n",
       "                                      ...        \n",
       "12 Years a Slave                 Chiwetel Ejiofor\n",
       "12 Angry Men                          Henry Fonda\n",
       "(500) Days of Summer              Zooey Deschanel\n",
       "2 States (2014 film)                   Alia Bhatt\n",
       "Goszilla vs Bugsbunny                    Iron Man\n",
       "Name: lead, Length: 1002, dtype: object"
      ]
     },
     "execution_count": 73,
     "metadata": {},
     "output_type": "execute_result"
    }
   ],
   "source": [
    "movies"
   ]
  },
  {
   "cell_type": "code",
   "execution_count": 74,
   "metadata": {
    "colab": {
     "base_uri": "https://localhost:8080/"
    },
    "id": "IXnzfjhxt41A",
    "outputId": "fdd25164-e07d-4c86-fdb5-28b2c74ab4c3"
   },
   "outputs": [
    {
     "name": "stdout",
     "output_type": "stream",
     "text": [
      "Ôkami kodomo no Ame to Yuki\n",
      "À bout de souffle\n",
      "Zwartboek\n",
      "Zulu\n",
      "Zootopia\n",
      "Zombieland\n",
      "Zodiac\n",
      "Zindagi Na Milegi Dobara\n",
      "Zerkalo\n",
      "Zelig\n",
      "Yôjinbô\n",
      "Young Frankenstein\n",
      "Yip Man\n",
      "Ying xiong\n",
      "Yeopgijeogin geunyeo\n",
      "Y tu mamá también\n",
      "X: First Class\n",
      "X-Men: Days of Future Past\n",
      "Wreck-It Ralph\n",
      "Wonder\n",
      "Wo hu cang long\n",
      "Witness for the Prosecution\n",
      "Withnail & I\n",
      "Wind River\n",
      "Willy Wonka & the Chocolate Factory\n",
      "Who's Afraid of Virginia Woolf?\n",
      "Who Framed Roger Rabbit\n",
      "White Heat\n",
      "Whiplash\n",
      "Where Eagles Dare\n",
      "When Harry Met Sally...\n",
      "What's Eating Gilbert Grape\n",
      "What We Do in the Shadows\n",
      "What Ever Happened to Baby Jane?\n",
      "Watership Down\n",
      "Watchmen\n",
      "Warrior\n",
      "Walk the Line\n",
      "Waking Life\n",
      "Wait Until Dark\n",
      "WALL·E\n",
      "Vozvrashchenie\n",
      "Vizontele\n",
      "Vivre sa vie: Film en douze tableaux\n",
      "Viskningar och rop\n",
      "Vikram Vedha\n",
      "Victoria\n",
      "Vicky Donor\n",
      "Vertigo\n",
      "Veer-Zaara\n",
      "Vampire Hunter D: Bloodlust\n",
      "V for Vendetta\n",
      "Uri: The Surgical Strike\n",
      "Up\n",
      "Unforgiven\n",
      "Underground\n",
      "Under sandet\n",
      "Un prophète\n",
      "Un long dimanche de fiançailles\n",
      "Udta Punjab\n",
      "Udaan\n",
      "Tôkyô monogatari\n",
      "Tôkyô goddofâzâzu\n",
      "Twelve Monkeys\n",
      "Tumbbad\n",
      "True Romance\n",
      "True Grit\n",
      "Tropa de Elite 2: O Inimigo Agora é Outro\n",
      "Tropa de Elite\n",
      "Trois couleurs: Rouge\n",
      "Trois couleurs: Bleu\n",
      "Trois couleurs: Blanc\n",
      "Trainspotting\n",
      "Training Day\n",
      "Toy Story 4\n",
      "Toy Story 3\n",
      "Toy Story 2\n",
      "Toy Story\n",
      "Touch of Evil\n",
      "Tonari no Totoro\n",
      "Tombstone\n",
      "Toki o kakeru shôjo\n",
      "Togo\n",
      "Todo sobre mi madre\n",
      "To Kill a Mockingbird\n",
      "To Have and Have Not\n",
      "To Be or Not to Be\n",
      "Titanic\n",
      "Three Billboards Outside Ebbing, Missouri\n",
      "Thor: Ragnarok\n",
      "This Is Spinal Tap\n",
      "This Is England\n",
      "There Will Be Blood\n",
      "The Wrestler\n",
      "The World's Fastest Indian\n",
      "The Wolf of Wall Street\n",
      "The Wizard of Oz\n",
      "The Wild Bunch\n",
      "The Warriors\n",
      "The Visitor\n",
      "The Verdict\n",
      "The Usual Suspects\n",
      "The Untouchables\n",
      "The Truman Show\n",
      "The Trial of the Chicago 7\n",
      "The Treasure of the Sierra Madre\n",
      "The Third Man\n",
      "The Thing\n",
      "The Thin Red Line\n",
      "The Thin Man\n",
      "The Theory of Everything\n",
      "The Terminator\n",
      "The Ten Commandments\n",
      "The Taking of Pelham One Two Three\n",
      "The Straight Story\n",
      "The Sting\n",
      "The Station Agent\n",
      "The Sound of Music\n",
      "The Social Network\n",
      "The Sixth Sense\n",
      "The Silence of the Lambs\n",
      "The Shop Around the Corner\n",
      "The Shining\n",
      "The Shawshank Redemption\n",
      "The Secret of Kells\n",
      "The Searchers\n",
      "The Sandlot\n",
      "The Royal Tenenbaums\n",
      "The Right Stuff\n",
      "The Revenant\n",
      "The Remains of the Day\n",
      "The Red Shoes\n",
      "The Quiet Man\n",
      "The Pursuit of Happyness\n",
      "The Purple Rose of Cairo\n",
      "The Princess Bride\n",
      "The Prestige\n",
      "The Pianist\n",
      "The Philadelphia Story\n",
      "The Perks of Being a Wallflower\n",
      "The Peanut Butter Falcon\n",
      "The Outlaw Josey Wales\n",
      "The Others\n",
      "The Odd Couple\n",
      "The Notebook\n",
      "The Nightmare Before Christmas\n",
      "The Night of the Hunter\n",
      "The Naked Gun: From the Files of Police Squad!\n",
      "The Muppet Movie\n",
      "The Muppet Christmas Carol\n",
      "The Message\n",
      "The Matrix\n",
      "The Martian\n",
      "The Manchurian Candidate\n",
      "The Man from Earth\n",
      "The Man Who Would Be King\n",
      "The Man Who Shot Liberty Valance\n",
      "The Maltese Falcon\n",
      "The Magnificent Seven\n",
      "The Magdalene Sisters\n",
      "The Machinist\n",
      "The Lunchbox\n",
      "The Lost Weekend\n",
      "The Lord of the Rings: The Two Towers\n",
      "The Lord of the Rings: The Return of the King\n",
      "The Lord of the Rings: The Fellowship of the Ring\n",
      "The Longest Day\n",
      "The Long Goodbye\n",
      "The Lives of Others\n",
      "The Little Mermaid\n",
      "The Lion in Winter\n",
      "The Lion King\n",
      "The Lego Movie\n",
      "The Last of the Mohicans\n",
      "The Last Samurai\n",
      "The Last Picture Show\n",
      "The Last King of Scotland\n",
      "The Last Emperor\n",
      "The Ladykillers\n",
      "The Lady Vanishes\n",
      "The King's Speech\n",
      "The King of Comedy\n",
      "The Killing Fields\n",
      "The Killing\n",
      "The Kid\n",
      "The Jungle Book\n",
      "The Iron Giant\n",
      "The Irishman\n",
      "The Invisible Man\n",
      "The Intouchables\n",
      "The Insider\n",
      "The Innocents\n",
      "The Incredibles\n",
      "The Imitation Game\n",
      "The Illusionist\n",
      "The Hustler\n",
      "The Hurricane\n",
      "The Hobbit: The Desolation of Smaug\n",
      "The Hobbit: An Unexpected Journey\n",
      "The Help\n",
      "The Hateful Eight\n",
      "The Hangover\n",
      "The Green Mile\n",
      "The Great Escape\n",
      "The Great Dictator\n",
      "The Grapes of Wrath\n",
      "The Grand Budapest Hotel\n",
      "The Graduate\n",
      "The Goonies\n",
      "The Gold Rush\n",
      "The Godfather: Part III\n",
      "The Godfather: Part II\n",
      "The Godfather\n",
      "The Girl with the Dragon Tattoo\n",
      "The Gentlemen\n",
      "The General\n",
      "The Game\n",
      "The Fugitive\n",
      "The French Connection\n",
      "The Florida Project\n",
      "The Fighter\n",
      "The Fifth Element\n",
      "The Fault in Our Stars\n",
      "The Fall\n",
      "The Exorcist\n",
      "The Elephant Man\n",
      "The Dirty Dozen\n",
      "The Departed\n",
      "The Deer Hunter\n",
      "The Day the Earth Stood Still\n",
      "The Day of the Jackal\n",
      "The Dark Knight Rises\n",
      "The Dark Knight\n",
      "The Curious Case of Benjamin Button\n",
      "The Count of Monte Cristo\n",
      "The Conversation\n",
      "The Color Purple\n",
      "The Circus\n",
      "The Butterfly Effect\n",
      "The Broken Circle Breakdown\n",
      "The Bridges of Madison County\n",
      "The Bridge on the River Kwai\n",
      "The Breakfast Club\n",
      "The Boy in the Striped Pyjamas\n",
      "The Bourne Ultimatum\n",
      "The Bourne Supremacy\n",
      "The Bourne Identity\n",
      "The Boondock Saints\n",
      "The Blues Brothers\n",
      "The Blind Side\n",
      "The Birds\n",
      "The Big Sleep\n",
      "The Big Short\n",
      "The Big Lebowski\n",
      "The Best Years of Our Lives\n",
      "The Avengers\n",
      "The Artist\n",
      "The Apartment\n",
      "The African Queen\n",
      "The Adventures of Robin Hood\n",
      "The 39 Steps\n",
      "Terminator 2: Judgment Day\n",
      "Tenkû no shiro Rapyuta\n",
      "Tengoku to jigoku\n",
      "Taxi Driver\n",
      "Tangled\n",
      "Talvar\n",
      "Taken\n",
      "Taegukgi hwinalrimyeo\n",
      "Taare Zameen Par\n",
      "Synecdoche, New York\n",
      "Sweet Smell of Success\n",
      "Swades: We, the People\n",
      "Sunset Blvd.\n",
      "Sunrise: A Song of Two Humans\n",
      "Strangers on a Train\n",
      "Straight Outta Compton\n",
      "Stardust\n",
      "Star Wars: Episode VII - The Force Awakens\n",
      "Star Wars: Episode VI - Return of the Jedi\n",
      "Star Wars: Episode V - The Empire Strikes Back\n",
      "Star Wars\n",
      "Star Trek Into Darkness\n",
      "Star Trek II: The Wrath of Khan\n",
      "Star Trek\n",
      "Stand by Me\n",
      "Stalker\n",
      "Stalag 17\n",
      "Stagecoach\n",
      "Spotlight\n",
      "Spoorloos\n",
      "Spider-Man: Into the Spider-Verse\n",
      "Special Chabbis\n",
      "Spartacus\n",
      "South Park: Bigger, Longer & Uncut\n",
      "Sound of Metal\n",
      "Soul\n",
      "Soorarai Pottru\n",
      "Song of the Sea\n",
      "Some Like It Hot\n",
      "Solaris\n",
      "Snatch\n",
      "Smultronstället\n",
      "Slumdog Millionaire\n",
      "Sling Blade\n",
      "Sleuth\n",
      "Sleepers\n",
      "Skyfall\n",
      "Singin' in the Rain\n",
      "Sing Street\n",
      "Sin City\n",
      "Silver Linings Playbook\n",
      "Sicario\n",
      "Shutter Island\n",
      "Shrek\n",
      "Short Term 12\n",
      "Short Cuts\n",
      "Sholay\n",
      "Shine\n",
      "Shin seiki Evangelion Gekijô-ban: Air/Magokoro wo, kimi ni\n",
      "Shichinin no samurai\n",
      "Sherlock Jr.\n",
      "Sherlock Holmes\n",
      "Shaun of the Dead\n",
      "Shadow of a Doubt\n",
      "Seven Pounds\n",
      "Serpico\n",
      "Serenity\n",
      "Serbuan maut 2: Berandal\n",
      "Serbuan maut\n",
      "Seppuku\n",
      "Sense and Sensibility\n",
      "Sen to Chihiro no kamikakushi\n",
      "Secrets & Lies\n",
      "Searching\n",
      "Se7en\n",
      "Schindler's List\n",
      "Scent of a Woman\n",
      "Scarface: The Shame of the Nation\n",
      "Scarface\n",
      "Saw\n",
      "Saving Private Ryan\n",
      "Sanjuro\n",
      "Salinui chueok\n",
      "Sabrina\n",
      "Rushmore\n",
      "Rush\n",
      "Rupan sansei: Kariosutoro no shiro\n",
      "Rosemary's Baby\n",
      "Rope\n",
      "Room\n",
      "Roman Holiday\n",
      "Roma\n",
      "Rogue One\n",
      "Rocky\n",
      "Rockstar\n",
      "Road to Perdition\n",
      "Rio Bravo\n",
      "Reservoir Dogs\n",
      "Requiem for a Dream\n",
      "Repulsion\n",
      "Remember the Titans\n",
      "Relatos salvajes\n",
      "Red River\n",
      "Rebel Without a Cause\n",
      "Rebecca\n",
      "Rear Window\n",
      "Ray\n",
      "Ratatouille\n",
      "Rashômon\n",
      "Rang De Basanti\n",
      "Ran\n",
      "Rain Man\n",
      "Raiders of the Lost Ark\n",
      "Raging Bull\n",
      "Raazi\n",
      "Queen\n",
      "Pâfekuto burû\n",
      "Pulp Fiction\n",
      "Psycho\n",
      "Prisoners\n",
      "Primal Fear\n",
      "Pride & Prejudice\n",
      "Pride\n",
      "Predator\n",
      "Portrait de la jeune fille en feu\n",
      "Platoon\n",
      "Planet of the Apes\n",
      "Planes, Trains & Automobiles\n",
      "Pirates of the Caribbean: The Curse of the Black Pearl\n",
      "Pink Floyd: The Wall\n",
      "Pink\n",
      "Philomena\n",
      "Philadelphia\n",
      "Persona\n",
      "Persepolis\n",
      "Perfetti sconosciuti\n",
      "Per un pugno di dollari\n",
      "Per qualche dollaro in più\n",
      "Peeping Tom\n",
      "Patton\n",
      "Paths of Glory\n",
      "Paris, Texas\n",
      "Papurika\n",
      "Papillon\n",
      "Paper Moon\n",
      "Pan's Labyrinth\n",
      "Paddington 2\n",
      "Paan Singh Tomar\n",
      "PK\n",
      "Out of the Past\n",
      "Ordinary People\n",
      "Only the Brave\n",
      "One Flew Over the Cuckoo's Nest\n",
      "Ondskan\n",
      "Once Were Warriors\n",
      "Once Upon a Time... in Hollywood\n",
      "Once Upon a Time in the West\n",
      "Once Upon a Time in America\n",
      "Once\n",
      "On the Waterfront\n",
      "On Golden Pond\n",
      "Omoide no Mânî\n",
      "Omohide poro poro\n",
      "Oldeuboi\n",
      "Okuribito\n",
      "Office Space\n",
      "October Sky\n",
      "Ocean's Eleven\n",
      "OMG: Oh My God!\n",
      "O Brother, Where Art Thou?\n",
      "Nuovo Cinema Paradiso\n",
      "Nueve reinas\n",
      "Notorious\n",
      "Nosferatu\n",
      "North by Northwest\n",
      "No Man's Land\n",
      "No Country for Old Men\n",
      "Nightcrawler\n",
      "Night on Earth\n",
      "Night of the Living Dead\n",
      "Network\n",
      "Nelyubov\n",
      "Nefes: Vatan Sagolsun\n",
      "Nebraska\n",
      "Naked\n",
      "Män som hatar kvinnor\n",
      "Mystic River\n",
      "Mysterious Skin\n",
      "My Name Is Khan\n",
      "My Left Foot: The Story of Christy Brown\n",
      "My Fair Lady\n",
      "My Cousin Vinny\n",
      "Mustang\n",
      "Munna Bhai M.B.B.S.\n",
      "Mulholland Dr.\n",
      "Mulan\n",
      "Mr. Smith Goes to Washington\n",
      "Mr. Nobody\n",
      "Mou gaan dou\n",
      "Moonrise Kingdom\n",
      "Moon\n",
      "Monty Python and the Holy Grail\n",
      "Monsters, Inc.\n",
      "Mononoke-hime\n",
      "Moneyball\n",
      "Mommy\n",
      "Modern Times\n",
      "Moana\n",
      "Mississippi Burning\n",
      "Mission: Impossible - Fallout\n",
      "Misery\n",
      "Miracle on 34th Street\n",
      "Miracle in cell NO.7\n",
      "Minority Report\n",
      "Mimi wo sumaseba\n",
      "Million Dollar Baby\n",
      "Miller's Crossing\n",
      "Midnight in Paris\n",
      "Midnight Express\n",
      "Midnight Cowboy\n",
      "Metropolis\n",
      "Memento\n",
      "Me and Earl and the Dying Girl\n",
      "Match Point\n",
      "Mary and Max\n",
      "Mary Poppins\n",
      "Marriage Story\n",
      "Mar adentro\n",
      "Manhattan\n",
      "Mandariinid\n",
      "Manchester by the Sea\n",
      "Manbiki kazoku\n",
      "Man on Fire\n",
      "Malcolm X\n",
      "Majo no takkyûbin\n",
      "Magnolia\n",
      "Madeo\n",
      "Mad Max: Fury Road\n",
      "Mad Max 2\n",
      "M.S. Dhoni: The Untold Story\n",
      "M - Eine Stadt sucht einen Mörder\n",
      "Léon\n",
      "Låt den rätte komma in\n",
      "Lucky Number Slevin\n",
      "Loving Vincent\n",
      "Love and Death\n",
      "Lost in Translation\n",
      "Lost Highway\n",
      "Lord of War\n",
      "Lola rennt\n",
      "Logan\n",
      "Lock, Stock and Two Smoking Barrels\n",
      "Little Women\n",
      "Little Miss Sunshine\n",
      "Lion\n",
      "Lilja 4-ever\n",
      "Lifeboat\n",
      "Life of Pi\n",
      "Life of Brian\n",
      "Leviafan\n",
      "Letters from Iwo Jima\n",
      "Lethal Weapon\n",
      "Les yeux sans visage\n",
      "Les triplettes de Belleville\n",
      "Les quatre cents coups\n",
      "Les diaboliques\n",
      "Les choristes\n",
      "Le scaphandre et le papillon\n",
      "Le samouraï\n",
      "Le salaire de la peur\n",
      "Le passé\n",
      "Le notti di Cabiria\n",
      "Le locataire\n",
      "Le dîner de cons\n",
      "Le charme discret de la bourgeoisie\n",
      "Le Petit Prince\n",
      "Lawrence of Arabia\n",
      "Laura\n",
      "Lat sau san taam\n",
      "Lage Raho Munna Bhai\n",
      "Lagaan: Once Upon a Time in India\n",
      "Ladri di biciclette\n",
      "La vita è bella\n",
      "La vie d'Adèle\n",
      "La règle du jeu\n",
      "La planète sauvage\n",
      "La piel que habito\n",
      "La passion de Jeanne d'Arc\n",
      "La montaña sagrada\n",
      "La migliore offerta\n",
      "La leggenda del pianista sull'oceano\n",
      "La haine\n",
      "La grande bellezza\n",
      "La double vie de Véronique\n",
      "La dolce vita\n",
      "La battaglia di Algeri\n",
      "La Vie En Rose\n",
      "La Strada\n",
      "La La Land\n",
      "La Grande Illusion\n",
      "L.A. Confidential\n",
      "L'avventura\n",
      "Kôkaku Kidôtai\n",
      "Kurenai no buta\n",
      "Kung fu\n",
      "Kumonosu-jô\n",
      "Kubo and the Two Strings\n",
      "Kramer vs. Kramer\n",
      "Kokuhaku\n",
      "Koe no katachi\n",
      "Knockin' on Heaven's Door\n",
      "Knives Out\n",
      "Klaus\n",
      "Kis Uykusu\n",
      "Kingsman: The Secret Service\n",
      "King Kong\n",
      "Kind Hearts and Coronets\n",
      "Kimi no na wa.\n",
      "Kill Bill: Vol. 2\n",
      "Kill Bill: Vol. 1\n",
      "Kick-Ass\n",
      "Key Largo\n",
      "Kelly's Heroes\n",
      "Kaze tachinu\n",
      "Kaze no tani no Naushika\n",
      "Kari-gurashi no Arietti\n",
      "Kal Ho Naa Ho\n",
      "Kakushi-toride no san-akunin\n",
      "Kai po che!\n",
      "Kahaani\n",
      "Kaguyahime no monogatari\n",
      "Kagemusha\n",
      "K.G.F: Chapter 1\n",
      "Jûbê ninpûchô\n",
      "Just Mercy\n",
      "Jurassic Park\n",
      "Jungfrukällan\n",
      "Jules et Jim\n",
      "Judgment at Nuremberg\n",
      "Joyeux Noël\n",
      "Joker\n",
      "Jojo Rabbit\n",
      "Jodaeiye Nader az Simin\n",
      "Jeux d'enfants\n",
      "Jaws\n",
      "Jagten\n",
      "Jab We Met\n",
      "JFK\n",
      "Ivanovo detstvo\n",
      "It's a Wonderful Life\n",
      "It Happened One Night\n",
      "Isle of Dogs\n",
      "Iron Man\n",
      "Invasion of the Body Snatchers\n",
      "Into the Wild\n",
      "Interstellar\n",
      "Interstate 60: Episodes of the Road\n",
      "Inside Out\n",
      "Inside Man\n",
      "Inherit the Wind\n",
      "Inglourious Basterds\n",
      "Indiana Jones and the Last Crusade\n",
      "Incredibles 2\n",
      "Inception\n",
      "Incendies\n",
      "In the Name of the Father\n",
      "In the Heat of the Night\n",
      "In a Lonely Place\n",
      "In Bruges\n",
      "In America\n",
      "Il postino\n",
      "Il conformista\n",
      "Il buono, il brutto, il cattivo\n",
      "Ikiru\n",
      "Idi i smotri\n",
      "I, Daniel Blake\n",
      "I Am Sam\n",
      "Höstsonaten\n",
      "Hævnen\n",
      "Huo Yuan Jia\n",
      "Hunt for the Wilderpeople\n",
      "How to Train Your Dragon 2\n",
      "How to Train Your Dragon\n",
      "Hotel Rwanda\n",
      "Hotaru no haka\n",
      "Hot Fuzz\n",
      "Home Alone\n",
      "His Girl Friday\n",
      "Hiroshima mon amour\n",
      "High Noon\n",
      "Hidden Figures\n",
      "Hera Pheri\n",
      "Her\n",
      "Hell or High Water\n",
      "Hedwig and the Angry Inch\n",
      "Heat\n",
      "Hauru no ugoku shiro\n",
      "Harvey\n",
      "Harry Potter and the Sorcerer's Stone\n",
      "Harry Potter and the Prisoner of Azkaban\n",
      "Harry Potter and the Half-Blood Prince\n",
      "Harry Potter and the Goblet of Fire\n",
      "Harry Potter and the Deathly Hallows: Part 2\n",
      "Harry Potter and the Deathly Hallows: Part 1\n",
      "Harold and Maude\n",
      "Happiness\n",
      "Hannah and Her Sisters\n",
      "Hana-bi\n",
      "Hamlet\n",
      "Hamilton\n",
      "Halloween\n",
      "Haider\n",
      "Hacksaw Ridge\n",
      "Hachi: A Dog's Tale\n",
      "Hable con ella\n",
      "Gully Boy\n",
      "Guess Who's Coming to Dinner\n",
      "Guardians of the Galaxy Vol. 2\n",
      "Guardians of the Galaxy\n",
      "Groundhog Day\n",
      "Green Book\n",
      "Gravity\n",
      "Gran Torino\n",
      "Goodfellas\n",
      "Good Will Hunting\n",
      "Good Bye Lenin!\n",
      "Gongdong gyeongbi guyeok JSA\n",
      "Gone with the Wind\n",
      "Gone Girl\n",
      "Gone Baby Gone\n",
      "Goldfinger\n",
      "God's Own Country\n",
      "Glory\n",
      "Glengarry Glen Ross\n",
      "Gladiator\n",
      "Giù la testa\n",
      "Gisaengchung\n",
      "Gilda\n",
      "Gifted\n",
      "Giant\n",
      "Ghostbusters\n",
      "Get Out\n",
      "Gegen die Wand\n",
      "Gattaca\n",
      "Gangs of Wasseypur\n",
      "Gandhi\n",
      "Gake no ue no Ponyo\n",
      "G.O.R.A.\n",
      "Funny Games\n",
      "Full Metal Jacket\n",
      "Frost/Nixon\n",
      "From Here to Eternity\n",
      "Fried Green Tomatoes\n",
      "Freaks\n",
      "Frankenstein\n",
      "Forushande\n",
      "Forrest Gump\n",
      "Ford v Ferrari\n",
      "Flipped\n",
      "Fitzcarraldo\n",
      "First Blood\n",
      "Finding Neverland\n",
      "Finding Nemo\n",
      "Fight Club\n",
      "Fiddler on the Roof\n",
      "Festen\n",
      "Ferris Bueller's Day Off\n",
      "Fear and Loathing in Las Vegas\n",
      "Fargo\n",
      "Fantastic Mr. Fox\n",
      "Fantasia\n",
      "Fanny och Alexander\n",
      "Falling Down\n",
      "Fa yeung nin wah\n",
      "Ex Machina\n",
      "Evil Dead II\n",
      "Eternal Sunshine of the Spotless Mind\n",
      "Eskiya\n",
      "Escape from Alcatraz\n",
      "Enter the Dragon\n",
      "English Vinglish\n",
      "Enemy at the Gates\n",
      "End of Watch\n",
      "En man som heter Ove\n",
      "Empire of the Sun\n",
      "El ángel exterminador\n",
      "El secreto de sus ojos\n",
      "El cuerpo\n",
      "Efter brylluppet\n",
      "Edward Scissorhands\n",
      "Edge of Tomorrow\n",
      "Ed Wood\n",
      "Eastern Promises\n",
      "East of Eden\n",
      "E.T. the Extra-Terrestrial\n",
      "Dà hóng denglong gaogao guà\n",
      "Dunkirk\n",
      "Duck Soup\n",
      "Du rififi chez les hommes\n",
      "Druk\n",
      "Drive\n",
      "Drishyam\n",
      "Drishyam\n",
      "Dr. Strangelove or: How I Learned to Stop Worrying and Love the Bomb\n",
      "Down by Law\n",
      "Double Indemnity\n",
      "Donnie Darko\n",
      "Donnie Brasco\n",
      "Dom za vesanje\n",
      "Dogville\n",
      "Dog Day Afternoon\n",
      "Doctor Zhivago\n",
      "Do the Right Thing\n",
      "Do lok tin si\n",
      "Django Unchained\n",
      "District 9\n",
      "Dirty Harry\n",
      "Dip huet seung hung\n",
      "Dilwale Dulhania Le Jayenge\n",
      "Dil Chahta Hai\n",
      "Dil Bechara\n",
      "Die Welle\n",
      "Die Hard: With a Vengeance\n",
      "Die Hard\n",
      "Diarios de motocicleta\n",
      "Dial M for Murder\n",
      "Dev.D\n",
      "Detachment\n",
      "Det sjunde inseglet\n",
      "Despicable Me\n",
      "Der Untergang\n",
      "Der Name der Rose\n",
      "Der Himmel über Berlin\n",
      "Deliverance\n",
      "Delicatessen\n",
      "Death Note: Desu nôto\n",
      "Deadpool 2\n",
      "Deadpool\n",
      "Dead Poets Society\n",
      "Dead Man's Shoes\n",
      "Dead Man\n",
      "Dazed and Confused\n",
      "Days of Heaven\n",
      "Dawn of the Planet of the Apes\n",
      "Dawn of the Dead\n",
      "Das weiße Band - Eine deutsche Kindergeschichte\n",
      "Das Experiment\n",
      "Das Cabinet des Dr. Caligari\n",
      "Das Boot\n",
      "Dark Waters\n",
      "Dark City\n",
      "Darbareye Elly\n",
      "Dangal\n",
      "Dances with Wolves\n",
      "Dancer in the Dark\n",
      "Dallas Buyers Club\n",
      "Crna macka, beli macor\n",
      "Crimes and Misdemeanors\n",
      "Creed\n",
      "Crash\n",
      "Cowboy Bebop: Tengoku no tobira\n",
      "Coraline\n",
      "Cool Hand Luke\n",
      "Control\n",
      "Contratiempo\n",
      "Coco\n",
      "Close Encounters of the Third Kind\n",
      "Clerks\n",
      "City Lights\n",
      "Citizen Kane\n",
      "Cinderella Man\n",
      "Cidade de Deus\n",
      "Chung Hing sam lam\n",
      "Chugyeokja\n",
      "Chinatown\n",
      "Children of Men\n",
      "Chhichhore\n",
      "Charade\n",
      "Changeling\n",
      "Chak De! India\n",
      "Central do Brasil\n",
      "Celda 211\n",
      "Catch Me If You Can\n",
      "Cat on a Hot Tin Roof\n",
      "Cast Away\n",
      "Casino Royale\n",
      "Casino\n",
      "Casablanca\n",
      "Carlito's Way\n",
      "Captain Phillips\n",
      "Captain Fantastic\n",
      "Captain America: The Winter Soldier\n",
      "Captain America: Civil War\n",
      "Capharnaüm\n",
      "Cape Fear\n",
      "Call Me by Your Name\n",
      "Cabaret\n",
      "C.R.A.Z.Y.\n",
      "Bãhubali: The Beginning\n",
      "Butch Cassidy and the Sundance Kid\n",
      "Bronenosets Potemkin\n",
      "Brokeback Mountain\n",
      "Bringing Up Baby\n",
      "Brief Encounter\n",
      "Bridge of Spies\n",
      "Bride of Frankenstein\n",
      "Breaking the Waves\n",
      "Breakfast at Tiffany's\n",
      "Brazil\n",
      "Braveheart\n",
      "Boyz n the Hood\n",
      "Boyhood\n",
      "Bound by Honor\n",
      "Boogie Nights\n",
      "Bonnie and Clyde\n",
      "Bom Yeoareum Gaeul Gyeoul Geurigo Bom\n",
      "Boksuneun naui geot\n",
      "Bohemian Rhapsody\n",
      "Blue Velvet\n",
      "Blowup\n",
      "Blow\n",
      "Blood Simple\n",
      "Blood Diamond\n",
      "Blazing Saddles\n",
      "Blade Runner 2049\n",
      "Blade Runner\n",
      "Black Swan\n",
      "Black Hawk Down\n",
      "Black\n",
      "Birdman or (The Unexpected Virtue of Ignorance)\n",
      "Bir Zamanlar Anadolu'da\n",
      "Bin-jip\n",
      "Billy Elliot\n",
      "Big Hero 6\n",
      "Big Fish\n",
      "Bhaag Milkha Bhaag\n",
      "Ben-Hur\n",
      "Belle de jour\n",
      "Being There\n",
      "Being John Malkovich\n",
      "Before Sunset\n",
      "Before Sunrise\n",
      "Before Midnight\n",
      "Beauty and the Beast\n",
      "Beasts of No Nation\n",
      "Batoru rowaiaru\n",
      "Batman: Mask of the Phantasm\n",
      "Batman Begins\n",
      "Barton Fink\n",
      "Barry Lyndon\n",
      "Barfi!\n",
      "Bajrangi Bhaijaan\n",
      "Badlands\n",
      "Badhaai ho\n",
      "Back to the Future Part II\n",
      "Back to the Future\n",
      "Bacheha-Ye aseman\n",
      "Baby Driver\n",
      "Baby\n",
      "Babam ve Oglum\n",
      "Baahubali 2: The Conclusion\n",
      "Ba wang bie ji\n",
      "Ayla: The Daughter of War\n",
      "Awakenings\n",
      "Avengers: Infinity War\n",
      "Avengers: Endgame\n",
      "Avatar\n",
      "Auf der anderen Seite\n",
      "Au revoir les enfants\n",
      "Atonement\n",
      "As Good as It Gets\n",
      "Arsenic and Old Lace\n",
      "Arrival\n",
      "Argo\n",
      "Apollo 13\n",
      "Apocalypto\n",
      "Apocalypse Now\n",
      "Annie Hall\n",
      "Ang-ma-reul bo-at-da\n",
      "Andrei Rublev\n",
      "Andhadhun\n",
      "Andaz Apna Apna\n",
      "Anatomy of a Murder\n",
      "Anand\n",
      "Amélie\n",
      "Amour\n",
      "Amores perros\n",
      "American Psycho\n",
      "American History X\n",
      "American Gangster\n",
      "American Beauty\n",
      "Amarcord\n",
      "Amadeus\n",
      "Almost Famous\n",
      "All the President's Men\n",
      "All That Jazz\n",
      "All Quiet on the Western Front\n",
      "All About Eve\n",
      "Aliens\n",
      "Alien\n",
      "Aladdin\n",
      "Akira\n",
      "Ajeossi\n",
      "Airplane!\n",
      "Airlift\n",
      "Ah-ga-ssi\n",
      "Aguirre, der Zorn Gottes\n",
      "After Hours\n",
      "Adaptation.\n",
      "Adams æbler\n",
      "Ace in the Hole\n",
      "Abre los ojos\n",
      "About Time\n",
      "A Wednesday\n",
      "A Streetcar Named Desire\n",
      "A Star Is Born\n",
      "A Night at the Opera\n",
      "A Man for All Seasons\n",
      "A Little Princess\n",
      "A Hard Day's Night\n",
      "A Few Good Men\n",
      "A Clockwork Orange\n",
      "A Christmas Story\n",
      "A Bronx Tale\n",
      "A Beautiful Mind\n",
      "8½\n",
      "50/50\n",
      "4 luni, 3 saptamâni si 2 zile\n",
      "3:10 to Yuma\n",
      "300\n",
      "3 Idiots\n",
      "28 Days Later...\n",
      "25th Hour\n",
      "21 Grams\n",
      "2001: A Space Odyssey\n",
      "1917\n",
      "12 Years a Slave\n",
      "12 Angry Men\n",
      "(500) Days of Summer\n",
      "2 States (2014 film)\n",
      "Goszilla vs Bugsbunny\n"
     ]
    }
   ],
   "source": [
    "# looping\n",
    "for i in movies.index:\n",
    "  print(i)"
   ]
  },
  {
   "cell_type": "code",
   "execution_count": 75,
   "metadata": {
    "colab": {
     "base_uri": "https://localhost:8080/"
    },
    "id": "XPYoq68WuBZ_",
    "outputId": "37e4b69d-1071-4735-a5cc-1db0c1b096a6"
   },
   "outputs": [
    {
     "data": {
      "text/plain": [
       "0      100\n",
       "1      200\n",
       "2      200\n",
       "3      100\n",
       "4      100\n",
       "      ... \n",
       "361    326\n",
       "362    255\n",
       "363    244\n",
       "364    272\n",
       "evs    200\n",
       "Name: Crypto_Money, Length: 366, dtype: int64"
      ]
     },
     "execution_count": 75,
     "metadata": {},
     "output_type": "execute_result"
    }
   ],
   "source": [
    "# Arithmetic Operators(Broadcasting)\n",
    "100 + subs"
   ]
  },
  {
   "cell_type": "code",
   "execution_count": 76,
   "metadata": {
    "colab": {
     "base_uri": "https://localhost:8080/"
    },
    "id": "L3uIP0BJuEKf",
    "outputId": "5071a9e3-ef90-4e09-d880-785518914f78"
   },
   "outputs": [
    {
     "data": {
      "text/plain": [
       "0      False\n",
       "1       True\n",
       "2       True\n",
       "3      False\n",
       "4      False\n",
       "       ...  \n",
       "361     True\n",
       "362     True\n",
       "363     True\n",
       "364     True\n",
       "evs     True\n",
       "Name: Crypto_Money, Length: 366, dtype: bool"
      ]
     },
     "execution_count": 76,
     "metadata": {},
     "output_type": "execute_result"
    }
   ],
   "source": [
    "# Relational Operators\n",
    "\n",
    "subs >= 50"
   ]
  },
  {
   "cell_type": "markdown",
   "metadata": {
    "id": "nrtnwvD0O515"
   },
   "source": [
    "### Boolean Indexing on Series"
   ]
  },
  {
   "cell_type": "code",
   "execution_count": 77,
   "metadata": {
    "colab": {
     "base_uri": "https://localhost:8080/"
    },
    "id": "XcyU25jLO9ft",
    "outputId": "a239891b-0493-4eb0-85b5-301f599fa2f0"
   },
   "outputs": [
    {
     "data": {
      "text/plain": [
       "344"
      ]
     },
     "execution_count": 77,
     "metadata": {},
     "output_type": "execute_result"
    }
   ],
   "source": [
    "# Find no of 50's and 100's scored by kohli\n",
    "subs[subs >= 50].size"
   ]
  },
  {
   "cell_type": "code",
   "execution_count": 78,
   "metadata": {
    "colab": {
     "base_uri": "https://localhost:8080/"
    },
    "id": "37QxNConO904",
    "outputId": "82600c80-6242-41cd-b904-1831912b41da"
   },
   "outputs": [
    {
     "data": {
      "text/plain": [
       "3"
      ]
     },
     "execution_count": 78,
     "metadata": {},
     "output_type": "execute_result"
    }
   ],
   "source": [
    "# find number of ducks\n",
    "subs[subs == 0].size"
   ]
  },
  {
   "cell_type": "code",
   "execution_count": 79,
   "metadata": {
    "colab": {
     "base_uri": "https://localhost:8080/"
    },
    "id": "p-Hft0kSvBn2",
    "outputId": "40c5162c-bf00-4be3-b07f-9e6a1ab1d3c2"
   },
   "outputs": [
    {
     "data": {
      "text/plain": [
       "59"
      ]
     },
     "execution_count": 79,
     "metadata": {},
     "output_type": "execute_result"
    }
   ],
   "source": [
    "# Count number of day when I had more than 200 subs a day\n",
    "subs[subs > 200].size"
   ]
  },
  {
   "cell_type": "code",
   "execution_count": 81,
   "metadata": {
    "colab": {
     "base_uri": "https://localhost:8080/"
    },
    "id": "fZM3OCApvsZe",
    "outputId": "4dedb12e-c01e-4209-93a1-7614a4fb9a25"
   },
   "outputs": [
    {
     "data": {
      "text/plain": [
       "Tom Hanks            12\n",
       "Robert De Niro       11\n",
       "Al Pacino            10\n",
       "Clint Eastwood       10\n",
       "Humphrey Bogart       9\n",
       "Leonardo DiCaprio     9\n",
       "Johnny Depp           8\n",
       "James Stewart         8\n",
       "Christian Bale        8\n",
       "Toshirô Mifune        7\n",
       "Aamir Khan            7\n",
       "Denzel Washington     7\n",
       "Jake Gyllenhaal       6\n",
       "Cary Grant            6\n",
       "Charles Chaplin       6\n",
       "Ethan Coen            6\n",
       "Daniel Radcliffe      6\n",
       "Tom Cruise            6\n",
       "Name: lead, dtype: int64"
      ]
     },
     "execution_count": 81,
     "metadata": {},
     "output_type": "execute_result"
    }
   ],
   "source": [
    "# find actors who have done more than 20 movies\n",
    "num_movies = movies.value_counts()\n",
    "num_movies[num_movies > 5]"
   ]
  },
  {
   "cell_type": "markdown",
   "metadata": {
    "id": "PQjv9hm-42Jr"
   },
   "source": [
    "### Plotting Graphs on Series"
   ]
  },
  {
   "cell_type": "code",
   "execution_count": 83,
   "metadata": {},
   "outputs": [],
   "source": [
    "%matplotlib inline"
   ]
  },
  {
   "cell_type": "code",
   "execution_count": 84,
   "metadata": {
    "colab": {
     "base_uri": "https://localhost:8080/",
     "height": 283
    },
    "id": "WVEQvPTw40KE",
    "outputId": "8e7a69f1-792a-4a0e-ad83-4875ecde1108"
   },
   "outputs": [
    {
     "data": {
      "text/plain": [
       "<matplotlib.axes._subplots.AxesSubplot at 0x1f649ce3108>"
      ]
     },
     "execution_count": 84,
     "metadata": {},
     "output_type": "execute_result"
    },
    {
     "data": {
      "image/png": "[encoded data removed]",
      "text/plain": [
       "<Figure size 432x288 with 1 Axes>"
      ]
     },
     "metadata": {
      "needs_background": "light"
     },
     "output_type": "display_data"
    }
   ],
   "source": [
    "subs.plot()"
   ]
  },
  {
   "cell_type": "code",
   "execution_count": 85,
   "metadata": {
    "colab": {
     "base_uri": "https://localhost:8080/",
     "height": 266
    },
    "id": "lGhMdpmkTm-z",
    "outputId": "e21c52dc-b3cb-4a40-c2cf-2a09b7cd61f1"
   },
   "outputs": [
    {
     "data": {
      "text/plain": [
       "<matplotlib.axes._subplots.AxesSubplot at 0x1f649d4ea08>"
      ]
     },
     "execution_count": 85,
     "metadata": {},
     "output_type": "execute_result"
    },
    {
     "data": {
      "image/png": "[encoded data removed]",
      "text/plain": [
       "<Figure size 432x288 with 1 Axes>"
      ]
     },
     "metadata": {},
     "output_type": "display_data"
    }
   ],
   "source": [
    "movies.value_counts().head(20).plot(kind='pie')"
   ]
  },
  {
   "cell_type": "markdown",
   "metadata": {
    "id": "3fl2mDQgPsz_"
   },
   "source": [
    "### Some Important Series Methods"
   ]
  },
  {
   "cell_type": "code",
   "execution_count": 86,
   "metadata": {
    "id": "HRw5A2lhKn97"
   },
   "outputs": [],
   "source": [
    "# astype\n",
    "# between\n",
    "# clip\n",
    "# drop_duplicates\n",
    "# isnull\n",
    "# dropna\n",
    "# fillna\n",
    "# isin\n",
    "# apply\n",
    "# copy"
   ]
  },
  {
   "cell_type": "code",
   "execution_count": 87,
   "metadata": {
    "id": "AWCxMcdt6tN2"
   },
   "outputs": [],
   "source": [
    "import numpy as np\n",
    "import pandas as pd"
   ]
  },
  {
   "cell_type": "code",
   "execution_count": 92,
   "metadata": {
    "colab": {
     "base_uri": "https://localhost:8080/"
    },
    "id": "7ziyhORZ0Oy1",
    "outputId": "a480585f-3edd-4497-8f48-1f6a718cdbd3"
   },
   "outputs": [
    {
     "data": {
      "text/plain": [
       "Day\n",
       "1       1\n",
       "2      23\n",
       "3      13\n",
       "4      12\n",
       "5       1\n",
       "       ..\n",
       "211     0\n",
       "212    20\n",
       "213    73\n",
       "214    25\n",
       "215     7\n",
       "Name: Money_Made, Length: 215, dtype: int64"
      ]
     },
     "execution_count": 92,
     "metadata": {},
     "output_type": "execute_result"
    }
   ],
   "source": [
    "subs = pd.read_csv('data/money_made.csv',index_col='Day',squeeze=True)\n",
    "subs"
   ]
  },
  {
   "cell_type": "code",
   "execution_count": 94,
   "metadata": {
    "colab": {
     "base_uri": "https://localhost:8080/"
    },
    "id": "YIG8ViibzbaA",
    "outputId": "e3db35aa-e98a-425a-ca61-df44efa191c8"
   },
   "outputs": [
    {
     "data": {
      "text/plain": [
       "movie\n",
       "The Shawshank Redemption          Tim Robbins\n",
       "The Godfather                   Marlon Brando\n",
       "The Dark Knight                Christian Bale\n",
       "The Godfather: Part II              Al Pacino\n",
       "12 Angry Men                      Henry Fonda\n",
       "                                  ...        \n",
       "Breakfast at Tiffany's         Audrey Hepburn\n",
       "Giant                        Elizabeth Taylor\n",
       "From Here to Eternity          Burt Lancaster\n",
       "Lifeboat                    Tallulah Bankhead\n",
       "The 39 Steps                     Robert Donat\n",
       "Name: lead, Length: 1000, dtype: object"
      ]
     },
     "execution_count": 94,
     "metadata": {},
     "output_type": "execute_result"
    }
   ],
   "source": [
    "movies = pd.read_csv('data/hollywood.csv',index_col='movie',squeeze=True)\n",
    "movies"
   ]
  },
  {
   "cell_type": "code",
   "execution_count": 99,
   "metadata": {
    "colab": {
     "base_uri": "https://localhost:8080/"
    },
    "id": "W_Savtg2zf7z",
    "outputId": "67e51723-1a0f-41ae-c1b7-1a4dd3c2e2a2"
   },
   "outputs": [
    {
     "data": {
      "text/plain": [
       "3464"
      ]
     },
     "execution_count": 99,
     "metadata": {},
     "output_type": "execute_result"
    }
   ],
   "source": [
    "# astype\n",
    "import sys\n",
    "sys.getsizeof(subs)"
   ]
  },
  {
   "cell_type": "code",
   "execution_count": 100,
   "metadata": {
    "colab": {
     "base_uri": "https://localhost:8080/"
    },
    "id": "LColuUHt62ho",
    "outputId": "7ed7fdbe-ef05-4367-af75-b94ba28abcf5"
   },
   "outputs": [
    {
     "data": {
      "text/plain": [
       "1959"
      ]
     },
     "execution_count": 100,
     "metadata": {},
     "output_type": "execute_result"
    }
   ],
   "source": [
    "sys.getsizeof(subs.astype('int8'))"
   ]
  },
  {
   "cell_type": "code",
   "execution_count": 101,
   "metadata": {
    "colab": {
     "base_uri": "https://localhost:8080/"
    },
    "id": "9TGRR7Mi63Rl",
    "outputId": "9b255cc8-bc45-4889-cc41-0a466f023e8e"
   },
   "outputs": [
    {
     "data": {
      "text/plain": [
       "43"
      ]
     },
     "execution_count": 101,
     "metadata": {},
     "output_type": "execute_result"
    }
   ],
   "source": [
    "# between\n",
    "subs[subs.between(51,99)].size"
   ]
  },
  {
   "cell_type": "code",
   "execution_count": null,
   "metadata": {
    "id": "uBCn5ryN68y8"
   },
   "outputs": [],
   "source": []
  },
  {
   "cell_type": "code",
   "execution_count": 102,
   "metadata": {
    "colab": {
     "base_uri": "https://localhost:8080/"
    },
    "id": "n7FUL-St69Dk",
    "outputId": "2f39b3ef-1505-48ff-9515-5118cbb6566e",
    "scrolled": true
   },
   "outputs": [
    {
     "data": {
      "text/plain": [
       "Day\n",
       "1       1\n",
       "2      23\n",
       "3      13\n",
       "4      12\n",
       "5       1\n",
       "       ..\n",
       "211     0\n",
       "212    20\n",
       "213    73\n",
       "214    25\n",
       "215     7\n",
       "Name: Money_Made, Length: 215, dtype: int64"
      ]
     },
     "execution_count": 102,
     "metadata": {},
     "output_type": "execute_result"
    }
   ],
   "source": [
    "# clip\n",
    "subs"
   ]
  },
  {
   "cell_type": "markdown",
   "metadata": {},
   "source": [
    "### Clip function"
   ]
  },
  {
   "cell_type": "markdown",
   "metadata": {},
   "source": [
    "In pandas, the `clip` function is used to clip (limit) the values in a Series or DataFrame to a specified range. The function takes two optional parameters, `lower` and `upper`, which represent the lower and upper limits of the range, respectively.\n",
    "\n",
    "The `clip` function returns a new Series or DataFrame with the values clipped to the specified range. Values that are less than `lower` are set to `lower`, and values that are greater than `upper` are set to `upper`.\n",
    "\n",
    "Here's an example of how to use the `clip` function:\n",
    "\n",
    "```python\n",
    "import pandas as pd\n",
    "\n",
    "# Create a Series with some values\n",
    "s = pd.Series([1, 2, 3, 4, 5])\n",
    "\n",
    "# Clip the values to the range 2-4\n",
    "s_clip = s.clip(lower=2, upper=4)\n",
    "\n",
    "print(s)        # Output: 0    1\\n1    2\\n2    3\\n3    4\\n4    5\\ndtype: int64\n",
    "print(s_clip)   # Output: 0    2\\n1    2\\n2    3\\n3    4\\n4    4\\ndtype: int64\n",
    "```\n",
    "\n",
    "In this example, we create a Series `s` with some values, and then use the `clip` function to clip the values to the range 2-4. The resulting Series `s_clip` has the values 2, 2, 3, 4, and 4."
   ]
  },
  {
   "cell_type": "code",
   "execution_count": 103,
   "metadata": {
    "colab": {
     "base_uri": "https://localhost:8080/"
    },
    "id": "kUkcI7Q86-Ik",
    "outputId": "ded69a90-7ed3-4c1d-c6d1-8cf1f7a4c621"
   },
   "outputs": [
    {
     "data": {
      "text/plain": [
       "Day\n",
       "1      100\n",
       "2      100\n",
       "3      100\n",
       "4      100\n",
       "5      100\n",
       "      ... \n",
       "211    100\n",
       "212    100\n",
       "213    100\n",
       "214    100\n",
       "215    100\n",
       "Name: Money_Made, Length: 215, dtype: int64"
      ]
     },
     "execution_count": 103,
     "metadata": {},
     "output_type": "execute_result"
    }
   ],
   "source": [
    "subs.clip(100,200)"
   ]
  },
  {
   "cell_type": "code",
   "execution_count": 104,
   "metadata": {
    "colab": {
     "base_uri": "https://localhost:8080/"
    },
    "id": "1pxfXsU2z13B",
    "outputId": "18a6951c-06b6-48ea-d3c2-22a27f737ed5"
   },
   "outputs": [
    {
     "data": {
      "text/plain": [
       "0    1\n",
       "1    1\n",
       "2    2\n",
       "3    2\n",
       "4    3\n",
       "5    3\n",
       "6    4\n",
       "7    4\n",
       "dtype: int64"
      ]
     },
     "execution_count": 104,
     "metadata": {},
     "output_type": "execute_result"
    }
   ],
   "source": [
    "# drop_duplicates\n",
    "temp = pd.Series([1,1,2,2,3,3,4,4])\n",
    "temp"
   ]
  },
  {
   "cell_type": "code",
   "execution_count": 105,
   "metadata": {
    "colab": {
     "base_uri": "https://localhost:8080/"
    },
    "id": "CuhblaOA6eLa",
    "outputId": "132438ce-dfa3-43e7-9574-27e573ebaa3b",
    "scrolled": false
   },
   "outputs": [
    {
     "data": {
      "text/plain": [
       "1    1\n",
       "3    2\n",
       "5    3\n",
       "7    4\n",
       "dtype: int64"
      ]
     },
     "execution_count": 105,
     "metadata": {},
     "output_type": "execute_result"
    }
   ],
   "source": [
    "temp.drop_duplicates(keep='last')"
   ]
  },
  {
   "cell_type": "markdown",
   "metadata": {},
   "source": [
    "### Duplicated"
   ]
  },
  {
   "cell_type": "markdown",
   "metadata": {},
   "source": [
    "In pandas, the duplicated method is used to identify duplicate values in a Series or DataFrame. It returns a boolean mask that indicates whether each value is duplicated or not. The sum method can then be used to count the number of duplicated values."
   ]
  },
  {
   "cell_type": "code",
   "execution_count": 106,
   "metadata": {
    "colab": {
     "base_uri": "https://localhost:8080/"
    },
    "id": "JP2eHcJQ9wUT",
    "outputId": "7e4323f5-24f1-42ad-85f7-d8ce51999716"
   },
   "outputs": [
    {
     "data": {
      "text/plain": [
       "4"
      ]
     },
     "execution_count": 106,
     "metadata": {},
     "output_type": "execute_result"
    }
   ],
   "source": [
    "temp.duplicated().sum()"
   ]
  },
  {
   "cell_type": "markdown",
   "metadata": {},
   "source": [
    "In the code temp.duplicated().sum(), temp is a Series or DataFrame, and the duplicated method is called on it to create a boolean mask that indicates whether each value is duplicated or not. The resulting boolean mask is then passed to the sum method, which returns the number of True values in the mask. This gives the total number of duplicated values in the Series or DataFrame."
   ]
  },
  {
   "cell_type": "code",
   "execution_count": 107,
   "metadata": {
    "colab": {
     "base_uri": "https://localhost:8080/"
    },
    "id": "CNOErsJI992F",
    "outputId": "f775f7de-3bfb-41f1-b602-bd3b49d3c5bf"
   },
   "outputs": [
    {
     "data": {
      "text/plain": [
       "137"
      ]
     },
     "execution_count": 107,
     "metadata": {},
     "output_type": "execute_result"
    }
   ],
   "source": [
    "subs.duplicated().sum()"
   ]
  },
  {
   "cell_type": "code",
   "execution_count": 108,
   "metadata": {
    "colab": {
     "base_uri": "https://localhost:8080/"
    },
    "id": "HJrGhllP9mUy",
    "outputId": "ad772a71-57fb-4d1a-bdc3-dc5ff28dfbca",
    "scrolled": true
   },
   "outputs": [
    {
     "data": {
      "text/plain": [
       "movie\n",
       "The Shawshank Redemption          Tim Robbins\n",
       "The Godfather                   Marlon Brando\n",
       "The Dark Knight                Christian Bale\n",
       "The Godfather: Part II              Al Pacino\n",
       "12 Angry Men                      Henry Fonda\n",
       "                                  ...        \n",
       "The Jungle Book                   Phil Harris\n",
       "Blowup                         David Hemmings\n",
       "A Hard Day's Night                John Lennon\n",
       "Lifeboat                    Tallulah Bankhead\n",
       "The 39 Steps                     Robert Donat\n",
       "Name: lead, Length: 660, dtype: object"
      ]
     },
     "execution_count": 108,
     "metadata": {},
     "output_type": "execute_result"
    }
   ],
   "source": [
    "movies.drop_duplicates()"
   ]
  },
  {
   "cell_type": "markdown",
   "metadata": {},
   "source": [
    "### Dealing with Missing values"
   ]
  },
  {
   "cell_type": "code",
   "execution_count": 109,
   "metadata": {
    "colab": {
     "base_uri": "https://localhost:8080/"
    },
    "id": "QrrlnPu46ene",
    "outputId": "9e396114-42da-49b6-b850-710f52e89c6c",
    "scrolled": true
   },
   "outputs": [
    {
     "data": {
      "text/plain": [
       "0     1.0\n",
       "1     2.0\n",
       "2     3.0\n",
       "3     NaN\n",
       "4     5.0\n",
       "5     6.0\n",
       "6     NaN\n",
       "7     8.0\n",
       "8     NaN\n",
       "9    10.0\n",
       "dtype: float64"
      ]
     },
     "execution_count": 109,
     "metadata": {},
     "output_type": "execute_result"
    }
   ],
   "source": [
    "temp = pd.Series([1,2,3,np.nan,5,6,np.nan,8,np.nan,10])\n",
    "temp"
   ]
  },
  {
   "cell_type": "markdown",
   "metadata": {},
   "source": [
    "In pandas, `size` and `count` are both methods that can be used to obtain information about the number of elements in a Series. However, they have slightly different meanings:\n",
    "\n",
    "- The `size` method returns the total number of elements in the Series, including any missing or null values. This is equivalent to the total number of rows in a DataFrame.\n",
    "\n",
    "- The `count` method returns the number of non-null (i.e., non-missing) elements in the Series. This is equivalent to the number of non-null values in each column of a DataFrame.\n",
    "\n",
    "Here's an example to demonstrate the difference between `size` and `count`:\n",
    "\n",
    "```python\n",
    "import pandas as pd\n",
    "import numpy as np\n",
    "\n",
    "# Create a Series with some missing values\n",
    "s = pd.Series([1, 2, np.nan, 4, 5])\n",
    "\n",
    "# Calculate the size and count of the Series\n",
    "s_size = s.size\n",
    "s_count = s.count()\n",
    "\n",
    "print(s_size)   # Output: 5\n",
    "print(s_count)  # Output: 4\n",
    "```\n",
    "\n",
    "In this example, we create a Series `s` with some missing values represented by `np.nan`. We then use the `size` method to calculate the total number of elements in the Series, which is 5. Next, we use the `count` method to calculate the number of non-null elements in the Series, which is 4 (since there is one missing value)."
   ]
  },
  {
   "cell_type": "code",
   "execution_count": 110,
   "metadata": {
    "colab": {
     "base_uri": "https://localhost:8080/"
    },
    "id": "yH3URjKb-PTJ",
    "outputId": "90e1a0f4-53e4-44dd-ae5f-7e5cccb60f13"
   },
   "outputs": [
    {
     "data": {
      "text/plain": [
       "10"
      ]
     },
     "execution_count": 110,
     "metadata": {},
     "output_type": "execute_result"
    }
   ],
   "source": [
    "temp.size"
   ]
  },
  {
   "cell_type": "code",
   "execution_count": 111,
   "metadata": {
    "colab": {
     "base_uri": "https://localhost:8080/"
    },
    "id": "alUtB-HD-WNQ",
    "outputId": "9cbc07c4-d8bf-4455-d9a0-150189d719cd"
   },
   "outputs": [
    {
     "data": {
      "text/plain": [
       "7"
      ]
     },
     "execution_count": 111,
     "metadata": {},
     "output_type": "execute_result"
    }
   ],
   "source": [
    "temp.count()"
   ]
  },
  {
   "cell_type": "code",
   "execution_count": 113,
   "metadata": {
    "colab": {
     "base_uri": "https://localhost:8080/"
    },
    "id": "6FRiAkec6mib",
    "outputId": "db5c5c03-218b-43b0-bcdf-07df161e66de"
   },
   "outputs": [
    {
     "data": {
      "text/plain": [
       "3"
      ]
     },
     "execution_count": 113,
     "metadata": {},
     "output_type": "execute_result"
    }
   ],
   "source": [
    "# isnull\n",
    "temp.isnull().sum()"
   ]
  },
  {
   "cell_type": "code",
   "execution_count": null,
   "metadata": {
    "id": "_98OInJX7GhO"
   },
   "outputs": [],
   "source": []
  },
  {
   "cell_type": "code",
   "execution_count": null,
   "metadata": {
    "colab": {
     "base_uri": "https://localhost:8080/"
    },
    "id": "STkbZIDn7HBa",
    "outputId": "e128100c-4f4e-46b3-80b5-bb9390f2d53c"
   },
   "outputs": [
    {
     "data": {
      "text/plain": [
       "0     1.0\n",
       "1     2.0\n",
       "2     3.0\n",
       "4     5.0\n",
       "5     6.0\n",
       "7     8.0\n",
       "9    10.0\n",
       "dtype: float64"
      ]
     },
     "execution_count": 73,
     "metadata": {},
     "output_type": "execute_result"
    }
   ],
   "source": [
    "# dropna\n",
    "temp.dropna()"
   ]
  },
  {
   "cell_type": "code",
   "execution_count": null,
   "metadata": {
    "id": "0vp6l6kO7INt"
   },
   "outputs": [],
   "source": []
  },
  {
   "cell_type": "code",
   "execution_count": null,
   "metadata": {
    "colab": {
     "base_uri": "https://localhost:8080/"
    },
    "id": "cXIb28DN7Ihc",
    "outputId": "946fad61-56ad-412a-8e53-76ee45835d64"
   },
   "outputs": [
    {
     "data": {
      "text/plain": [
       "0     1.0\n",
       "1     2.0\n",
       "2     3.0\n",
       "3     5.0\n",
       "4     5.0\n",
       "5     6.0\n",
       "6     5.0\n",
       "7     8.0\n",
       "8     5.0\n",
       "9    10.0\n",
       "dtype: float64"
      ]
     },
     "execution_count": 75,
     "metadata": {},
     "output_type": "execute_result"
    }
   ],
   "source": [
    "# fillna\n",
    "temp.fillna(temp.mean())"
   ]
  },
  {
   "cell_type": "code",
   "execution_count": null,
   "metadata": {
    "id": "c0YUEwGY7J0g"
   },
   "outputs": [],
   "source": []
  },
  {
   "cell_type": "code",
   "execution_count": 114,
   "metadata": {
    "colab": {
     "base_uri": "https://localhost:8080/"
    },
    "id": "PHKT_uv-7MBm",
    "outputId": "25426a86-3608-4380-f970-03084bbbe02b"
   },
   "outputs": [
    {
     "data": {
      "text/plain": [
       "Day\n",
       "82    99\n",
       "86    49\n",
       "Name: Money_Made, dtype: int64"
      ]
     },
     "execution_count": 114,
     "metadata": {},
     "output_type": "execute_result"
    }
   ],
   "source": [
    "# isin\n",
    "subs[(subs == 49) | (subs == 99)]"
   ]
  },
  {
   "cell_type": "code",
   "execution_count": 115,
   "metadata": {
    "colab": {
     "base_uri": "https://localhost:8080/"
    },
    "id": "E1pFXMVc_evI",
    "outputId": "c037601a-f416-4ea1-e4cf-970e1f77f9fe"
   },
   "outputs": [
    {
     "data": {
      "text/plain": [
       "Day\n",
       "82    99\n",
       "86    49\n",
       "Name: Money_Made, dtype: int64"
      ]
     },
     "execution_count": 115,
     "metadata": {},
     "output_type": "execute_result"
    }
   ],
   "source": [
    "subs[subs.isin([49,99])]"
   ]
  },
  {
   "cell_type": "code",
   "execution_count": null,
   "metadata": {
    "id": "Z0G9VSBs7N-K"
   },
   "outputs": [],
   "source": []
  },
  {
   "cell_type": "code",
   "execution_count": 116,
   "metadata": {
    "colab": {
     "base_uri": "https://localhost:8080/"
    },
    "id": "v7lsdckT7OOk",
    "outputId": "addf5280-e024-443b-988c-d1dd6f722dc2"
   },
   "outputs": [
    {
     "data": {
      "text/plain": [
       "movie\n",
       "The Shawshank Redemption          Tim Robbins\n",
       "The Godfather                   Marlon Brando\n",
       "The Dark Knight                Christian Bale\n",
       "The Godfather: Part II              Al Pacino\n",
       "12 Angry Men                      Henry Fonda\n",
       "                                  ...        \n",
       "Breakfast at Tiffany's         Audrey Hepburn\n",
       "Giant                        Elizabeth Taylor\n",
       "From Here to Eternity          Burt Lancaster\n",
       "Lifeboat                    Tallulah Bankhead\n",
       "The 39 Steps                     Robert Donat\n",
       "Name: lead, Length: 1000, dtype: object"
      ]
     },
     "execution_count": 116,
     "metadata": {},
     "output_type": "execute_result"
    }
   ],
   "source": [
    "# apply\n",
    "movies"
   ]
  },
  {
   "cell_type": "code",
   "execution_count": 117,
   "metadata": {
    "colab": {
     "base_uri": "https://localhost:8080/"
    },
    "id": "ftFnrqOv7PDx",
    "outputId": "742036c3-de60-4c81-bd69-98d2e097a7a4",
    "scrolled": true
   },
   "outputs": [
    {
     "data": {
      "text/plain": [
       "movie\n",
       "The Shawshank Redemption          TIM\n",
       "The Godfather                  MARLON\n",
       "The Dark Knight             CHRISTIAN\n",
       "The Godfather: Part II             AL\n",
       "12 Angry Men                    HENRY\n",
       "                              ...    \n",
       "Breakfast at Tiffany's         AUDREY\n",
       "Giant                       ELIZABETH\n",
       "From Here to Eternity            BURT\n",
       "Lifeboat                     TALLULAH\n",
       "The 39 Steps                   ROBERT\n",
       "Name: lead, Length: 1000, dtype: object"
      ]
     },
     "execution_count": 117,
     "metadata": {},
     "output_type": "execute_result"
    }
   ],
   "source": [
    "movies.apply(lambda x:x.split()[0].upper())"
   ]
  },
  {
   "cell_type": "markdown",
   "metadata": {},
   "source": [
    "The expression `movies.apply(lambda x:x.split()[0].upper())` applies a function to each element in a pandas Series called `movies`. Here's a breakdown of what each part of the expression does:\n",
    "\n",
    "- `movies` is the pandas Series that we want to apply a function to.\n",
    "- `.apply()` is a method that applies a function to each element of the Series.\n",
    "- `lambda x:` is an anonymous (i.e., unnamed) function that takes one argument `x`.\n",
    "- `x.split()` splits the string `x` into a list of words. By default, `split()` uses whitespace as the delimiter.\n",
    "- `[0]` gets the first word from the list.\n",
    "- `.upper()` converts the first word to uppercase.\n",
    "\n",
    "So, the overall effect of this expression is to take each element in the `movies` Series (which is assumed to be a string representing the title of a movie), extract the first word (which is assumed to be the movie's title), and convert it to uppercase. For example, if `movies` contains the Series `[\"the godfather\", \"the shawshank redemption\", \"the dark knight\"]`, then the output of this expression would be `[\"THE\", \"THE\", \"THE\"]`, since each of the movie titles starts with \"The\" and has been converted to uppercase."
   ]
  },
  {
   "cell_type": "code",
   "execution_count": 118,
   "metadata": {
    "colab": {
     "base_uri": "https://localhost:8080/"
    },
    "id": "a3_r2it57Pjw",
    "outputId": "775f2ab2-b5a6-46eb-f48a-22f7b044a604"
   },
   "outputs": [
    {
     "data": {
      "text/plain": [
       "Day\n",
       "1       1\n",
       "2      23\n",
       "3      13\n",
       "4      12\n",
       "5       1\n",
       "       ..\n",
       "211     0\n",
       "212    20\n",
       "213    73\n",
       "214    25\n",
       "215     7\n",
       "Name: Money_Made, Length: 215, dtype: int64"
      ]
     },
     "execution_count": 118,
     "metadata": {},
     "output_type": "execute_result"
    }
   ],
   "source": [
    "subs"
   ]
  },
  {
   "cell_type": "code",
   "execution_count": 119,
   "metadata": {
    "colab": {
     "base_uri": "https://localhost:8080/"
    },
    "id": "evUNfB0bAQBk",
    "outputId": "eb6d4c04-381c-4715-97ec-03030458af44"
   },
   "outputs": [
    {
     "data": {
      "text/plain": [
       "Day\n",
       "1       bad day\n",
       "2       bad day\n",
       "3       bad day\n",
       "4       bad day\n",
       "5       bad day\n",
       "         ...   \n",
       "211     bad day\n",
       "212     bad day\n",
       "213    good day\n",
       "214     bad day\n",
       "215     bad day\n",
       "Name: Money_Made, Length: 215, dtype: object"
      ]
     },
     "execution_count": 119,
     "metadata": {},
     "output_type": "execute_result"
    }
   ],
   "source": [
    "subs.apply(lambda x:'good day' if x > subs.mean() else 'bad day')"
   ]
  },
  {
   "cell_type": "code",
   "execution_count": null,
   "metadata": {
    "colab": {
     "base_uri": "https://localhost:8080/"
    },
    "id": "vvE_nzCFAKRv",
    "outputId": "7a36986e-5b4d-4d69-b6e0-756ff4c296c5"
   },
   "outputs": [
    {
     "data": {
      "text/plain": [
       "135.64383561643837"
      ]
     },
     "execution_count": 87,
     "metadata": {},
     "output_type": "execute_result"
    }
   ],
   "source": [
    "subs.mean()"
   ]
  },
  {
   "cell_type": "code",
   "execution_count": null,
   "metadata": {
    "id": "91NkdlOi7QAi"
   },
   "outputs": [],
   "source": [
    "# copy"
   ]
  },
  {
   "cell_type": "code",
   "execution_count": 120,
   "metadata": {
    "colab": {
     "base_uri": "https://localhost:8080/"
    },
    "id": "ZAsauZPA7RMY",
    "outputId": "74f05c82-86d4-4049-b4e1-69824bf7ed0e"
   },
   "outputs": [
    {
     "data": {
      "text/plain": [
       "Day\n",
       "1       1\n",
       "2      23\n",
       "3      13\n",
       "4      12\n",
       "5       1\n",
       "       ..\n",
       "211     0\n",
       "212    20\n",
       "213    73\n",
       "214    25\n",
       "215     7\n",
       "Name: Money_Made, Length: 215, dtype: int64"
      ]
     },
     "execution_count": 120,
     "metadata": {},
     "output_type": "execute_result"
    }
   ],
   "source": [
    "subs"
   ]
  },
  {
   "cell_type": "code",
   "execution_count": 122,
   "metadata": {
    "id": "lVwkTIbOAnHH"
   },
   "outputs": [],
   "source": [
    "new =subs.head()"
   ]
  },
  {
   "cell_type": "code",
   "execution_count": null,
   "metadata": {
    "colab": {
     "base_uri": "https://localhost:8080/"
    },
    "id": "xKR8-xQ0Arwz",
    "outputId": "97cd21b4-9b11-4e58-e0df-20f493f524e4"
   },
   "outputs": [
    {
     "data": {
      "text/plain": [
       "match_no\n",
       "1     1\n",
       "2    23\n",
       "3    13\n",
       "4    12\n",
       "5     1\n",
       "Name: runs, dtype: int64"
      ]
     },
     "execution_count": 95,
     "metadata": {},
     "output_type": "execute_result"
    }
   ],
   "source": [
    "new"
   ]
  },
  {
   "cell_type": "code",
   "execution_count": null,
   "metadata": {
    "id": "LNfE3adFAwAD"
   },
   "outputs": [],
   "source": [
    "new[1] = 1"
   ]
  },
  {
   "cell_type": "code",
   "execution_count": 123,
   "metadata": {
    "id": "e-nedIkNA0UW"
   },
   "outputs": [],
   "source": [
    "new = subs.head().copy()"
   ]
  },
  {
   "cell_type": "code",
   "execution_count": null,
   "metadata": {
    "id": "b2qEYZVEBIX3"
   },
   "outputs": [],
   "source": [
    "new[1] = 100"
   ]
  },
  {
   "cell_type": "code",
   "execution_count": null,
   "metadata": {
    "colab": {
     "base_uri": "https://localhost:8080/"
    },
    "id": "WCFl7LlnBNIt",
    "outputId": "53beac02-d390-47d0-b17a-8a0f5621dc4c"
   },
   "outputs": [
    {
     "data": {
      "text/plain": [
       "match_no\n",
       "1    100\n",
       "2     23\n",
       "3     13\n",
       "4     12\n",
       "5      1\n",
       "Name: runs, dtype: int64"
      ]
     },
     "execution_count": 102,
     "metadata": {},
     "output_type": "execute_result"
    }
   ],
   "source": [
    "new"
   ]
  },
  {
   "cell_type": "code",
   "execution_count": null,
   "metadata": {
    "colab": {
     "base_uri": "https://localhost:8080/"
    },
    "id": "mTrtCs7hBPx5",
    "outputId": "4894f63a-e4ac-44cd-a1bf-28d386ee2912"
   },
   "outputs": [
    {
     "data": {
      "text/plain": [
       "match_no\n",
       "1       1\n",
       "2      23\n",
       "3      13\n",
       "4      12\n",
       "5       1\n",
       "       ..\n",
       "211     0\n",
       "212    20\n",
       "213    73\n",
       "214    25\n",
       "215     7\n",
       "Name: runs, Length: 215, dtype: int64"
      ]
     },
     "execution_count": 103,
     "metadata": {},
     "output_type": "execute_result"
    }
   ],
   "source": [
    "vk"
   ]
  },
  {
   "cell_type": "code",
   "execution_count": null,
   "metadata": {
    "id": "92Amef7tBROO"
   },
   "outputs": [],
   "source": []
  }
 ],
 "metadata": {
  "colab": {
   "provenance": []
  },
  "kernelspec": {
   "display_name": "Python 3",
   "language": "python",
   "name": "python3"
  },
  "language_info": {
   "codemirror_mode": {
    "name": "ipython",
    "version": 3
   },
   "file_extension": ".py",
   "mimetype": "text/x-python",
   "name": "python",
   "nbconvert_exporter": "python",
   "pygments_lexer": "ipython3",
   "version": "3.7.4"
  }
 },
 "nbformat": 4,
 "nbformat_minor": 1
}
