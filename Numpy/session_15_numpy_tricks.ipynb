{
 "cells": [
  {
   "cell_type": "markdown",
   "metadata": {
    "id": "39-UcmoPggtI"
   },
   "source": [
    "### np.sort\n",
    "\n",
    "Return a sorted copy of an array.\n",
    "\n",
    "https://numpy.org/doc/stable/reference/generated/numpy.sort.html"
   ]
  },
  {
   "cell_type": "code",
   "execution_count": 19,
   "metadata": {
    "colab": {
     "base_uri": "https://localhost:8080/"
    },
    "id": "vJUzuaz7gqTr",
    "outputId": "d1039d20-cd2b-41be-ce98-ff9cbc111e50"
   },
   "outputs": [
    {
     "data": {
      "text/plain": [
       "array([50,  5, 81, 31, 13, 96, 51, 97, 70, 97, 10, 15, 12, 24, 23])"
      ]
     },
     "execution_count": 19,
     "metadata": {},
     "output_type": "execute_result"
    }
   ],
   "source": [
    "# code\n",
    "import numpy as np\n",
    "a = np.random.randint(1,100,15)\n",
    "a"
   ]
  },
  {
   "cell_type": "code",
   "execution_count": 12,
   "metadata": {
    "colab": {
     "base_uri": "https://localhost:8080/"
    },
    "id": "Dfer5zY9-HaK",
    "outputId": "1f5c0130-f8de-4b33-e5a8-63631b23fd7b"
   },
   "outputs": [
    {
     "data": {
      "text/plain": [
       "array([[40,  4, 13,  1],\n",
       "       [98, 12, 94,  4],\n",
       "       [76, 75, 53, 76],\n",
       "       [ 1, 82, 23, 47],\n",
       "       [45, 78, 59, 44],\n",
       "       [95, 29, 32, 39]])"
      ]
     },
     "execution_count": 12,
     "metadata": {},
     "output_type": "execute_result"
    }
   ],
   "source": [
    "b = np.random.randint(1,100,24).reshape(6,4)\n",
    "b"
   ]
  },
  {
   "cell_type": "code",
   "execution_count": null,
   "metadata": {
    "colab": {
     "base_uri": "https://localhost:8080/"
    },
    "id": "dyjeU-C6KznM",
    "outputId": "da3b404c-b198-4e62-b744-69f63cdea54a"
   },
   "outputs": [
    {
     "data": {
      "text/plain": [
       "array([94, 92, 78, 68, 53, 50, 38, 37, 30, 28, 21, 11,  9,  5,  2])"
      ]
     },
     "execution_count": 120,
     "metadata": {},
     "output_type": "execute_result"
    }
   ],
   "source": [
    "np.sort(a)[::-1]"
   ]
  },
  {
   "cell_type": "code",
   "execution_count": null,
   "metadata": {
    "colab": {
     "base_uri": "https://localhost:8080/"
    },
    "id": "9fAdd5BWLHsq",
    "outputId": "a37305ea-18d5-4659-9a7a-a252ccc825c3"
   },
   "outputs": [
    {
     "data": {
      "text/plain": [
       "array([[ 8, 18,  2,  6],\n",
       "       [12, 52, 31,  7],\n",
       "       [29, 63, 42,  9],\n",
       "       [38, 71, 44, 55],\n",
       "       [40, 87, 47, 72],\n",
       "       [61, 93, 83, 85]])"
      ]
     },
     "execution_count": 119,
     "metadata": {},
     "output_type": "execute_result"
    }
   ],
   "source": [
    "np.sort(b,axis=0)"
   ]
  },
  {
   "cell_type": "markdown",
   "metadata": {
    "id": "W8tttorjgrVf"
   },
   "source": [
    "### np.append\n",
    "\n",
    "The numpy.append() appends values along the mentioned axis at the end of the array\n",
    "\n",
    "https://numpy.org/doc/stable/reference/generated/numpy.append.html"
   ]
  },
  {
   "cell_type": "code",
   "execution_count": null,
   "metadata": {
    "colab": {
     "base_uri": "https://localhost:8080/"
    },
    "id": "Y3fHkR1gfd1X",
    "outputId": "621892ba-8b7e-4150-b56d-623aac9574cd"
   },
   "outputs": [
    {
     "data": {
      "text/plain": [
       "array([ 11,  53,  28,  50,  38,  37,  94,  92,   5,  30,  68,   9,  78,\n",
       "         2,  21, 200])"
      ]
     },
     "execution_count": 122,
     "metadata": {},
     "output_type": "execute_result"
    }
   ],
   "source": [
    "# code\n",
    "np.append(a,200)"
   ]
  },
  {
   "cell_type": "code",
   "execution_count": null,
   "metadata": {
    "colab": {
     "base_uri": "https://localhost:8080/"
    },
    "id": "vmPc3zS3L2LL",
    "outputId": "7e90ac52-ae30-4325-b3b7-d526a9cdb4d3"
   },
   "outputs": [
    {
     "data": {
      "text/plain": [
       "array([[12, 52, 42,  6],\n",
       "       [29, 18, 47, 55],\n",
       "       [61, 93, 83,  9],\n",
       "       [38, 63, 44, 85],\n",
       "       [ 8, 87, 31, 72],\n",
       "       [40, 71,  2,  7]])"
      ]
     },
     "execution_count": 123,
     "metadata": {},
     "output_type": "execute_result"
    }
   ],
   "source": [
    "b"
   ]
  },
  {
   "cell_type": "code",
   "execution_count": null,
   "metadata": {
    "colab": {
     "base_uri": "https://localhost:8080/"
    },
    "id": "LsIvCKQ5L-DB",
    "outputId": "79a6a4f6-b7e1-44ae-8add-d94305396e0f"
   },
   "outputs": [
    {
     "data": {
      "text/plain": [
       "array([[12.        , 52.        , 42.        ,  6.        ,  0.22006275],\n",
       "       [29.        , 18.        , 47.        , 55.        ,  0.81740634],\n",
       "       [61.        , 93.        , 83.        ,  9.        ,  0.89146072],\n",
       "       [38.        , 63.        , 44.        , 85.        ,  0.84519124],\n",
       "       [ 8.        , 87.        , 31.        , 72.        ,  0.24007274],\n",
       "       [40.        , 71.        ,  2.        ,  7.        ,  0.48056374]])"
      ]
     },
     "execution_count": 126,
     "metadata": {},
     "output_type": "execute_result"
    }
   ],
   "source": [
    "np.append(b,np.random.random((b.shape[0],1)),axis=1)"
   ]
  },
  {
   "cell_type": "markdown",
   "metadata": {
    "id": "meIMn8T9g5-m"
   },
   "source": [
    "### np.concatenate\n",
    "\n",
    "numpy.concatenate() function concatenate a sequence of arrays along an existing axis.\n",
    "\n",
    "https://numpy.org/doc/stable/reference/generated/numpy.concatenate.html"
   ]
  },
  {
   "cell_type": "code",
   "execution_count": null,
   "metadata": {
    "colab": {
     "base_uri": "https://localhost:8080/"
    },
    "id": "Nrj1_QXfWZlV",
    "outputId": "5c60e20d-f4a2-40b8-e7ce-f0a5019225c8"
   },
   "outputs": [
    {
     "name": "stdout",
     "output_type": "stream",
     "text": [
      "[[0 1 2]\n",
      " [3 4 5]]\n",
      "[[ 6  7  8]\n",
      " [ 9 10 11]]\n"
     ]
    }
   ],
   "source": [
    "# code\n",
    "c = np.arange(6).reshape(2,3)\n",
    "d = np.arange(6,12).reshape(2,3)\n",
    "\n",
    "print(c)\n",
    "print(d)"
   ]
  },
  {
   "cell_type": "code",
   "execution_count": null,
   "metadata": {
    "colab": {
     "base_uri": "https://localhost:8080/"
    },
    "id": "fDHBrV7VA4yz",
    "outputId": "832c4406-2b60-4e17-faa0-5008e109eb95"
   },
   "outputs": [
    {
     "data": {
      "text/plain": [
       "array([[ 0,  1,  2],\n",
       "       [ 3,  4,  5],\n",
       "       [ 6,  7,  8],\n",
       "       [ 9, 10, 11]])"
      ]
     },
     "execution_count": 128,
     "metadata": {},
     "output_type": "execute_result"
    }
   ],
   "source": [
    "np.concatenate((c,d),axis=0)"
   ]
  },
  {
   "cell_type": "code",
   "execution_count": null,
   "metadata": {
    "colab": {
     "base_uri": "https://localhost:8080/"
    },
    "id": "GN9DnJ65Mr_b",
    "outputId": "6710e353-cd19-4376-8bd8-a38b7dbadc5a"
   },
   "outputs": [
    {
     "data": {
      "text/plain": [
       "array([[ 0,  1,  2,  6,  7,  8],\n",
       "       [ 3,  4,  5,  9, 10, 11]])"
      ]
     },
     "execution_count": 129,
     "metadata": {},
     "output_type": "execute_result"
    }
   ],
   "source": [
    "np.concatenate((c,d),axis=1)"
   ]
  },
  {
   "cell_type": "markdown",
   "metadata": {
    "id": "oHGFqHcohFtB"
   },
   "source": [
    "### np.unique\n",
    "\n",
    "With the help of np.unique() method, we can get the unique values from an array given as parameter in np.unique() method.\n",
    "\n",
    "https://numpy.org/doc/stable/reference/generated/numpy.unique.html/"
   ]
  },
  {
   "cell_type": "code",
   "execution_count": null,
   "metadata": {
    "id": "NvG0KHpNWdN_"
   },
   "outputs": [],
   "source": [
    "# code\n",
    "e = np.array([1,1,2,2,3,3,4,4,5,5,6,6])"
   ]
  },
  {
   "cell_type": "code",
   "execution_count": null,
   "metadata": {
    "colab": {
     "base_uri": "https://localhost:8080/"
    },
    "id": "XWr932XeCFz1",
    "outputId": "022a4f28-38ae-4041-caea-d1f8f394b58c"
   },
   "outputs": [
    {
     "data": {
      "text/plain": [
       "array([1, 2, 3, 4, 5, 6])"
      ]
     },
     "execution_count": 131,
     "metadata": {},
     "output_type": "execute_result"
    }
   ],
   "source": [
    "np.unique(e)"
   ]
  },
  {
   "cell_type": "markdown",
   "metadata": {
    "id": "Wki2yOXaEZV3"
   },
   "source": [
    "### np.expand_dims\n",
    "\n",
    "With the help of Numpy.expand_dims() method, we can get the expanded dimensions of an array\n",
    "\n",
    "https://numpy.org/doc/stable/reference/generated/numpy.expand_dims.html"
   ]
  },
  {
   "cell_type": "code",
   "execution_count": null,
   "metadata": {
    "colab": {
     "base_uri": "https://localhost:8080/"
    },
    "id": "Pyvf-oZ0XTvr",
    "outputId": "3d75c6c4-8019-4d36-d29a-ebf0a213f3ef"
   },
   "outputs": [
    {
     "data": {
      "text/plain": [
       "(15,)"
      ]
     },
     "execution_count": 134,
     "metadata": {},
     "output_type": "execute_result"
    }
   ],
   "source": [
    "# code\n",
    "a.shape"
   ]
  },
  {
   "cell_type": "code",
   "execution_count": null,
   "metadata": {
    "colab": {
     "base_uri": "https://localhost:8080/"
    },
    "id": "B-Pk9HNzNdrb",
    "outputId": "b7cd6597-410a-4016-ba3b-f5103d608db8"
   },
   "outputs": [
    {
     "data": {
      "text/plain": [
       "(1, 15)"
      ]
     },
     "execution_count": 135,
     "metadata": {},
     "output_type": "execute_result"
    }
   ],
   "source": [
    "np.expand_dims(a,axis=0).shape"
   ]
  },
  {
   "cell_type": "code",
   "execution_count": null,
   "metadata": {
    "colab": {
     "base_uri": "https://localhost:8080/"
    },
    "id": "5d0Ahp8QNsKO",
    "outputId": "14587e87-7f0f-4b9c-8df8-dd5500f21878",
    "scrolled": true
   },
   "outputs": [
    {
     "data": {
      "text/plain": [
       "array([[11],\n",
       "       [53],\n",
       "       [28],\n",
       "       [50],\n",
       "       [38],\n",
       "       [37],\n",
       "       [94],\n",
       "       [92],\n",
       "       [ 5],\n",
       "       [30],\n",
       "       [68],\n",
       "       [ 9],\n",
       "       [78],\n",
       "       [ 2],\n",
       "       [21]])"
      ]
     },
     "execution_count": 137,
     "metadata": {},
     "output_type": "execute_result"
    }
   ],
   "source": [
    "np.expand_dims(a,axis=1)"
   ]
  },
  {
   "cell_type": "markdown",
   "metadata": {},
   "source": [
    "In machine learning, np.expand_dims() can be used in several ways, such as:\n",
    "\n",
    "- Expanding the dimensions of an image array to include a batch size dimension for training a deep learning model.\n",
    "- Expanding the dimensions of a time series array to include a temporal dimension for training a recurrent neural network.\n",
    "- Expanding the dimensions of a tensor to perform element-wise operations with tensors of different shapes."
   ]
  },
  {
   "cell_type": "markdown",
   "metadata": {},
   "source": [
    "In computer vision problems, images are represented as arrays of pixel values. These arrays typically have a shape of (height, width, channels), where channels represent the color information of the image (e.g., RGB has 3 channels).\n",
    "\n",
    "When working with deep learning models for computer vision tasks, it's often necessary to preprocess the images to prepare them for training. This can involve operations such as resizing, normalization, and data augmentation.\n",
    "\n",
    "In this context, np.expand_dims can be used to add an extra dimension to the image array. This is often necessary when feeding the images into a deep learning model, which may require a certain input shape. For example, a model may require input of shape (batch_size, height, width, channels). If you have a single image with shape (height, width, channels), you can use np.expand_dims to add an extra dimension of size 1 to the front of the array, resulting in a shape of (1, height, width, channels). This can then be stacked along the batch dimension to form a batch of images with shape (batch_size, height, width, channels).\n",
    "\n",
    "Batching is a technique commonly used in deep learning to speed up the training process and to enable the use of stochastic gradient descent (SGD) optimization algorithms. Instead of processing each training example independently, the examples are grouped into batches and the model updates its weights based on the average of the gradients computed for each example in the batch.\n",
    "\n",
    "By using batches, the model can make more frequent updates to its weights, which can lead to faster convergence during training. Additionally, batching allows the model to use parallel processing, as different batches can be processed by different processors or GPUs at the same time.\n",
    "\n",
    "Furthermore, batching can help to reduce the memory requirements of training large models. By processing a subset of the data at a time, the model can fit into the available memory of the GPU or CPU, which can allow larger models to be trained."
   ]
  },
  {
   "cell_type": "code",
   "execution_count": null,
   "metadata": {},
   "outputs": [],
   "source": [
    "import numpy as np\n",
    "from tensorflow import keras\n",
    "\n",
    "# Load a pre-trained image classification model\n",
    "model = keras.applications.ResNet50(weights='imagenet')\n",
    "\n",
    "# Load a single image to classify\n",
    "img_path = 'image.jpg'\n",
    "img = keras.preprocessing.image.load_img(img_path, target_size=(224, 224))\n",
    "img_tensor = keras.preprocessing.image.img_to_array(img)\n",
    "\n",
    "# Preprocess the image for input to the model\n",
    "img_tensor /= 255.\n",
    "img_tensor -= 0.5\n",
    "img_tensor *= 2.\n",
    "\n",
    "# Add a batch dimension to the image tensor\n",
    "img_tensor = np.expand_dims(img_tensor, axis=0)\n",
    "\n",
    "# Classify the image using the model\n",
    "preds = model.predict(img_tensor)\n"
   ]
  },
  {
   "cell_type": "markdown",
   "metadata": {},
   "source": [
    "In this example, we load a pre-trained ResNet50 model and a single image to classify. We preprocess the image for input to the model and then use np.expand_dims() to add a batch dimension to the image tensor. \n",
    "\n",
    "Finally, we pass the batch of size 1 to the model's predict() method to get the predicted class probabilities."
   ]
  },
  {
   "cell_type": "markdown",
   "metadata": {
    "id": "_HmpYNTFERjS"
   },
   "source": [
    "### np.where\n",
    "\n",
    "The numpy.where() function returns the indices of elements in an input array where the given condition is satisfied.\n",
    "\n",
    "https://numpy.org/doc/stable/reference/generated/numpy.where.html"
   ]
  },
  {
   "cell_type": "code",
   "execution_count": null,
   "metadata": {
    "colab": {
     "base_uri": "https://localhost:8080/"
    },
    "id": "H8k_ZDXjEo5W",
    "outputId": "688a96ee-b66c-48b7-8778-b502d489c82b"
   },
   "outputs": [
    {
     "data": {
      "text/plain": [
       "array([11, 53, 28, 50, 38, 37, 94, 92,  5, 30, 68,  9, 78,  2, 21])"
      ]
     },
     "execution_count": 138,
     "metadata": {},
     "output_type": "execute_result"
    }
   ],
   "source": [
    "a"
   ]
  },
  {
   "cell_type": "code",
   "execution_count": null,
   "metadata": {
    "colab": {
     "base_uri": "https://localhost:8080/"
    },
    "id": "n9mkvdFdHGLY",
    "outputId": "f39b8dd3-bbe4-4dc6-941d-03add9d30b08"
   },
   "outputs": [
    {
     "data": {
      "text/plain": [
       "(array([ 1,  6,  7, 10, 12]),)"
      ]
     },
     "execution_count": 139,
     "metadata": {},
     "output_type": "execute_result"
    }
   ],
   "source": [
    "# find all indices with value greater than 50\n",
    "np.where(a>50)"
   ]
  },
  {
   "cell_type": "code",
   "execution_count": null,
   "metadata": {
    "colab": {
     "base_uri": "https://localhost:8080/"
    },
    "id": "zJAUufBOHcu1",
    "outputId": "dcd75885-d287-41f3-f5cd-5025518d0024"
   },
   "outputs": [
    {
     "data": {
      "text/plain": [
       "array([11,  0, 28, 50, 38, 37,  0,  0,  5, 30,  0,  9,  0,  2, 21])"
      ]
     },
     "execution_count": 140,
     "metadata": {},
     "output_type": "execute_result"
    }
   ],
   "source": [
    "# replace all values > 50 with 0\n",
    "np.where(a>50,0,a)"
   ]
  },
  {
   "cell_type": "code",
   "execution_count": null,
   "metadata": {
    "colab": {
     "base_uri": "https://localhost:8080/"
    },
    "id": "Ygx7fC0BPP9e",
    "outputId": "45b4df8d-de53-4f5d-8917-969ba8895b88"
   },
   "outputs": [
    {
     "data": {
      "text/plain": [
       "array([11, 53,  0,  0,  0, 37,  0,  0,  5,  0,  0,  9,  0,  0, 21])"
      ]
     },
     "execution_count": 141,
     "metadata": {},
     "output_type": "execute_result"
    }
   ],
   "source": [
    "np.where(a%2 == 0,0,a)"
   ]
  },
  {
   "cell_type": "markdown",
   "metadata": {},
   "source": [
    "<b>Data preprocessing:</b> When working with tabular data, we often need to clean up missing or invalid values. np.where can be used to identify the indices of these values and replace them with a default value or the mean/median of the corresponding feature. For example, to replace all missing values in a numpy array X with the mean of the corresponding column, we can use:"
   ]
  },
  {
   "cell_type": "code",
   "execution_count": null,
   "metadata": {},
   "outputs": [],
   "source": [
    "X[np.where(np.isnan(X))] = np.nanmean(X, axis=0)\n"
   ]
  },
  {
   "cell_type": "markdown",
   "metadata": {},
   "source": [
    "<b>Labeling data</b>: In supervised learning tasks, we often need to label data based on certain criteria. For example, to label all images in a dataset as \"cat\" or \"dog\" based on their filenames, we can use:"
   ]
  },
  {
   "cell_type": "code",
   "execution_count": null,
   "metadata": {},
   "outputs": [],
   "source": [
    "filenames = ['cat001.jpg', 'dog001.jpg', 'cat002.jpg', 'dog002.jpg']\n",
    "labels = np.where([filename.startswith('cat') for filename in filenames], 'cat', 'dog')\n"
   ]
  },
  {
   "cell_type": "markdown",
   "metadata": {},
   "source": [
    "This creates a numpy array labels containing the labels \"cat\" or \"dog\" based on whether the corresponding filename starts with \"cat\" or \"dog\"."
   ]
  },
  {
   "cell_type": "markdown",
   "metadata": {},
   "source": [
    "<b>Masking:</b> np.where can also be used to create boolean masks for filtering data based on certain conditions. For example, to create a mask for all elements in an array X that are greater than a threshold t, we can use:"
   ]
  },
  {
   "cell_type": "code",
   "execution_count": null,
   "metadata": {},
   "outputs": [],
   "source": [
    "mask = np.where(X > t, True, False)\n",
    "filtered_X = X[mask]\n"
   ]
  },
  {
   "cell_type": "markdown",
   "metadata": {},
   "source": [
    "This creates a boolean mask mask with True values where the corresponding elements in X are greater than t. We can then use this mask to filter out the corresponding elements from X to create a new array filtered_X."
   ]
  },
  {
   "cell_type": "markdown",
   "metadata": {
    "id": "jsGIGNtCIS5-"
   },
   "source": [
    "### np.argmax\n",
    "\n",
    "The numpy.argmax() function returns indices of the max element of the array in a particular axis.\n",
    "\n",
    "https://numpy.org/doc/stable/reference/generated/numpy.argmax.html"
   ]
  },
  {
   "cell_type": "code",
   "execution_count": null,
   "metadata": {
    "colab": {
     "base_uri": "https://localhost:8080/"
    },
    "id": "8YlXmMuaIRpj",
    "outputId": "448f7ecd-0282-41c4-d319-690f6219562b"
   },
   "outputs": [
    {
     "data": {
      "text/plain": [
       "array([11, 53, 28, 50, 38, 37, 94, 92,  5, 30, 68,  9, 78,  2, 21])"
      ]
     },
     "execution_count": 142,
     "metadata": {},
     "output_type": "execute_result"
    }
   ],
   "source": [
    "# code\n",
    "a"
   ]
  },
  {
   "cell_type": "code",
   "execution_count": null,
   "metadata": {
    "colab": {
     "base_uri": "https://localhost:8080/"
    },
    "id": "gdrU6cQ9Pn_A",
    "outputId": "f1f091e9-aabb-4ce5-e0e7-3b2fe3062426"
   },
   "outputs": [
    {
     "data": {
      "text/plain": [
       "6"
      ]
     },
     "execution_count": 143,
     "metadata": {},
     "output_type": "execute_result"
    }
   ],
   "source": [
    "np.argmax(a)"
   ]
  },
  {
   "cell_type": "code",
   "execution_count": null,
   "metadata": {
    "colab": {
     "base_uri": "https://localhost:8080/"
    },
    "id": "CohggNGrP5am",
    "outputId": "596701c9-6de8-4c0c-c749-b43b4f34babe"
   },
   "outputs": [
    {
     "data": {
      "text/plain": [
       "array([[12, 52, 42,  6],\n",
       "       [29, 18, 47, 55],\n",
       "       [61, 93, 83,  9],\n",
       "       [38, 63, 44, 85],\n",
       "       [ 8, 87, 31, 72],\n",
       "       [40, 71,  2,  7]])"
      ]
     },
     "execution_count": 145,
     "metadata": {},
     "output_type": "execute_result"
    }
   ],
   "source": [
    "b"
   ]
  },
  {
   "cell_type": "code",
   "execution_count": null,
   "metadata": {
    "colab": {
     "base_uri": "https://localhost:8080/"
    },
    "id": "435CD24aIpNA",
    "outputId": "d084240d-6966-4a42-9d98-2d285e69dc3a"
   },
   "outputs": [
    {
     "data": {
      "text/plain": [
       "array([2, 2, 2, 3])"
      ]
     },
     "execution_count": 144,
     "metadata": {},
     "output_type": "execute_result"
    }
   ],
   "source": [
    "np.argmax(b,axis=0)"
   ]
  },
  {
   "cell_type": "code",
   "execution_count": null,
   "metadata": {
    "colab": {
     "base_uri": "https://localhost:8080/"
    },
    "id": "PBuZH3mbQE1U",
    "outputId": "1f76fb63-e7d8-4593-de4c-1282c2ca8c9c"
   },
   "outputs": [
    {
     "data": {
      "text/plain": [
       "array([1, 3, 1, 3, 1, 1])"
      ]
     },
     "execution_count": 146,
     "metadata": {},
     "output_type": "execute_result"
    }
   ],
   "source": [
    "np.argmax(b,axis=1)"
   ]
  },
  {
   "cell_type": "code",
   "execution_count": null,
   "metadata": {
    "colab": {
     "base_uri": "https://localhost:8080/"
    },
    "id": "T9TrLGNBWjV1",
    "outputId": "fa3cbdae-82e3-4c10-fa10-4dfb654b3263"
   },
   "outputs": [
    {
     "data": {
      "text/plain": [
       "13"
      ]
     },
     "execution_count": 148,
     "metadata": {},
     "output_type": "execute_result"
    }
   ],
   "source": [
    "# np.argmin\n",
    "np.argmin(a)"
   ]
  },
  {
   "cell_type": "markdown",
   "metadata": {},
   "source": [
    "Consider a neural network that predicts the likelihood of an image belonging to one of 10 classes. The output layer of the neural network might have 10 nodes, each representing the likelihood of the input image belonging to a particular class. We can use np.argmax to determine which class the neural network predicts the image belongs to:"
   ]
  },
  {
   "cell_type": "code",
   "execution_count": 1,
   "metadata": {},
   "outputs": [
    {
     "name": "stdout",
     "output_type": "stream",
     "text": [
      "7\n"
     ]
    }
   ],
   "source": [
    "import numpy as np\n",
    "\n",
    "# Example output from a neural network\n",
    "output = np.array([0.05, 0.1, 0.1, 0.05, 0.05, 0.05, 0.05, 0.2, 0.2, 0.15])\n",
    "\n",
    "# Predicted class\n",
    "predicted_class = np.argmax(output)\n",
    "\n",
    "print(predicted_class) # Output: 7\n"
   ]
  },
  {
   "cell_type": "markdown",
   "metadata": {},
   "source": [
    "In this example, the predicted class is 7, which corresponds to the node with the highest output value in the output layer."
   ]
  },
  {
   "cell_type": "code",
   "execution_count": 3,
   "metadata": {},
   "outputs": [
    {
     "name": "stdout",
     "output_type": "stream",
     "text": [
      "Accuracy: 0.07\n"
     ]
    }
   ],
   "source": [
    "import numpy as np\n",
    "\n",
    "# Generate some dummy data\n",
    "X = np.random.rand(100, 10) # 100 samples, 10 features\n",
    "y = np.random.randint(0, 10, size=100) # 100 labels, each between 0 and 9\n",
    "\n",
    "# Define a simple neural network with a single hidden layer\n",
    "n_input = X.shape[1]\n",
    "n_hidden = 20\n",
    "n_output = 10\n",
    "\n",
    "W1 = np.random.randn(n_input, n_hidden) # weights for input to hidden layer\n",
    "b1 = np.random.randn(n_hidden) # biases for input to hidden layer\n",
    "W2 = np.random.randn(n_hidden, n_output) # weights for hidden to output layer\n",
    "b2 = np.random.randn(n_output) # biases for hidden to output layer\n",
    "\n",
    "# Forward pass through the network\n",
    "hidden_layer = np.maximum(0, np.dot(X, W1) + b1) # ReLU activation\n",
    "output_layer = np.dot(hidden_layer, W2) + b2\n",
    "\n",
    "# Use argmax to predict the class labels\n",
    "predicted_labels = np.argmax(output_layer, axis=1)\n",
    "\n",
    "# Compute the accuracy of the predictions\n",
    "accuracy = np.mean(predicted_labels == y)\n",
    "\n",
    "print(f\"Accuracy: {accuracy:.2f}\")\n"
   ]
  },
  {
   "cell_type": "markdown",
   "metadata": {},
   "source": [
    "In this example, we first generate some random data consisting of 100 samples, each with 10 features, and 100 corresponding labels. We then define a simple neural network with a single hidden layer and 20 hidden units, and use it to make predictions on the data using np.argmax. Finally, we compute the accuracy of the predictions and print the result."
   ]
  },
  {
   "cell_type": "markdown",
   "metadata": {
    "id": "1OdKi27pa091"
   },
   "source": [
    "### np.cumsum\n",
    "\n",
    "numpy.cumsum() function is used when we want to compute the cumulative sum of array elements over a given axis.\n",
    "\n",
    "https://numpy.org/doc/stable/reference/generated/numpy.cumsum.html"
   ]
  },
  {
   "cell_type": "code",
   "execution_count": null,
   "metadata": {
    "colab": {
     "base_uri": "https://localhost:8080/"
    },
    "id": "VZmQUWH9bDk_",
    "outputId": "5555c8b5-2b7a-494b-c118-ad97bc253e3c"
   },
   "outputs": [
    {
     "data": {
      "text/plain": [
       "array([11, 53, 28, 50, 38, 37, 94, 92,  5, 30, 68,  9, 78,  2, 21])"
      ]
     },
     "execution_count": 149,
     "metadata": {},
     "output_type": "execute_result"
    }
   ],
   "source": [
    "a"
   ]
  },
  {
   "cell_type": "code",
   "execution_count": null,
   "metadata": {
    "colab": {
     "base_uri": "https://localhost:8080/"
    },
    "id": "O0npD0R_RF-A",
    "outputId": "6bdbba06-e6f5-4ff0-8a7c-12c6ccd82f8b"
   },
   "outputs": [
    {
     "data": {
      "text/plain": [
       "array([ 11,  64,  92, 142, 180, 217, 311, 403, 408, 438, 506, 515, 593,\n",
       "       595, 616])"
      ]
     },
     "execution_count": 150,
     "metadata": {},
     "output_type": "execute_result"
    }
   ],
   "source": [
    "np.cumsum(a)"
   ]
  },
  {
   "cell_type": "code",
   "execution_count": null,
   "metadata": {
    "colab": {
     "base_uri": "https://localhost:8080/"
    },
    "id": "Ypr5nUGxRJuO",
    "outputId": "c5daf9f8-4115-442b-d7e5-3c2c7fbe6ff9"
   },
   "outputs": [
    {
     "data": {
      "text/plain": [
       "array([[12, 52, 42,  6],\n",
       "       [29, 18, 47, 55],\n",
       "       [61, 93, 83,  9],\n",
       "       [38, 63, 44, 85],\n",
       "       [ 8, 87, 31, 72],\n",
       "       [40, 71,  2,  7]])"
      ]
     },
     "execution_count": 151,
     "metadata": {},
     "output_type": "execute_result"
    }
   ],
   "source": [
    "b"
   ]
  },
  {
   "cell_type": "code",
   "execution_count": null,
   "metadata": {
    "colab": {
     "base_uri": "https://localhost:8080/"
    },
    "id": "WXRZyWT9RTMw",
    "outputId": "325ecfe7-d7e7-4c0c-8f12-1f4fb464ccaa"
   },
   "outputs": [
    {
     "data": {
      "text/plain": [
       "array([[ 12,  64, 106, 112],\n",
       "       [ 29,  47,  94, 149],\n",
       "       [ 61, 154, 237, 246],\n",
       "       [ 38, 101, 145, 230],\n",
       "       [  8,  95, 126, 198],\n",
       "       [ 40, 111, 113, 120]])"
      ]
     },
     "execution_count": 154,
     "metadata": {},
     "output_type": "execute_result"
    }
   ],
   "source": [
    "np.cumsum(b,axis=1)"
   ]
  },
  {
   "cell_type": "code",
   "execution_count": null,
   "metadata": {
    "colab": {
     "base_uri": "https://localhost:8080/"
    },
    "id": "5WGkAjfjRNOe",
    "outputId": "9fe4827c-86b1-4c15-d26f-8a2232e6cffd"
   },
   "outputs": [
    {
     "data": {
      "text/plain": [
       "array([  12,   64,  106,  112,  141,  159,  206,  261,  322,  415,  498,\n",
       "        507,  545,  608,  652,  737,  745,  832,  863,  935,  975, 1046,\n",
       "       1048, 1055])"
      ]
     },
     "execution_count": 152,
     "metadata": {},
     "output_type": "execute_result"
    }
   ],
   "source": [
    "np.cumsum(b)"
   ]
  },
  {
   "cell_type": "code",
   "execution_count": null,
   "metadata": {
    "colab": {
     "base_uri": "https://localhost:8080/"
    },
    "id": "RtGuPGr9WlVV",
    "outputId": "6adf6a7d-815f-4b94-d5fc-f85366c5d227"
   },
   "outputs": [
    {
     "data": {
      "text/plain": [
       "array([                  11,                  583,                16324,\n",
       "                     816200,             31015600,           1147577200,\n",
       "               107872256800,        9924247625600,       49621238128000,\n",
       "           1488637143840000,   101227325781120000,   911045932030080000,\n",
       "       -2725393596491966464, -5450787192983932928, -3786066610405281792])"
      ]
     },
     "execution_count": 156,
     "metadata": {},
     "output_type": "execute_result"
    }
   ],
   "source": [
    "# np.cumprod\n",
    "np.cumprod(a)"
   ]
  },
  {
   "cell_type": "code",
   "execution_count": null,
   "metadata": {
    "colab": {
     "base_uri": "https://localhost:8080/"
    },
    "id": "8kdxzQXiRMOS",
    "outputId": "c052981c-77a4-48f2-f3a3-fdf8a2c214a2"
   },
   "outputs": [
    {
     "data": {
      "text/plain": [
       "array([11, 53, 28, 50, 38, 37, 94, 92,  5, 30, 68,  9, 78,  2, 21])"
      ]
     },
     "execution_count": 155,
     "metadata": {},
     "output_type": "execute_result"
    }
   ],
   "source": [
    "a"
   ]
  },
  {
   "cell_type": "markdown",
   "metadata": {},
   "source": [
    " In machine learning, it is commonly used to compute the cumulative sum of losses or errors during training.\n",
    " \n",
    " For example, during the training of a neural network, the loss function is computed for each batch of training data. The cumulative sum of these losses over the entire training set can be computed using np.cumsum, and this can be used to monitor the progress of the training.\n",
    "\n",
    "Here's an example code snippet that demonstrates the use of np.cumsum in machine learning:"
   ]
  },
  {
   "cell_type": "code",
   "execution_count": 4,
   "metadata": {},
   "outputs": [],
   "source": [
    "import numpy as np\n",
    "import tensorflow as tf\n",
    "\n",
    "# Generate some training data\n",
    "X = np.random.rand(100, 10)\n",
    "y = np.random.randint(0, 2, size=(100, 1))\n",
    "\n",
    "# Define the model\n",
    "model = tf.keras.Sequential([\n",
    "  tf.keras.layers.Dense(64, activation='relu'),\n",
    "  tf.keras.layers.Dense(1, activation='sigmoid')\n",
    "])\n",
    "\n",
    "# Compile the model\n",
    "model.compile(optimizer='adam',\n",
    "              loss='binary_crossentropy',\n",
    "              metrics=['accuracy'])\n",
    "\n",
    "# Train the model and compute the cumulative sum of losses\n",
    "losses = []\n",
    "for i in range(10):\n",
    "  history = model.fit(X, y, epochs=10, batch_size=32, verbose=0)\n",
    "  losses.extend(history.history['loss'])\n",
    "cumulative_losses = np.cumsum(losses)\n"
   ]
  },
  {
   "cell_type": "markdown",
   "metadata": {},
   "source": [
    "In the above code, np.cumsum is used to compute the cumulative sum of the training losses over multiple epochs of training. These cumulative losses can be plotted against the number of epochs to visualize the progress of the training and to determine if the model is converging properly."
   ]
  },
  {
   "cell_type": "markdown",
   "metadata": {},
   "source": [
    "Plotting the cumulative sum of a data set can provide insights into the overall trends and patterns of the data. It can help in identifying the overall behavior of the data, such as whether it is increasing, decreasing, or fluctuating. Additionally, plotting the cumulative sum can also help in identifying outliers and changes in the trend of the data. This information can be useful in various machine learning applications, such as time series analysis, anomaly detection, and trend forecasting."
   ]
  },
  {
   "cell_type": "code",
   "execution_count": 8,
   "metadata": {},
   "outputs": [
    {
     "data": {
      "image/png": "[encoded data removed]",
      "text/plain": [
       "<Figure size 432x288 with 1 Axes>"
      ]
     },
     "metadata": {
      "needs_background": "light"
     },
     "output_type": "display_data"
    }
   ],
   "source": [
    "%matplotlib inline\n",
    "import numpy as np\n",
    "import matplotlib.pyplot as plt\n",
    "\n",
    "# generate some random errors\n",
    "errors = np.random.normal(0, 1, 100)\n",
    "\n",
    "# calculate the cumulative sum of the errors\n",
    "cumulative_errors = np.cumsum(errors)\n",
    "\n",
    "# plot the cumulative errors\n",
    "plt.plot(cumulative_errors)\n",
    "plt.title('Cumulative Errors')\n",
    "plt.xlabel('Time')\n",
    "plt.ylabel('Cumulative Sum of Errors')\n",
    "plt.show()\n"
   ]
  },
  {
   "cell_type": "markdown",
   "metadata": {
    "id": "SIuRwLMjcnOl"
   },
   "source": [
    "### np.percentile\n",
    "\n",
    "numpy.percentile()function used to compute the nth percentile of the given data (array elements) along the specified axis. \n",
    "\n",
    "https://numpy.org/doc/stable/reference/generated/numpy.percentile.html"
   ]
  },
  {
   "cell_type": "code",
   "execution_count": null,
   "metadata": {
    "colab": {
     "base_uri": "https://localhost:8080/"
    },
    "id": "_o8iH4Evcl8C",
    "outputId": "cefa31c8-c4b3-4fb0-aa47-c786c65fcd8a"
   },
   "outputs": [
    {
     "data": {
      "text/plain": [
       "array([11, 53, 28, 50, 38, 37, 94, 92,  5, 30, 68,  9, 78,  2, 21])"
      ]
     },
     "execution_count": 157,
     "metadata": {},
     "output_type": "execute_result"
    }
   ],
   "source": [
    "a"
   ]
  },
  {
   "cell_type": "code",
   "execution_count": null,
   "metadata": {
    "colab": {
     "base_uri": "https://localhost:8080/"
    },
    "id": "gBH8ZvtrSND9",
    "outputId": "baee8f9f-e1bd-40dd-ffd6-c50b5660c975"
   },
   "outputs": [
    {
     "data": {
      "text/plain": [
       "37.0"
      ]
     },
     "execution_count": 160,
     "metadata": {},
     "output_type": "execute_result"
    }
   ],
   "source": [
    "np.percentile(a,50)"
   ]
  },
  {
   "cell_type": "code",
   "execution_count": null,
   "metadata": {
    "colab": {
     "base_uri": "https://localhost:8080/"
    },
    "id": "KLIhMJSTScTy",
    "outputId": "62d539c9-0d48-4791-d269-752469424313"
   },
   "outputs": [
    {
     "data": {
      "text/plain": [
       "37.0"
      ]
     },
     "execution_count": 161,
     "metadata": {},
     "output_type": "execute_result"
    }
   ],
   "source": [
    "np.median(a)"
   ]
  },
  {
   "cell_type": "markdown",
   "metadata": {},
   "source": [
    " np.percentile can be used to identify outliers and determine the range of values in which the majority of the data points lie. It can also be used to normalize data by scaling the values between 0 and 1 or between -1 and 1.\n",
    " \n",
    " For example, in image processing, np.percentile can be used to normalize pixel values between 0 and 1 or between -1 and 1. This is important because some machine learning algorithms, such as neural networks, work best with inputs that have values between 0 and 1 or between -1 and 1.\n",
    " \n",
    " Here is an example of using np.percentile to normalize the pixel values of an image:"
   ]
  },
  {
   "cell_type": "code",
   "execution_count": null,
   "metadata": {},
   "outputs": [],
   "source": [
    "import numpy as np\n",
    "from PIL import Image\n",
    "\n",
    "# Load image\n",
    "img = Image.open(\"image.jpg\")\n",
    "\n",
    "# Convert image to grayscale and convert to NumPy array\n",
    "gray_img = img.convert(\"L\")\n",
    "img_arr = np.asarray(gray_img)\n",
    "\n",
    "# Normalize pixel values between 0 and 1 using np.percentile\n",
    "p1, p99 = np.percentile(img_arr, (1, 99))\n",
    "img_arr_norm = (img_arr - p1) / (p99 - p1)\n",
    "\n",
    "# Display normalized image\n",
    "Image.fromarray(np.uint8(img_arr_norm*255))\n"
   ]
  },
  {
   "cell_type": "markdown",
   "metadata": {},
   "source": [
    "In this example, np.percentile is used to calculate the 1st and 99th percentiles of the pixel values in the image. These values are then used to normalize the pixel values between 0 and 1, and the resulting image is displayed.\n",
    "\n",
    "In the above code, np.percentile() is used with a value of 99, not 100, because the aim is to remove the top 1% of the data. If 100 was used, it would remove all the data, which is not the intention.\n",
    "\n",
    "Using 99 as a percentile value allows us to remove only the top 1% of the data, which can be useful for removing outliers or extreme values that can skew the analysis or modeling."
   ]
  },
  {
   "cell_type": "markdown",
   "metadata": {
    "id": "2C6nGaJHev5N"
   },
   "source": [
    "### np.histogram\n",
    "\n",
    "Numpy has a built-in numpy.histogram() function which represents the frequency of data distribution in the graphical form.\n",
    "\n",
    "https://numpy.org/doc/stable/reference/generated/numpy.histogram.html"
   ]
  },
  {
   "cell_type": "code",
   "execution_count": 13,
   "metadata": {
    "colab": {
     "base_uri": "https://localhost:8080/"
    },
    "id": "S2pFLU5ZWuTx",
    "outputId": "f461cfbe-2556-49c4-a2f2-d9cc8dcccd29"
   },
   "outputs": [
    {
     "data": {
      "text/plain": [
       "array([12,  8, 76, 51, 81, 83, 61, 40, 75, 81, 50, 95, 88, 66, 81])"
      ]
     },
     "execution_count": 13,
     "metadata": {},
     "output_type": "execute_result"
    }
   ],
   "source": [
    "# code\n",
    "a"
   ]
  },
  {
   "cell_type": "code",
   "execution_count": 14,
   "metadata": {
    "colab": {
     "base_uri": "https://localhost:8080/"
    },
    "id": "wZlQuOFpSbE3",
    "outputId": "03276c6f-0c91-4872-c74c-902092e7925d"
   },
   "outputs": [
    {
     "data": {
      "text/plain": [
       "(array([1, 1, 0, 0, 1, 2, 2, 2, 5, 1], dtype=int64),\n",
       " array([  0,  10,  20,  30,  40,  50,  60,  70,  80,  90, 100]))"
      ]
     },
     "execution_count": 14,
     "metadata": {},
     "output_type": "execute_result"
    }
   ],
   "source": [
    "np.histogram(a,bins=[0,10,20,30,40,50,60,70,80,90,100])"
   ]
  },
  {
   "cell_type": "markdown",
   "metadata": {
    "id": "JxgMS0Zef8oQ"
   },
   "source": [
    "### np.corrcoef\n",
    "\n",
    "Return Pearson product-moment correlation coefficients.\n",
    "\n",
    "https://numpy.org/doc/stable/reference/generated/numpy.corrcoef.html"
   ]
  },
  {
   "cell_type": "code",
   "execution_count": null,
   "metadata": {
    "colab": {
     "base_uri": "https://localhost:8080/"
    },
    "id": "ZAMnvEm5WyUp",
    "outputId": "0445bb77-29e1-49e2-f07e-656e33f9b70d"
   },
   "outputs": [
    {
     "data": {
      "text/plain": [
       "array([[1.        , 0.25344572],\n",
       "       [0.25344572, 1.        ]])"
      ]
     },
     "execution_count": 165,
     "metadata": {},
     "output_type": "execute_result"
    }
   ],
   "source": [
    "salary = np.array([20000,40000,25000,35000,60000])\n",
    "experience = np.array([1,3,2,4,2])\n",
    "\n",
    "np.corrcoef(salary,experience)"
   ]
  },
  {
   "cell_type": "markdown",
   "metadata": {},
   "source": [
    "np.corrcoef is a NumPy function used in machine learning for calculating the correlation matrix between two or more variables. Correlation is a statistical measure of the strength of the relationship between two variables, and the correlation coefficient ranges from -1 to 1. A value of 1 indicates a perfect positive correlation, a value of -1 indicates a perfect negative correlation, and a value of 0 indicates no correlation between the two variables.\n",
    "\n",
    "In machine learning, np.corrcoef can be used to calculate the correlation between the features of a dataset. This can be useful for feature selection, as highly correlated features can be removed to reduce redundancy and improve the performance of the model.\n",
    "\n",
    "For example, let's say we have a dataset with two features, x and y, and we want to calculate the correlation matrix between them. We can use np.corrcoef as follows:"
   ]
  },
  {
   "cell_type": "code",
   "execution_count": 15,
   "metadata": {},
   "outputs": [
    {
     "name": "stdout",
     "output_type": "stream",
     "text": [
      "[[ 1.         -0.01081895]\n",
      " [-0.01081895  1.        ]]\n"
     ]
    }
   ],
   "source": [
    "import numpy as np\n",
    "\n",
    "# Create some sample data\n",
    "x = np.random.rand(100)\n",
    "y = np.random.rand(100)\n",
    "\n",
    "# Calculate the correlation matrix\n",
    "corr_matrix = np.corrcoef(x, y)\n",
    "\n",
    "# Print the correlation matrix\n",
    "print(corr_matrix)\n"
   ]
  },
  {
   "cell_type": "markdown",
   "metadata": {},
   "source": [
    "This will output a 2x2 correlation matrix, with the correlation coefficients between x and y in the off-diagonal elements:"
   ]
  },
  {
   "cell_type": "markdown",
   "metadata": {
    "id": "Ot4h1PdGh-vI"
   },
   "source": [
    "### np.isin\n",
    "\n",
    "With the help of numpy.isin() method, we can see that one array having values are checked in a different numpy array having different elements with different sizes.\n",
    "\n",
    "https://numpy.org/doc/stable/reference/generated/numpy.isin.html"
   ]
  },
  {
   "cell_type": "code",
   "execution_count": null,
   "metadata": {
    "colab": {
     "base_uri": "https://localhost:8080/"
    },
    "id": "oyyVo0qnW2Cz",
    "outputId": "37417575-e23f-425e-d617-76cfb848da40"
   },
   "outputs": [
    {
     "data": {
      "text/plain": [
       "array([11, 53, 28, 50, 38, 37, 94, 92,  5, 30, 68,  9, 78,  2, 21])"
      ]
     },
     "execution_count": 166,
     "metadata": {},
     "output_type": "execute_result"
    }
   ],
   "source": [
    "# code\n",
    "a\n"
   ]
  },
  {
   "cell_type": "code",
   "execution_count": null,
   "metadata": {
    "colab": {
     "base_uri": "https://localhost:8080/"
    },
    "id": "lLA0c9z2VE3O",
    "outputId": "9e53c0d3-a425-4197-dbbd-53831e391a12"
   },
   "outputs": [
    {
     "data": {
      "text/plain": [
       "array([50, 30])"
      ]
     },
     "execution_count": 168,
     "metadata": {},
     "output_type": "execute_result"
    }
   ],
   "source": [
    "items = [10,20,30,40,50,60,70,80,90,100]\n",
    "\n",
    "a[np.isin(a,items)]"
   ]
  },
  {
   "cell_type": "markdown",
   "metadata": {},
   "source": [
    "In a binary classification problem where the target variable is 0 or 1, you may want to select a subset of data that has only one of the classes. In this case, you can use np.isin to check which elements of the target variable are equal to the desired class label."
   ]
  },
  {
   "cell_type": "code",
   "execution_count": 16,
   "metadata": {},
   "outputs": [
    {
     "name": "stdout",
     "output_type": "stream",
     "text": [
      "[1 1 1]\n"
     ]
    }
   ],
   "source": [
    "import numpy as np\n",
    "\n",
    "# create an array of target variable\n",
    "y = np.array([0, 1, 0, 1, 0, 1])\n",
    "\n",
    "# select only the elements of y that are equal to 1\n",
    "class_label = 1\n",
    "y_selected = y[np.isin(y, class_label)]\n",
    "\n",
    "# print the selected elements\n",
    "print(y_selected)\n"
   ]
  },
  {
   "cell_type": "markdown",
   "metadata": {},
   "source": [
    "In the above code, np.isin(y, class_label) checks which elements of the y array are equal to class_label (which is 1 in this case). The resulting boolean array is then used to select only the elements of y that are equal to 1, which are stored in y_selected."
   ]
  },
  {
   "cell_type": "markdown",
   "metadata": {
    "id": "8VKXXRjmicT-"
   },
   "source": [
    "### np.flip\n",
    "\n",
    "The numpy.flip() function reverses the order of array elements along the specified axis, preserving the shape of the array.\n",
    "\n",
    "https://numpy.org/doc/stable/reference/generated/numpy.flip.html"
   ]
  },
  {
   "cell_type": "code",
   "execution_count": null,
   "metadata": {
    "colab": {
     "base_uri": "https://localhost:8080/"
    },
    "id": "lMreAl7yEvBa",
    "outputId": "64044da1-ce34-403c-f97d-7b77a7e9ecea"
   },
   "outputs": [
    {
     "data": {
      "text/plain": [
       "array([11, 53, 28, 50, 38, 37, 94, 92,  5, 30, 68,  9, 78,  2, 21])"
      ]
     },
     "execution_count": 169,
     "metadata": {},
     "output_type": "execute_result"
    }
   ],
   "source": [
    "# code\n",
    "a"
   ]
  },
  {
   "cell_type": "code",
   "execution_count": null,
   "metadata": {
    "colab": {
     "base_uri": "https://localhost:8080/"
    },
    "id": "82l_pzDbVfNp",
    "outputId": "ab7282bc-5857-4c51-9f78-feda9252233e"
   },
   "outputs": [
    {
     "data": {
      "text/plain": [
       "array([21,  2, 78,  9, 68, 30,  5, 92, 94, 37, 38, 50, 28, 53, 11])"
      ]
     },
     "execution_count": 170,
     "metadata": {},
     "output_type": "execute_result"
    }
   ],
   "source": [
    "np.flip(a)"
   ]
  },
  {
   "cell_type": "code",
   "execution_count": null,
   "metadata": {
    "colab": {
     "base_uri": "https://localhost:8080/"
    },
    "id": "nWp3PQ87Vkin",
    "outputId": "1f8ef30d-846d-47f2-bdd8-0dcefc7312e2"
   },
   "outputs": [
    {
     "data": {
      "text/plain": [
       "array([[12, 52, 42,  6],\n",
       "       [29, 18, 47, 55],\n",
       "       [61, 93, 83,  9],\n",
       "       [38, 63, 44, 85],\n",
       "       [ 8, 87, 31, 72],\n",
       "       [40, 71,  2,  7]])"
      ]
     },
     "execution_count": 171,
     "metadata": {},
     "output_type": "execute_result"
    }
   ],
   "source": [
    "b"
   ]
  },
  {
   "cell_type": "code",
   "execution_count": null,
   "metadata": {
    "colab": {
     "base_uri": "https://localhost:8080/"
    },
    "id": "UOU3WOBwVm59",
    "outputId": "a67d4005-b585-4977-9916-3b3a177a5410",
    "scrolled": true
   },
   "outputs": [
    {
     "data": {
      "text/plain": [
       "array([[ 6, 42, 52, 12],\n",
       "       [55, 47, 18, 29],\n",
       "       [ 9, 83, 93, 61],\n",
       "       [85, 44, 63, 38],\n",
       "       [72, 31, 87,  8],\n",
       "       [ 7,  2, 71, 40]])"
      ]
     },
     "execution_count": 174,
     "metadata": {},
     "output_type": "execute_result"
    }
   ],
   "source": [
    "np.flip(b,axis=1)"
   ]
  },
  {
   "cell_type": "markdown",
   "metadata": {},
   "source": [
    "In machine learning, np.flip can be used in various scenarios such as:\n",
    "\n",
    "- Data augmentation: In image processing tasks, flipping images can be used as a form of data augmentation to increase the size of the training dataset. This can help improve the performance of the model by providing more varied examples of the data.\n",
    "- Reversing the order of input data: In time-series analysis or natural language processing, flipping the sequence of input data can be useful. For example, in sentiment analysis, reversing the order of the words in a sentence can provide a different perspective on the sentiment of the sentence.\n",
    "- \n",
    "Reversing the order of feature dimensions: In certain models such as convolutional neural networks, the order of feature dimensions can be important. np.flip can be used to reverse the order of feature dimensions in order to match the required input format of the model."
   ]
  },
  {
   "cell_type": "code",
   "execution_count": 17,
   "metadata": {},
   "outputs": [
    {
     "name": "stdout",
     "output_type": "stream",
     "text": [
      "Original array:\n",
      "[[1 2]\n",
      " [3 4]]\n",
      "Flipped array along first axis:\n",
      "[[3 4]\n",
      " [1 2]]\n"
     ]
    }
   ],
   "source": [
    "import numpy as np\n",
    "\n",
    "# Example input data\n",
    "a = np.array([[1, 2], [3, 4]])\n",
    "\n",
    "# Flip the array along the first axis\n",
    "a_flipped = np.flip(a, axis=0)\n",
    "\n",
    "print(\"Original array:\")\n",
    "print(a)\n",
    "\n",
    "print(\"Flipped array along first axis:\")\n",
    "print(a_flipped)\n"
   ]
  },
  {
   "cell_type": "markdown",
   "metadata": {
    "id": "lYkpJg3kpSWB"
   },
   "source": [
    "### np.delete\n",
    "\n",
    "The numpy.delete() function returns a new array with the deletion of sub-arrays along with the mentioned axis. \n",
    "\n",
    "https://numpy.org/doc/stable/reference/generated/numpy.delete.html"
   ]
  },
  {
   "cell_type": "code",
   "execution_count": null,
   "metadata": {
    "colab": {
     "base_uri": "https://localhost:8080/"
    },
    "id": "VmGLdiy5pQXc",
    "outputId": "728b29c4-517a-440f-da4a-8d1aaecbf6e7"
   },
   "outputs": [
    {
     "data": {
      "text/plain": [
       "array([110, 530,  28,  50,  38,  37,  94,  92,   5,  30,  68,   9,  78,\n",
       "         2,  21])"
      ]
     },
     "execution_count": 178,
     "metadata": {},
     "output_type": "execute_result"
    }
   ],
   "source": [
    "# code\n",
    "a"
   ]
  },
  {
   "cell_type": "code",
   "execution_count": null,
   "metadata": {
    "colab": {
     "base_uri": "https://localhost:8080/"
    },
    "id": "A5Dp974mWeWd",
    "outputId": "b3ef3851-7b46-4a55-8e1b-3a1b77a70cd1"
   },
   "outputs": [
    {
     "data": {
      "text/plain": [
       "array([530,  50,  37,  94,  92,   5,  30,  68,   9,  78,   2,  21])"
      ]
     },
     "execution_count": 181,
     "metadata": {},
     "output_type": "execute_result"
    }
   ],
   "source": [
    "np.delete(a,[0,2,4])"
   ]
  },
  {
   "cell_type": "markdown",
   "metadata": {
    "id": "Ei94MbFbrjvx"
   },
   "source": [
    "### Set functions\n",
    "\n",
    "- np.union1d\n",
    "- np.intersect1d\n",
    "- np.setdiff1d\n",
    "- np.setxor1d\n",
    "- np.in1d"
   ]
  },
  {
   "cell_type": "code",
   "execution_count": null,
   "metadata": {
    "colab": {
     "base_uri": "https://localhost:8080/"
    },
    "id": "hHSwzU1irY0f",
    "outputId": "b342e657-f1e1-4421-9447-e261ec0efc36"
   },
   "outputs": [
    {
     "data": {
      "text/plain": [
       "array([1, 2, 3, 4, 5, 6, 7])"
      ]
     },
     "execution_count": 182,
     "metadata": {},
     "output_type": "execute_result"
    }
   ],
   "source": [
    "m = np.array([1,2,3,4,5])\n",
    "n = np.array([3,4,5,6,7])\n",
    "\n",
    "np.union1d(m,n)"
   ]
  },
  {
   "cell_type": "code",
   "execution_count": null,
   "metadata": {
    "colab": {
     "base_uri": "https://localhost:8080/"
    },
    "id": "XSIuF3zWXZXP",
    "outputId": "3cb32023-afe2-4b1a-ba36-a7336083e7f6"
   },
   "outputs": [
    {
     "data": {
      "text/plain": [
       "array([3, 4, 5])"
      ]
     },
     "execution_count": 183,
     "metadata": {},
     "output_type": "execute_result"
    }
   ],
   "source": [
    "np.intersect1d(m,n)"
   ]
  },
  {
   "cell_type": "code",
   "execution_count": null,
   "metadata": {
    "colab": {
     "base_uri": "https://localhost:8080/"
    },
    "id": "HhGH8cskXgR5",
    "outputId": "9fe9818f-5d74-4590-e009-707b73f58a41"
   },
   "outputs": [
    {
     "data": {
      "text/plain": [
       "array([6, 7])"
      ]
     },
     "execution_count": 185,
     "metadata": {},
     "output_type": "execute_result"
    }
   ],
   "source": [
    "np.setdiff1d(n,m)"
   ]
  },
  {
   "cell_type": "code",
   "execution_count": null,
   "metadata": {
    "colab": {
     "base_uri": "https://localhost:8080/"
    },
    "id": "KaZbcTk0XubR",
    "outputId": "7d086410-d76c-4818-e35f-edf0792d54eb"
   },
   "outputs": [
    {
     "data": {
      "text/plain": [
       "array([1, 2, 6, 7])"
      ]
     },
     "execution_count": 186,
     "metadata": {},
     "output_type": "execute_result"
    }
   ],
   "source": [
    "np.setxor1d(m,n)"
   ]
  },
  {
   "cell_type": "code",
   "execution_count": null,
   "metadata": {
    "colab": {
     "base_uri": "https://localhost:8080/"
    },
    "id": "SqV9rpQ_XzVg",
    "outputId": "ad95c2eb-ed10-46ec-9c99-2a5fa4b3082a"
   },
   "outputs": [
    {
     "data": {
      "text/plain": [
       "array([1])"
      ]
     },
     "execution_count": 189,
     "metadata": {},
     "output_type": "execute_result"
    }
   ],
   "source": [
    "m[np.in1d(m,1)]"
   ]
  },
  {
   "cell_type": "markdown",
   "metadata": {
    "id": "uLxS7H2pr-rh"
   },
   "source": [
    "### np.clip\n",
    "\n",
    "numpy.clip() function is used to Clip (limit) the values in an array.\n",
    "\n",
    "https://numpy.org/doc/stable/reference/generated/numpy.clip.html"
   ]
  },
  {
   "cell_type": "code",
   "execution_count": 20,
   "metadata": {
    "colab": {
     "base_uri": "https://localhost:8080/"
    },
    "id": "Q3S9gjNzsL73",
    "outputId": "536e7835-500c-4493-9f69-0273a967f8b4"
   },
   "outputs": [
    {
     "data": {
      "text/plain": [
       "array([50,  5, 81, 31, 13, 96, 51, 97, 70, 97, 10, 15, 12, 24, 23])"
      ]
     },
     "execution_count": 20,
     "metadata": {},
     "output_type": "execute_result"
    }
   ],
   "source": [
    "# code\n",
    "a"
   ]
  },
  {
   "cell_type": "code",
   "execution_count": 21,
   "metadata": {
    "colab": {
     "base_uri": "https://localhost:8080/"
    },
    "id": "x08JKAVHYOxF",
    "outputId": "a8ba892e-f2ea-44a3-b48e-9a3996ff81f9"
   },
   "outputs": [
    {
     "data": {
      "text/plain": [
       "array([50, 25, 75, 31, 25, 75, 51, 75, 70, 75, 25, 25, 25, 25, 25])"
      ]
     },
     "execution_count": 21,
     "metadata": {},
     "output_type": "execute_result"
    }
   ],
   "source": [
    "np.clip(a,a_min=25,a_max=75)"
   ]
  },
  {
   "cell_type": "markdown",
   "metadata": {
    "id": "IYClnmitOqTl"
   },
   "source": [
    " One example of where np.clip() can be used in image processing is to adjust the brightness or contrast of an image.\n",
    "\n",
    "For example, let's say you have an image represented as a numpy array with values ranging from 0 to 255. If you want to increase the brightness of the image by a certain amount, you can simply add that amount to every pixel value. However, some pixels may have a value greater than 255 after the addition, which would cause them to \"overflow\" and wrap around to a lower value, resulting in a loss of detail.\n",
    "\n",
    "To prevent this, you can use np.clip() to ensure that all pixel values remain within the valid range of 0 to 255. Here's an example code snippet:"
   ]
  },
  {
   "cell_type": "code",
   "execution_count": null,
   "metadata": {
    "id": "nWJdTlHCoQip"
   },
   "outputs": [],
   "source": [
    "import numpy as np\n",
    "import cv2\n",
    "\n",
    "# Load an image\n",
    "img = cv2.imread('image.jpg')\n",
    "\n",
    "# Increase the brightness by 50\n",
    "img = img + 50\n",
    "\n",
    "# Clip the pixel values to ensure they stay within the valid range of 0 to 255\n",
    "img = np.clip(img, 0, 255)\n",
    "\n",
    "# Display the result\n",
    "cv2.imshow('Result', img)\n",
    "cv2.waitKey(0)\n",
    "cv2.destroyAllWindows()\n"
   ]
  },
  {
   "cell_type": "markdown",
   "metadata": {
    "id": "KEkjJ5_owXc_"
   },
   "source": [
    "In the code above, we first load an image using OpenCV's imread() function. We then increase the brightness of the image by 50 by adding 50 to every pixel value. Finally, we use np.clip() to ensure that all pixel values remain within the valid range of 0 to 255. The resulting image is then displayed using OpenCV's imshow() function."
   ]
  },
  {
   "cell_type": "code",
   "execution_count": null,
   "metadata": {
    "id": "veZNJm8xB4D_"
   },
   "outputs": [],
   "source": []
  },
  {
   "cell_type": "code",
   "execution_count": null,
   "metadata": {
    "id": "iNBbQiDeNnZm"
   },
   "outputs": [],
   "source": []
  },
  {
   "cell_type": "code",
   "execution_count": null,
   "metadata": {
    "id": "B9F5ogZENohK"
   },
   "outputs": [],
   "source": []
  }
 ],
 "metadata": {
  "colab": {
   "provenance": []
  },
  "kernelspec": {
   "display_name": "Python 3",
   "language": "python",
   "name": "python3"
  },
  "language_info": {
   "codemirror_mode": {
    "name": "ipython",
    "version": 3
   },
   "file_extension": ".py",
   "mimetype": "text/x-python",
   "name": "python",
   "nbconvert_exporter": "python",
   "pygments_lexer": "ipython3",
   "version": "3.7.4"
  }
 },
 "nbformat": 4,
 "nbformat_minor": 1
}
