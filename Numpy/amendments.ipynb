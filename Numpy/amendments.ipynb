{
 "cells": [
  {
   "cell_type": "markdown",
   "metadata": {},
   "source": [
    "Scalar Operations"
   ]
  },
  {
   "cell_type": "markdown",
   "metadata": {},
   "source": [
    "When NumPy is installed, it tries to detect whether OpenBLAS or Intel MKL is available on the system. If one of these libraries is found, NumPy will use it by default to perform linear algebra computations, such as matrix multiplication, eigenvalue decomposition, and singular value decomposition.\n",
    "\n",
    "The process of using OpenBLAS and Intel MKL libraries in NumPy involves several steps:\n",
    "\n",
    "NumPy checks whether the system has OpenBLAS or Intel MKL installed by looking for the presence of their shared libraries or header files.\n",
    "If one of these libraries is found, NumPy links to it and uses it to perform linear algebra computations. The choice of library is based on the configuration of the NumPy installation and the system environment variables.\n",
    "If neither library is found, NumPy will use a built-in linear algebra library, which is less optimized but still efficient for small-to-medium-sized problems.\n",
    "When NumPy uses OpenBLAS or Intel MKL, it can take advantage of the optimized routines provided by these libraries to perform linear algebra computations much faster than it would otherwise be able to do. For example, Intel MKL includes highly optimized routines for performing matrix multiplication, eigenvalue decomposition, and singular value decomposition, which can result in significant performance improvements for large-scale problems.\n",
    "\n",
    "In summary, NumPy uses OpenBLAS and Intel MKL libraries to accelerate linear algebra computations, and the choice of library is determined by the configuration of the NumPy installation and the system environment variables."
   ]
  },
  {
   "cell_type": "markdown",
   "metadata": {},
   "source": [
    "trignometric feaures"
   ]
  },
  {
   "cell_type": "code",
   "execution_count": 1,
   "metadata": {},
   "outputs": [
    {
     "name": "stdout",
     "output_type": "stream",
     "text": [
      "[10.          1.1755705   1.90211303  1.90211303  1.1755705   0.\n",
      "  1.1755705   1.90211303  1.90211303  1.1755705 ]\n"
     ]
    }
   ],
   "source": [
    "# Fourier transform\n",
    "import numpy as np\n",
    "from scipy.fftpack import fft\n",
    "\n",
    "# Define a bag-of-words vector\n",
    "text = \"This is a sample sentence for testing the Fourier transform\"\n",
    "vocabulary = [\"this\", \"is\", \"a\", \"sample\", \"sentence\", \"for\", \"testing\", \"the\", \"fourier\", \"transform\"]\n",
    "bow_vector = np.array([1, 1, 1, 2, 1, 0, 1, 1, 1, 1])\n",
    "\n",
    "# Apply the Fourier transform\n",
    "spectrum = np.abs(fft(bow_vector))\n",
    "\n",
    "# Print the magnitude spectrum\n",
    "print(spectrum)\n"
   ]
  },
  {
   "cell_type": "code",
   "execution_count": null,
   "metadata": {},
   "outputs": [],
   "source": []
  }
 ],
 "metadata": {
  "kernelspec": {
   "display_name": "Python 3",
   "language": "python",
   "name": "python3"
  },
  "language_info": {
   "codemirror_mode": {
    "name": "ipython",
    "version": 3
   },
   "file_extension": ".py",
   "mimetype": "text/x-python",
   "name": "python",
   "nbconvert_exporter": "python",
   "pygments_lexer": "ipython3",
   "version": "3.7.4"
  }
 },
 "nbformat": 4,
 "nbformat_minor": 2
}
