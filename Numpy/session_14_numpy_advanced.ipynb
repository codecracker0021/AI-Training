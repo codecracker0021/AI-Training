{
 "cells": [
  {
   "cell_type": "markdown",
   "metadata": {
    "id": "exouV4nxLocj"
   },
   "source": [
    "### Numpy array vs Python lists Speed\n",
    "\n",
    "The code below provided is an implementation of element-wise addition of two lists a and b, which are of equal length. The result is stored in a third list c.\n",
    "\n",
    "The time complexity of the loop is O(n), where n is the length of the lists. Since the length of the lists is 10,000,000, the loop will execute 10,000,000 times.\n",
    "\n",
    "The actual time taken by the loop will depend on several factors, such as the speed of the computer, the memory usage, and other processes running on the system. However, we can estimate the time taken by using the time module in Python, as you have done in your code.\n",
    "\n",
    "<b> On my machine, the code takes around 2.5-3.5 seconds to execute. </b> "
   ]
  },
  {
   "cell_type": "code",
   "execution_count": null,
   "metadata": {},
   "outputs": [],
   "source": []
  },
  {
   "cell_type": "code",
   "execution_count": null,
   "metadata": {
    "colab": {
     "base_uri": "https://localhost:8080/"
    },
    "id": "9ITuYx0tLnbc",
    "outputId": "3b2046b3-40a0-427d-d28a-27c0afa55bda"
   },
   "outputs": [
    {
     "name": "stdout",
     "output_type": "stream",
     "text": [
      "3.2699835300445557\n"
     ]
    }
   ],
   "source": [
    "# speed\n",
    "# list\n",
    "a = [i for i in range(10000000)]\n",
    "b = [i for i in range(10000000,20000000)]\n",
    "\n",
    "c = []\n",
    "import time \n",
    "\n",
    "start = time.time()\n",
    "for i in range(len(a)):\n",
    "  c.append(a[i] + b[i])\n",
    "print(time.time()-start)"
   ]
  },
  {
   "cell_type": "markdown",
   "metadata": {},
   "source": [
    "The second code block below uses NumPy to perform element-wise addition of two arrays a and b, which are of equal length. The result is stored in a third array c.\n",
    "\n",
    "NumPy is a highly optimized library for numerical computations in Python, and it provides a fast and efficient way to perform vectorized operations on arrays. The + operator on NumPy arrays performs element-wise addition and is highly optimized for performance.\n",
    "\n",
    "Since the arrays a and b are of equal length, the time complexity of the element-wise addition operation is O(n), where n is the length of the arrays.\n",
    "\n",
    "<b>On my machine, the code takes around 0.06-0.07 seconds to execute, which is much faster than the first implementation using lists. </b>"
   ]
  },
  {
   "cell_type": "code",
   "execution_count": null,
   "metadata": {
    "colab": {
     "base_uri": "https://localhost:8080/"
    },
    "id": "EW6ISYk6ZifP",
    "outputId": "16d22f74-8e1a-4533-e346-a109693f3874"
   },
   "outputs": [
    {
     "name": "stdout",
     "output_type": "stream",
     "text": [
      "0.06481003761291504\n"
     ]
    }
   ],
   "source": [
    "# numpy\n",
    "import numpy as np\n",
    "a = np.arange(10000000)\n",
    "b = np.arange(10000000,20000000)\n",
    "\n",
    "start = time.time()\n",
    "c = a + b\n",
    "print(time.time()-start)"
   ]
  },
  {
   "cell_type": "code",
   "execution_count": null,
   "metadata": {
    "colab": {
     "base_uri": "https://localhost:8080/"
    },
    "id": "D0rcBlxZB5tb",
    "outputId": "e459d12e-5aac-46b9-b8ea-81a151a386fb"
   },
   "outputs": [
    {
     "data": {
      "text/plain": [
       "54.33333333333333"
      ]
     },
     "execution_count": 62,
     "metadata": {},
     "output_type": "execute_result"
    }
   ],
   "source": [
    "3.26/0.06"
   ]
  },
  {
   "cell_type": "markdown",
   "metadata": {},
   "source": [
    "<b>So this is around 54 times faster than Python list </b>\n",
    "\n",
    "The reason NumPy gives higher performance than the list-based implementation is because NumPy uses highly optimized, pre-compiled C code under the hood, while Python lists are implemented in pure Python.\n",
    "\n",
    "When you perform operations on NumPy arrays, the operations are typically performed on entire blocks of memory at once, rather than on individual elements like in the list-based implementation. This allows for more efficient use of CPU cache and memory, as well as reduced overhead from Python's interpreter.\n",
    "\n",
    "Additionally, NumPy provides a lot of built-in functionality that can be used to perform complex operations on arrays without needing to write explicit loops. This allows you to write more concise and expressive code that is also more performant.\n",
    "\n",
    "Overall, NumPy's optimized implementation and built-in functionality allow for significantly faster array-based computations than pure Python lists."
   ]
  },
  {
   "cell_type": "markdown",
   "metadata": {},
   "source": [
    "# Memory impact of using Numpy"
   ]
  },
  {
   "cell_type": "markdown",
   "metadata": {},
   "source": [
    "The code below creates a list a containing 10 million integers and then uses the sys.getsizeof() function to get the size of the list in bytes.\n",
    "\n",
    "In Python, <b> lists are dynamically sized arrays that can grow and shrink as needed </b>. The memory used by a list will depend on the number and type of elements it contains, as well as some additional overhead for bookkeeping data structures used by the list.\n",
    "\n",
    "On a 64-bit machine, each integer in a list takes up 28 bytes (which includes the overhead for the integer object) and the list itself takes up additional overhead depending on its length and other factors.\n",
    "\n",
    "So the total memory used by the list a should be approximately:\n",
    "\n",
    "<b>memory used by integers: 10 million * 28 bytes = 280,000,000 bytes \n",
    "    \n",
    "   \n",
    "overhead for the list object: approximately 64 bytes on a 64-bit machine </b>\n",
    "\n",
    "Therefore, the total memory used by the list a should be approximately 280,000,064 bytes.\n",
    "\n",
    "The sys.getsizeof() function returns the size of an object in bytes, including any additional overhead for the object itself. <b>When I run the code on my machine, I get a size of approximately 81,528,048 bytes (which is larger than the expected size because Python may allocate additional memory for the list as it grows). </b>\n",
    "\n",
    "Note that this size does not include any memory used by other variables or data structures in your program. If you have other large data structures in your program, the total memory usage may be significantly higher.\n"
   ]
  },
  {
   "cell_type": "code",
   "execution_count": null,
   "metadata": {
    "colab": {
     "base_uri": "https://localhost:8080/"
    },
    "id": "PSC79592SIZz",
    "outputId": "bfd06baa-daaf-47a4-b0e9-1d1d555dadc6"
   },
   "outputs": [
    {
     "data": {
      "text/plain": [
       "81528048"
      ]
     },
     "execution_count": 63,
     "metadata": {},
     "output_type": "execute_result"
    }
   ],
   "source": [
    "# memory\n",
    "a = [i for i in range(10000000)]\n",
    "import sys\n",
    "\n",
    "sys.getsizeof(a)"
   ]
  },
  {
   "cell_type": "markdown",
   "metadata": {},
   "source": [
    "The code below creates a NumPy array a containing 10 million integers of dtype=np.int8 and then uses the sys.getsizeof() function to get the size of the array in bytes.\n",
    "\n",
    "In NumPy, arrays are homogeneous, fixed-sized blocks of memory that can store elements of a single data type. The memory used by an array will depend on the number of elements it contains and the size of each element.\n",
    "\n",
    "Since dtype=np.int8, each integer in the array takes up 1 byte of memory. Therefore, the total memory used by the array a should be approximately:\n",
    "\n",
    "<b>Memory used by integers: 10 million * 1 byte = 10,000,000 bytes\n",
    "    \n",
    "overhead for the NumPy array object: approximately 96 bytes </b>\n"
   ]
  },
  {
   "cell_type": "code",
   "execution_count": null,
   "metadata": {
    "colab": {
     "base_uri": "https://localhost:8080/"
    },
    "id": "mk_U1oHuaOSo",
    "outputId": "0c3cc1a7-6dbc-4185-cb06-b66f41fb0d25"
   },
   "outputs": [
    {
     "data": {
      "text/plain": [
       "10000104"
      ]
     },
     "execution_count": 67,
     "metadata": {},
     "output_type": "execute_result"
    }
   ],
   "source": [
    "a = np.arange(10000000,dtype=np.int8)\n",
    "sys.getsizeof(a)"
   ]
  },
  {
   "cell_type": "markdown",
   "metadata": {},
   "source": [
    "Therefore, the total memory used by the NumPy array a should be approximately 10,000,096 bytes.\n",
    "\n",
    "The sys.getsizeof() function returns the size of an object in bytes, including any additional overhead for the object itself. When I run the code on my machine, I get a size of approximately 10,000,096 bytes, which is consistent with the expected size.\n",
    "\n",
    "<b>Note that the memory usage of NumPy arrays can be significantly lower than the equivalent list-based implementation in Python, especially for large datasets, due to the efficient storage and manipulation of homogeneous, fixed-size blocks of memory.</b>"
   ]
  },
  {
   "cell_type": "markdown",
   "metadata": {
    "id": "MiDnJvwBSJUt"
   },
   "source": [
    "# Convenience perspective"
   ]
  },
  {
   "cell_type": "markdown",
   "metadata": {},
   "source": [
    "From a convenience approach, NumPy is often a better choice than using regular Python lists for numerical computations because it provides a wide range of built-in functions and methods that can perform common operations on arrays, as well as efficient implementations of array operations.\n",
    "\n",
    "NumPy arrays are also much more memory-efficient than Python lists because they use fixed-size blocks of memory for homogeneous data types, which can be more easily optimized by the CPU and require less memory overhead.\n",
    "\n",
    "Additionally, NumPy provides extensive support for mathematical functions, linear algebra, statistical computations, and other numerical algorithms, which can be particularly useful in scientific computing, machine learning, and other data-intensive applications.\n",
    "\n",
    "However, if you are not working with numerical data or need to perform operations on heterogeneous data types, then Python lists may be a better choice. Lists are more flexible than NumPy arrays and can store elements of any data type, making them useful for a wide range of applications.\n",
    "\n",
    "Ultimately, the choice between NumPy and regular Python lists will depend on your specific use case and the types of operations you need to perform."
   ]
  },
  {
   "cell_type": "markdown",
   "metadata": {},
   "source": [
    "# In Machine learning perspective"
   ]
  },
  {
   "cell_type": "markdown",
   "metadata": {},
   "source": [
    "A classic example in machine learning where NumPy would perform much better than lists is in performing matrix operations for linear algebra computations.\n",
    "\n",
    "In many machine learning algorithms, such as linear regression, logistic regression, and neural networks, the computation involves performing operations on large matrices and vectors. These operations include matrix multiplication, dot products, element-wise multiplication, and transposition.\n",
    "\n",
    "Using regular Python lists to perform these operations can be slow and memory-intensive, especially for large datasets. In contrast, NumPy provides optimized implementations of these operations that are implemented in C or Fortran, which are much faster than Python's built-in operations on lists.\n",
    "\n",
    "For example, consider the following code snippet that computes the dot product between two vectors using Python lists:"
   ]
  },
  {
   "cell_type": "code",
   "execution_count": 3,
   "metadata": {},
   "outputs": [],
   "source": [
    "a = [1, 2, 3, 4, 5]\n",
    "b = [2, 3, 4, 5, 6]\n",
    "dot_product = sum([a[i]*b[i] for i in range(len(a))])\n"
   ]
  },
  {
   "cell_type": "markdown",
   "metadata": {},
   "source": [
    "Now consider the equivalent code using NumPy:"
   ]
  },
  {
   "cell_type": "code",
   "execution_count": 4,
   "metadata": {},
   "outputs": [],
   "source": [
    "import numpy as np\n",
    "a = np.array([1, 2, 3, 4, 5])\n",
    "b = np.array([2, 3, 4, 5, 6])\n",
    "dot_product = np.dot(a, b)\n"
   ]
  },
  {
   "cell_type": "markdown",
   "metadata": {},
   "source": [
    "The NumPy version is much more concise and easier to read, and it is also significantly faster and more memory-efficient than the Python list version. This performance difference becomes even more pronounced for larger datasets.\n",
    "\n",
    "Therefore, when working with machine learning algorithms that involve large matrices and vectors, NumPy is often the preferred choice for its speed, convenience, and memory efficiency."
   ]
  },
  {
   "cell_type": "markdown",
   "metadata": {
    "id": "G7gJ1-8fLLEI"
   },
   "source": [
    "### Advanced Indexing"
   ]
  },
  {
   "cell_type": "code",
   "execution_count": null,
   "metadata": {
    "colab": {
     "base_uri": "https://localhost:8080/"
    },
    "id": "vTt8xIaa1I1Y",
    "outputId": "d8c64297-8a99-40b5-fdbc-c6ab940edb89"
   },
   "outputs": [
    {
     "data": {
      "text/plain": [
       "array([[ 0,  1,  2,  3],\n",
       "       [ 4,  5,  6,  7],\n",
       "       [ 8,  9, 10, 11],\n",
       "       [12, 13, 14, 15],\n",
       "       [16, 17, 18, 19],\n",
       "       [20, 21, 22, 23]])"
      ]
     },
     "execution_count": 77,
     "metadata": {},
     "output_type": "execute_result"
    }
   ],
   "source": [
    "# Normal Indexing and slicing\n",
    "\n",
    "a = np.arange(24).reshape(6,4)\n",
    "a"
   ]
  },
  {
   "cell_type": "code",
   "execution_count": null,
   "metadata": {
    "colab": {
     "base_uri": "https://localhost:8080/"
    },
    "id": "cl0vYVxEEOLs",
    "outputId": "2b844b3a-0088-4738-ec37-d8df0f1a4ce3"
   },
   "outputs": [
    {
     "data": {
      "text/plain": [
       "5"
      ]
     },
     "execution_count": 70,
     "metadata": {},
     "output_type": "execute_result"
    }
   ],
   "source": [
    "a[1,2]"
   ]
  },
  {
   "cell_type": "code",
   "execution_count": null,
   "metadata": {
    "colab": {
     "base_uri": "https://localhost:8080/"
    },
    "id": "-4fMAMjwET20",
    "outputId": "ddad44f8-263a-49b4-ce88-227d7d394c17"
   },
   "outputs": [
    {
     "data": {
      "text/plain": [
       "array([[4, 5],\n",
       "       [7, 8]])"
      ]
     },
     "execution_count": 71,
     "metadata": {},
     "output_type": "execute_result"
    }
   ],
   "source": [
    "a[1:3,1:3]"
   ]
  },
  {
   "cell_type": "markdown",
   "metadata": {},
   "source": [
    "# Fancy indexing"
   ]
  },
  {
   "cell_type": "code",
   "execution_count": null,
   "metadata": {
    "colab": {
     "base_uri": "https://localhost:8080/"
    },
    "id": "qxCgXTRo1Lk8",
    "outputId": "ff2d2010-c717-4d89-a40e-374ba8473160",
    "scrolled": true
   },
   "outputs": [
    {
     "data": {
      "text/plain": [
       "array([[ 0,  2,  3],\n",
       "       [ 4,  6,  7],\n",
       "       [ 8, 10, 11],\n",
       "       [12, 14, 15],\n",
       "       [16, 18, 19],\n",
       "       [20, 22, 23]])"
      ]
     },
     "execution_count": 81,
     "metadata": {},
     "output_type": "execute_result"
    }
   ],
   "source": [
    "# Fancy Indexing\n",
    "\n",
    "a[:,[0,2,3]]"
   ]
  },
  {
   "cell_type": "markdown",
   "metadata": {},
   "source": [
    "[:,[0,2,3]] is a fancy indexing operation that selects all the rows of the array a and only the columns with indices 0, 2, and 3. The colon : before the comma specifies that we want to select all the rows of the array. The list [0,2,3] inside the square brackets specifies the column indices that we want to select.\n",
    "\n",
    "So the resulting array contains all the rows of a but only the columns with indices 0, 2, and 3. In other words, it selects the first, third, and fourth columns of the array"
   ]
  },
  {
   "cell_type": "markdown",
   "metadata": {
    "id": "1BIkbzQCFUft"
   },
   "source": [
    "# Boolean Indexing"
   ]
  },
  {
   "cell_type": "markdown",
   "metadata": {},
   "source": [
    "Boolean indexing in NumPy is a way to select elements from an array based on a condition that evaluates to a boolean value (True or False)."
   ]
  },
  {
   "cell_type": "code",
   "execution_count": 18,
   "metadata": {},
   "outputs": [
    {
     "name": "stdout",
     "output_type": "stream",
     "text": [
      "[1 3]\n"
     ]
    }
   ],
   "source": [
    "import numpy as np\n",
    "\n",
    "a = np.array([1, 2, 3, 4, 5])\n",
    "mask = np.array([True, False, True, False, False])\n",
    "result = a[mask]\n",
    "print(result) \n"
   ]
  },
  {
   "cell_type": "markdown",
   "metadata": {},
   "source": [
    "In this example, we create a NumPy array a with values [1, 2, 3, 4, 5]. We then create a boolean mask mask with values [True, False, True, False, False]. This mask serves as a filter for the array a, indicating which elements we want to select. Specifically, the True values in the mask correspond to the positions in a where we want to select elements, and the False values indicate positions where we want to discard elements.\n",
    "\n",
    "Finally, we use the boolean mask to select elements from a by passing it as an index to the array a like a[mask]. The resulting array result contains only the elements of a where the mask is True, which are [1, 3].\n",
    "\n",
    "Boolean indexing is very useful for selecting elements in an array that satisfy a specific condition, such as selecting all values that are greater than a certain threshold, or all values that meet some other criteria. It is also commonly used in combination with logical operators (& for \"and\", | for \"or\", ~ for \"not\") to create more complex selection conditions."
   ]
  },
  {
   "cell_type": "code",
   "execution_count": 11,
   "metadata": {
    "colab": {
     "base_uri": "https://localhost:8080/"
    },
    "id": "3hrTxRuy1Noi",
    "outputId": "0fe3f0ad-3b25-4c1c-cd60-6175fcd0d9c2",
    "scrolled": true
   },
   "outputs": [
    {
     "data": {
      "text/plain": [
       "array([[51, 48, 41, 69],\n",
       "       [97, 69, 12, 45],\n",
       "       [99, 32, 49, 41],\n",
       "       [98,  4, 44, 70],\n",
       "       [76, 83, 31, 61],\n",
       "       [81, 49, 81,  6]])"
      ]
     },
     "execution_count": 11,
     "metadata": {},
     "output_type": "execute_result"
    }
   ],
   "source": [
    "# Boolean Indexing\n",
    "#This generates a 6x4 two-dimensional NumPy array filled with random integer values between 1 and 100\n",
    "a = np.random.randint(1,100,24).reshape(6,4)\n",
    "a"
   ]
  },
  {
   "cell_type": "code",
   "execution_count": 16,
   "metadata": {},
   "outputs": [
    {
     "data": {
      "text/plain": [
       "array([[ True, False, False,  True],\n",
       "       [ True,  True, False, False],\n",
       "       [ True, False, False, False],\n",
       "       [ True, False, False,  True],\n",
       "       [ True,  True, False,  True],\n",
       "       [ True, False,  True, False]])"
      ]
     },
     "execution_count": 16,
     "metadata": {},
     "output_type": "execute_result"
    }
   ],
   "source": [
    "a>50"
   ]
  },
  {
   "cell_type": "code",
   "execution_count": 12,
   "metadata": {
    "colab": {
     "base_uri": "https://localhost:8080/"
    },
    "id": "zMvMQcm01mcG",
    "outputId": "608dfc5b-1457-40ba-d706-70f220bd582c"
   },
   "outputs": [
    {
     "data": {
      "text/plain": [
       "array([51, 69, 97, 69, 99, 98, 70, 76, 83, 61, 81, 81])"
      ]
     },
     "execution_count": 12,
     "metadata": {},
     "output_type": "execute_result"
    }
   ],
   "source": [
    "# find all numbers greater than 50\n",
    "a[a > 50]"
   ]
  },
  {
   "cell_type": "code",
   "execution_count": 13,
   "metadata": {
    "colab": {
     "base_uri": "https://localhost:8080/"
    },
    "id": "_4BwwwxEG68r",
    "outputId": "0bc7ef64-a860-4c39-b1bb-98d8f73ad999"
   },
   "outputs": [
    {
     "data": {
      "text/plain": [
       "array([48, 12, 32, 98,  4, 44, 70, 76,  6])"
      ]
     },
     "execution_count": 13,
     "metadata": {},
     "output_type": "execute_result"
    }
   ],
   "source": [
    "# find out even numbers\n",
    "a[a % 2 == 0]"
   ]
  },
  {
   "cell_type": "markdown",
   "metadata": {},
   "source": [
    "We can make it as complicated as possible"
   ]
  },
  {
   "cell_type": "code",
   "execution_count": 14,
   "metadata": {
    "colab": {
     "base_uri": "https://localhost:8080/",
     "height": 205
    },
    "id": "MIk_GnwQ1sS2",
    "outputId": "0b3e8ed7-0354-4a93-c4e8-e3901e395ced"
   },
   "outputs": [
    {
     "data": {
      "text/plain": [
       "array([98, 70, 76])"
      ]
     },
     "execution_count": 14,
     "metadata": {},
     "output_type": "execute_result"
    }
   ],
   "source": [
    "# find all numbers greater than 50 and are even\n",
    "\n",
    "a[(a > 50) & (a % 2 == 0)]"
   ]
  },
  {
   "cell_type": "code",
   "execution_count": 15,
   "metadata": {
    "colab": {
     "base_uri": "https://localhost:8080/"
    },
    "id": "rhGQtwkl6W7k",
    "outputId": "f6f525b9-9556-4c9c-aa9c-bd56bb7cab0c"
   },
   "outputs": [
    {
     "data": {
      "text/plain": [
       "array([51, 48, 41, 69, 97, 69, 12, 45, 99, 32, 41,  4, 44, 76, 83, 31, 61,\n",
       "       81, 81,  6])"
      ]
     },
     "execution_count": 15,
     "metadata": {},
     "output_type": "execute_result"
    }
   ],
   "source": [
    "# find all numbers not divisible by 7\n",
    "a[~(a % 7 == 0)]"
   ]
  },
  {
   "cell_type": "markdown",
   "metadata": {},
   "source": [
    "### Now let's look at 2 use cases where the Fancy indexing might be used Machine learning (Model Selection and Evaluation)\n"
   ]
  },
  {
   "cell_type": "markdown",
   "metadata": {},
   "source": [
    "#### Model Selection"
   ]
  },
  {
   "cell_type": "markdown",
   "metadata": {},
   "source": [
    "When selecting subsets of data for model training, we may use fancy indexing to select specific samples or features that are most relevant to the problem. For example, we may use boolean indexing to select all the samples that belong to a certain class or category, or we may use integer indexing to select a subset of features that have the highest correlation with the target variable.\n",
    "\n",
    "Suppose we have a dataset with 1000 samples, where each sample contains 10 features and a binary target variable (0 or 1). Our goal is to train a logistic regression model to predict the target variable based on the features.\n",
    "\n",
    "To select a subset of features for the model, we can use fancy indexing to select only the features that have a high correlation with the target variable. Here's how we can do this using NumPy:"
   ]
  },
  {
   "cell_type": "code",
   "execution_count": 9,
   "metadata": {},
   "outputs": [
    {
     "data": {
      "text/plain": [
       "LogisticRegression()"
      ]
     },
     "execution_count": 9,
     "metadata": {},
     "output_type": "execute_result"
    }
   ],
   "source": [
    "import numpy as np\n",
    "from sklearn.linear_model import LogisticRegression\n",
    "\n",
    "# Create a random feature matrix X and target variable y\n",
    "X = np.random.rand(1000, 10)\n",
    "y = np.random.randint(0, 2, size=1000)\n",
    "\n",
    "# Compute the correlation between each feature and the target variable\n",
    "correlations = np.corrcoef(X.T, y)\n",
    "\n",
    "# Select the top 3 features based on their correlation with the target variable\n",
    "best_features = np.argsort(correlations[-1, :-1])[-3:]\n",
    "\n",
    "# Train a logistic regression model using the selected features\n",
    "model = LogisticRegression()\n",
    "model.fit(X[:, best_features], y)\n"
   ]
  },
  {
   "cell_type": "markdown",
   "metadata": {},
   "source": [
    "In this example, we first compute the correlation between each feature and the target variable using the np.corrcoef() function. This gives us a 10x10 correlation matrix where each element (i,j) represents the correlation between feature i and feature j.\n",
    "\n",
    "We then take the absolute values of the correlation matrix using np.abs() and select the features with the highest correlation to the target variable using np.argsort(). The resulting best_features array contains the indices of the top 3 features.\n",
    "\n",
    "Finally, we train a logistic regression model using only the selected features X[:, best_features] and the target variable y. By selecting only the most important features, we can reduce the dimensionality of the problem and potentially improve the model's accuracy and generalization performance.\n",
    "\n",
    "Note that this is just one example of how fancy indexing can be used in model selection. Depending on the problem and the dataset, we may use different types of indexing or feature selection techniques to choose the most relevant features for the model."
   ]
  },
  {
   "cell_type": "markdown",
   "metadata": {},
   "source": [
    "#### Fancy indexing with Model evaulation"
   ]
  },
  {
   "cell_type": "markdown",
   "metadata": {},
   "source": [
    "Fancy indexing can also be used for model evaluation in machine learning. For instance, let's say we have a dataset where we want to evaluate a model's performance on a subset of the data. We can use fancy indexing to extract the subset of the data we want to evaluate on."
   ]
  },
  {
   "cell_type": "code",
   "execution_count": 10,
   "metadata": {},
   "outputs": [
    {
     "name": "stdout",
     "output_type": "stream",
     "text": [
      "Accuracy: 0.49\n"
     ]
    }
   ],
   "source": [
    "import numpy as np\n",
    "from sklearn.linear_model import LogisticRegression\n",
    "from sklearn.metrics import accuracy_score\n",
    "\n",
    "# Create a random feature matrix X and target variable y\n",
    "X = np.random.rand(1000, 10)\n",
    "y = np.random.randint(0, 2, size=1000)\n",
    "\n",
    "# Split the data into training and testing sets\n",
    "X_train, y_train = X[:800], y[:800]\n",
    "X_test, y_test = X[800:], y[800:]\n",
    "\n",
    "# Train a logistic regression model on the training data\n",
    "model = LogisticRegression()\n",
    "model.fit(X_train, y_train)\n",
    "\n",
    "# Evaluate the model's performance on the first 100 examples in the testing set\n",
    "subset = np.arange(100)\n",
    "y_pred = model.predict(X_test[subset])\n",
    "\n",
    "# Compute the accuracy of the model on the subset of the testing set\n",
    "acc = accuracy_score(y_test[subset], y_pred)\n",
    "print('Accuracy:', acc)\n"
   ]
  },
  {
   "cell_type": "markdown",
   "metadata": {},
   "source": [
    "In this example, we first split the data into training and testing sets. Then, we train a logistic regression model on the training data. Next, we use fancy indexing to extract the first 100 examples from the testing set, and we use the trained model to make predictions on this subset of the data. \n",
    "\n",
    "acc = accuracy_score(y_test[subset], y_pred)\n",
    "\n",
    "\n",
    "Finally, we evaluate the model's accuracy on this subset of the testing set using the accuracy_score function from scikit-learn."
   ]
  },
  {
   "cell_type": "markdown",
   "metadata": {
    "id": "n2UP2iZTLPR5"
   },
   "source": [
    "### Broadcasting\n",
    "\n",
    "The term broadcasting describes how NumPy treats arrays with different shapes during arithmetic operations.\n",
    "\n",
    "The smaller array is “broadcast” across the larger array so that they have compatible shapes.\n",
    "\n",
    "Broadcasting is a mechanism in NumPy that allows arithmetic operations to be performed on arrays with different shapes, without the need for the arrays to have the same shape.\n",
    "\n",
    "The rules of broadcasting are as follows:\n",
    "\n",
    "- If the arrays have different numbers of dimensions, the shape of the array with fewer dimensions is padded with ones on its left until it has the same number of dimensions as the other array.\n",
    "\n",
    "- If the arrays have the same number of dimensions, but their shapes are not the same in any dimension, the array with shape equal to 1 in that dimension is stretched or \"broadcast\" to match the shape of the other array in that dimension.\n",
    "\n",
    "- If the arrays have the same shape in a given dimension, or one of the arrays has size 1 in that dimension, the arrays are compatible in that dimension and can be broadcast together.\n",
    "\n",
    "- If the arrays cannot be broadcast together, the operation will fail with a ValueError."
   ]
  },
  {
   "cell_type": "code",
   "execution_count": null,
   "metadata": {
    "colab": {
     "base_uri": "https://localhost:8080/"
    },
    "id": "tJTrjKxoCYhT",
    "outputId": "efeae6e2-add6-4e95-e1d4-b71c806438f2"
   },
   "outputs": [
    {
     "name": "stdout",
     "output_type": "stream",
     "text": [
      "[[0 1 2]\n",
      " [3 4 5]]\n",
      "[[ 6  7  8]\n",
      " [ 9 10 11]]\n",
      "[[ 6  8 10]\n",
      " [12 14 16]]\n"
     ]
    }
   ],
   "source": [
    "# same shape\n",
    "a = np.arange(6).reshape(2,3)\n",
    "b = np.arange(6,12).reshape(2,3)\n",
    "\n",
    "print(a)\n",
    "print(b)\n",
    "\n",
    "print(a+b)"
   ]
  },
  {
   "cell_type": "code",
   "execution_count": 19,
   "metadata": {},
   "outputs": [
    {
     "name": "stdout",
     "output_type": "stream",
     "text": [
      "(3, 3)\n",
      "(3,)\n",
      "(3, 1)\n",
      "[[11 22 33]\n",
      " [14 25 36]\n",
      " [17 28 39]]\n",
      "[[ 2  3  4]\n",
      " [ 6  7  8]\n",
      " [10 11 12]]\n",
      "[[11 22 33]\n",
      " [14 25 36]\n",
      " [17 28 39]]\n",
      "[[ 2  3  4]\n",
      " [ 6  7  8]\n",
      " [10 11 12]]\n"
     ]
    }
   ],
   "source": [
    "a = np.array([[1, 2, 3], [4, 5, 6], [7, 8, 9]])\n",
    "b = np.array([10, 20, 30])\n",
    "c = np.array([[1], [2], [3]])\n",
    "\n",
    "print(a.shape)  # (3, 3)\n",
    "print(b.shape)  # (3,)\n",
    "print(c.shape)  # (3, 1)\n",
    "\n",
    "# Broadcasting rule 1: pad the shape of b with ones on the left to match a\n",
    "# b -> [10, 20, 30] -> [[10, 20, 30]]\n",
    "# a.shape = (3, 3), b.shape = (1, 3)\n",
    "# Resulting shapes are compatible, so b is broadcast along the first dimension\n",
    "print(a + b)\n",
    "\n",
    "# Broadcasting rule 2: stretch the shape of c to match a\n",
    "# c -> [[1], [2], [3]] -> [[1, 1, 1], [2, 2, 2], [3, 3, 3]]\n",
    "# a.shape = (3, 3), c.shape = (3, 1)\n",
    "# Resulting shapes are compatible, so c is broadcast along the second dimension\n",
    "print(a + c)\n",
    "\n",
    "# Broadcasting rule 3: the shapes of a and b are compatible\n",
    "# a.shape = (3, 3), b.shape = (3,)\n",
    "# The shapes are compatible in the second dimension, so b is broadcast along that dimension\n",
    "print(a + b)\n",
    "\n",
    "# Broadcasting rule 4: the shapes of a and c are not compatible\n",
    "# a.shape = (3, 3), c.shape = (3, 1)\n",
    "# The shapes are not compatible because they have different sizes in the second dimension\n",
    "# Broadcasting will fail with a ValueError\n",
    "print(a + c)\n"
   ]
  },
  {
   "cell_type": "code",
   "execution_count": null,
   "metadata": {
    "colab": {
     "base_uri": "https://localhost:8080/"
    },
    "id": "f-mVhFT-N3jF",
    "outputId": "dbd6e2bd-f05b-4113-f2e6-b31ded8873cf"
   },
   "outputs": [
    {
     "name": "stdout",
     "output_type": "stream",
     "text": [
      "[[0 1 2]\n",
      " [3 4 5]]\n",
      "[[0 1 2]]\n",
      "[[0 2 4]\n",
      " [3 5 7]]\n"
     ]
    }
   ],
   "source": [
    "# diff shape\n",
    "a = np.arange(6).reshape(2,3)\n",
    "b = np.arange(3).reshape(1,3)\n",
    "\n",
    "print(a)\n",
    "print(b)\n",
    "\n",
    "print(a+b)"
   ]
  },
  {
   "cell_type": "markdown",
   "metadata": {
    "id": "XXzDHsndO70t"
   },
   "source": [
    "#### Broadcasting Rules\n",
    "\n",
    "**1. Make the two arrays have the same number of dimensions.**<br>\n",
    "- If the numbers of dimensions of the two arrays are different, add new dimensions with size 1 to the head of the array with the smaller dimension.<br>"
   ]
  },
  {
   "cell_type": "markdown",
   "metadata": {
    "id": "M_ZI1gpEPdwi"
   },
   "source": [
    "**2. Make each dimension of the two arrays the same size.**<br>\n",
    "- If the sizes of each dimension of the two arrays do not match, dimensions with size 1 are stretched to the size of the other array.\n",
    "- If there is a dimension whose size is not 1 in either of the two arrays, it cannot be broadcasted, and an error is raised."
   ]
  },
  {
   "cell_type": "markdown",
   "metadata": {
    "id": "6YxVl8iZVLEh"
   },
   "source": [
    "<img src = \"https://jakevdp.github.io/PythonDataScienceHandbook/figures/02.05-broadcasting.png\">"
   ]
  },
  {
   "cell_type": "code",
   "execution_count": null,
   "metadata": {
    "colab": {
     "base_uri": "https://localhost:8080/"
    },
    "id": "0WKia_sDRaNm",
    "outputId": "20e7fd8a-f8f5-4650-f3ef-8d014e8e7c27"
   },
   "outputs": [
    {
     "name": "stdout",
     "output_type": "stream",
     "text": [
      "[[ 0  1  2]\n",
      " [ 3  4  5]\n",
      " [ 6  7  8]\n",
      " [ 9 10 11]]\n",
      "[0 1 2]\n",
      "[[ 0  2  4]\n",
      " [ 3  5  7]\n",
      " [ 6  8 10]\n",
      " [ 9 11 13]]\n"
     ]
    }
   ],
   "source": [
    "# More examples\n",
    "\n",
    "a = np.arange(12).reshape(4,3)\n",
    "b = np.arange(3)\n",
    "\n",
    "print(a)\n",
    "print(b)\n",
    "\n",
    "print(a+b)"
   ]
  },
  {
   "cell_type": "code",
   "execution_count": null,
   "metadata": {
    "colab": {
     "base_uri": "https://localhost:8080/",
     "height": 277
    },
    "id": "SqtTHUngRhss",
    "outputId": "37a5dc7b-75b7-4cb3-9348-26197ccdf97c"
   },
   "outputs": [
    {
     "name": "stdout",
     "output_type": "stream",
     "text": [
      "[[ 0  1  2  3]\n",
      " [ 4  5  6  7]\n",
      " [ 8  9 10 11]]\n",
      "[0 1 2]\n"
     ]
    },
    {
     "ename": "ValueError",
     "evalue": "ignored",
     "output_type": "error",
     "traceback": [
      "\u001b[0;31m---------------------------------------------------------------------------\u001b[0m",
      "\u001b[0;31mValueError\u001b[0m                                Traceback (most recent call last)",
      "\u001b[0;32m<ipython-input-104-fa6cbb589166>\u001b[0m in \u001b[0;36m<module>\u001b[0;34m\u001b[0m\n\u001b[1;32m      5\u001b[0m \u001b[0mprint\u001b[0m\u001b[0;34m(\u001b[0m\u001b[0mb\u001b[0m\u001b[0;34m)\u001b[0m\u001b[0;34m\u001b[0m\u001b[0;34m\u001b[0m\u001b[0m\n\u001b[1;32m      6\u001b[0m \u001b[0;34m\u001b[0m\u001b[0m\n\u001b[0;32m----> 7\u001b[0;31m \u001b[0mprint\u001b[0m\u001b[0;34m(\u001b[0m\u001b[0ma\u001b[0m\u001b[0;34m+\u001b[0m\u001b[0mb\u001b[0m\u001b[0;34m)\u001b[0m\u001b[0;34m\u001b[0m\u001b[0;34m\u001b[0m\u001b[0m\n\u001b[0m",
      "\u001b[0;31mValueError\u001b[0m: operands could not be broadcast together with shapes (3,4) (3,) "
     ]
    }
   ],
   "source": [
    "a = np.arange(12).reshape(3,4)\n",
    "b = np.arange(3)\n",
    "\n",
    "print(a)\n",
    "print(b)\n",
    "\n",
    "print(a+b)"
   ]
  },
  {
   "cell_type": "code",
   "execution_count": null,
   "metadata": {
    "colab": {
     "base_uri": "https://localhost:8080/"
    },
    "id": "5hQ269ncQedR",
    "outputId": "b6f1ed7f-95da-4e52-cb8e-a58f41a34add"
   },
   "outputs": [
    {
     "name": "stdout",
     "output_type": "stream",
     "text": [
      "[[0 1 2]]\n",
      "[[0]\n",
      " [1]\n",
      " [2]]\n",
      "[[0 1 2]\n",
      " [1 2 3]\n",
      " [2 3 4]]\n"
     ]
    }
   ],
   "source": [
    "a = np.arange(3).reshape(1,3)\n",
    "b = np.arange(3).reshape(3,1)\n",
    "\n",
    "print(a)\n",
    "print(b)\n",
    "\n",
    "print(a+b)"
   ]
  },
  {
   "cell_type": "code",
   "execution_count": null,
   "metadata": {
    "colab": {
     "base_uri": "https://localhost:8080/"
    },
    "id": "sc4X7IQVRujU",
    "outputId": "97a1aad8-1827-4038-ea8d-1d4516359d36"
   },
   "outputs": [
    {
     "name": "stdout",
     "output_type": "stream",
     "text": [
      "[[0 1 2]]\n",
      "[[0]\n",
      " [1]\n",
      " [2]\n",
      " [3]]\n",
      "[[0 1 2]\n",
      " [1 2 3]\n",
      " [2 3 4]\n",
      " [3 4 5]]\n"
     ]
    }
   ],
   "source": [
    "a = np.arange(3).reshape(1,3)\n",
    "b = np.arange(4).reshape(4,1)\n",
    "\n",
    "print(a)\n",
    "print(b)\n",
    "\n",
    "print(a + b)"
   ]
  },
  {
   "cell_type": "code",
   "execution_count": null,
   "metadata": {
    "colab": {
     "base_uri": "https://localhost:8080/"
    },
    "id": "v6EwwULkQuvs",
    "outputId": "48990123-6b83-414c-c42f-5f0b593a4967"
   },
   "outputs": [
    {
     "name": "stdout",
     "output_type": "stream",
     "text": [
      "[1]\n",
      "[[0 1]\n",
      " [2 3]]\n",
      "[[1 2]\n",
      " [3 4]]\n"
     ]
    }
   ],
   "source": [
    "a = np.array([1])\n",
    "# shape -> (1,1)\n",
    "b = np.arange(4).reshape(2,2)\n",
    "# shape -> (2,2)\n",
    "\n",
    "print(a)\n",
    "print(b)\n",
    "\n",
    "print(a+b)"
   ]
  },
  {
   "cell_type": "code",
   "execution_count": null,
   "metadata": {
    "colab": {
     "base_uri": "https://localhost:8080/",
     "height": 330
    },
    "id": "nEgUi7tnRGI4",
    "outputId": "8de08148-7f3e-4a03-823c-0c4e157a556e"
   },
   "outputs": [
    {
     "name": "stdout",
     "output_type": "stream",
     "text": [
      "[[ 0  1  2  3]\n",
      " [ 4  5  6  7]\n",
      " [ 8  9 10 11]]\n",
      "[[ 0  1  2]\n",
      " [ 3  4  5]\n",
      " [ 6  7  8]\n",
      " [ 9 10 11]]\n"
     ]
    },
    {
     "ename": "ValueError",
     "evalue": "ignored",
     "output_type": "error",
     "traceback": [
      "\u001b[0;31m---------------------------------------------------------------------------\u001b[0m",
      "\u001b[0;31mValueError\u001b[0m                                Traceback (most recent call last)",
      "\u001b[0;32m<ipython-input-109-c590a65467e5>\u001b[0m in \u001b[0;36m<module>\u001b[0;34m\u001b[0m\n\u001b[1;32m      5\u001b[0m \u001b[0mprint\u001b[0m\u001b[0;34m(\u001b[0m\u001b[0mb\u001b[0m\u001b[0;34m)\u001b[0m\u001b[0;34m\u001b[0m\u001b[0;34m\u001b[0m\u001b[0m\n\u001b[1;32m      6\u001b[0m \u001b[0;34m\u001b[0m\u001b[0m\n\u001b[0;32m----> 7\u001b[0;31m \u001b[0mprint\u001b[0m\u001b[0;34m(\u001b[0m\u001b[0ma\u001b[0m\u001b[0;34m+\u001b[0m\u001b[0mb\u001b[0m\u001b[0;34m)\u001b[0m\u001b[0;34m\u001b[0m\u001b[0;34m\u001b[0m\u001b[0m\n\u001b[0m",
      "\u001b[0;31mValueError\u001b[0m: operands could not be broadcast together with shapes (3,4) (4,3) "
     ]
    }
   ],
   "source": [
    "a = np.arange(12).reshape(3,4)\n",
    "b = np.arange(12).reshape(4,3)\n",
    "\n",
    "print(a)\n",
    "print(b)\n",
    "\n",
    "print(a+b)"
   ]
  },
  {
   "cell_type": "code",
   "execution_count": null,
   "metadata": {
    "colab": {
     "base_uri": "https://localhost:8080/",
     "height": 312
    },
    "id": "kelF0GRBR3--",
    "outputId": "233ef62e-b775-4f00-c61d-dd9131067183",
    "scrolled": true
   },
   "outputs": [
    {
     "name": "stdout",
     "output_type": "stream",
     "text": [
      "[[ 0  1  2  3]\n",
      " [ 4  5  6  7]\n",
      " [ 8  9 10 11]\n",
      " [12 13 14 15]]\n",
      "[[0 1]\n",
      " [2 3]]\n"
     ]
    },
    {
     "ename": "ValueError",
     "evalue": "ignored",
     "output_type": "error",
     "traceback": [
      "\u001b[0;31m---------------------------------------------------------------------------\u001b[0m",
      "\u001b[0;31mValueError\u001b[0m                                Traceback (most recent call last)",
      "\u001b[0;32m<ipython-input-110-57df50a0058a>\u001b[0m in \u001b[0;36m<module>\u001b[0;34m\u001b[0m\n\u001b[1;32m      5\u001b[0m \u001b[0mprint\u001b[0m\u001b[0;34m(\u001b[0m\u001b[0mb\u001b[0m\u001b[0;34m)\u001b[0m\u001b[0;34m\u001b[0m\u001b[0;34m\u001b[0m\u001b[0m\n\u001b[1;32m      6\u001b[0m \u001b[0;34m\u001b[0m\u001b[0m\n\u001b[0;32m----> 7\u001b[0;31m \u001b[0mprint\u001b[0m\u001b[0;34m(\u001b[0m\u001b[0ma\u001b[0m\u001b[0;34m+\u001b[0m\u001b[0mb\u001b[0m\u001b[0;34m)\u001b[0m\u001b[0;34m\u001b[0m\u001b[0;34m\u001b[0m\u001b[0m\n\u001b[0m",
      "\u001b[0;31mValueError\u001b[0m: operands could not be broadcast together with shapes (4,4) (2,2) "
     ]
    }
   ],
   "source": [
    "a = np.arange(16).reshape(4,4)\n",
    "b = np.arange(4).reshape(2,2)\n",
    "\n",
    "print(a)\n",
    "print(b)\n",
    "\n",
    "print(a+b)"
   ]
  },
  {
   "cell_type": "markdown",
   "metadata": {},
   "source": [
    "# Where is boardcasting used in Vectorization"
   ]
  },
  {
   "cell_type": "markdown",
   "metadata": {},
   "source": [
    "Numpy uses broadcasting in vectorization by automatically expanding arrays to perform element-wise operations without the need for explicit loops.\n",
    "\n",
    "When arrays with different shapes are used in arithmetic operations, Numpy automatically broadcasts the arrays to have compatible shapes, as per the rules of broadcasting. This allows for vectorization, which is faster and more efficient than explicit loops.\n",
    "\n",
    "For example, suppose we have two arrays a and b with shapes (3, 4) and (1, 4) respectively. We can perform element-wise addition between them by using the following code:"
   ]
  },
  {
   "cell_type": "code",
   "execution_count": 20,
   "metadata": {},
   "outputs": [],
   "source": [
    "a = np.arange(12).reshape(3,4)\n",
    "b = np.array([1, 2, 3, 4])\n",
    "c = a + b\n",
    "\n"
   ]
  },
  {
   "cell_type": "markdown",
   "metadata": {},
   "source": [
    "In this example, Numpy broadcasts the array b by replicating it along the first dimension to create an array with shape (3, 4), which is compatible with the shape of array a. Then, element-wise addition is performed between the two arrays.\n",
    "\n",
    "By using broadcasting and vectorization, we can avoid writing explicit loops in our code, which can result in faster and more concise code."
   ]
  },
  {
   "cell_type": "markdown",
   "metadata": {},
   "source": [
    "Without broadcasting, we would have to use explicit loops to perform element-wise operations between arrays with different shapes.\n",
    "\n",
    "For example, to perform element-wise addition between an array a with shape (3, 4) and a row vector b with shape (1, 4), we would have to use a loop to add each element of b to the corresponding row of a. This can be done using the following code:\n"
   ]
  },
  {
   "cell_type": "code",
   "execution_count": 21,
   "metadata": {},
   "outputs": [],
   "source": [
    "a = np.arange(12).reshape(3,4)\n",
    "b = np.array([1, 2, 3, 4]).reshape(1, 4)\n",
    "\n",
    "c = np.empty_like(a)\n",
    "for i in range(a.shape[0]):\n",
    "    c[i, :] = a[i, :] + b\n"
   ]
  },
  {
   "cell_type": "markdown",
   "metadata": {},
   "source": [
    "This code creates an empty array c with the same shape as a, and then loops over each row of a, adding the row vector b to it and storing the result in the corresponding row of c.\n",
    "\n",
    "As we can see, using explicit loops can be cumbersome and less efficient than using broadcasting and vectorization, especially for large arrays."
   ]
  },
  {
   "cell_type": "markdown",
   "metadata": {},
   "source": [
    "# Usage in Machine Learning"
   ]
  },
  {
   "cell_type": "markdown",
   "metadata": {},
   "source": [
    "Broadcasting is particularly useful in machine learning, where it can be used to perform operations on large datasets efficiently."
   ]
  },
  {
   "cell_type": "markdown",
   "metadata": {},
   "source": [
    "### Scaling data"
   ]
  },
  {
   "cell_type": "markdown",
   "metadata": {},
   "source": [
    "In machine learning, it is often necessary to scale data before feeding it into a learning algorithm. This is done to ensure that all features have equal importance and to make the learning process more efficient. Broadcasting can be used to efficiently scale data in NumPy arrays.\n",
    "\n",
    "Suppose you have a dataset X consisting of n samples and m features. Each feature has a different scale, so you want to scale each feature to have zero mean and unit variance. To do this using broadcasting, you can calculate the mean and standard deviation of each feature and then subtract the mean and divide by the standard deviation, like this:"
   ]
  },
  {
   "cell_type": "code",
   "execution_count": 23,
   "metadata": {},
   "outputs": [],
   "source": [
    "import numpy as np\n",
    "\n",
    "n = 100\n",
    "m = 10\n",
    "\n",
    "# create a dataset with shape (n, m)\n",
    "X = np.random.rand(n, m)\n",
    "\n",
    "# calculate the mean and standard deviation of each feature\n",
    "mean = np.mean(X, axis=0)\n",
    "std = np.std(X, axis=0)\n",
    "\n",
    "# broadcast the mean and standard deviation to match the shape of X\n",
    "mean_broadcasted = np.broadcast_to(mean, X.shape)\n",
    "std_broadcasted = np.broadcast_to(std, X.shape)\n",
    "\n",
    "# scale the data\n",
    "X_scaled = (X - mean_broadcasted) / std_broadcasted\n"
   ]
  },
  {
   "cell_type": "markdown",
   "metadata": {},
   "source": [
    "In this example, the mean and std arrays are broadcasted to match the shape of the X array, allowing for element-wise subtraction and division. This is more efficient than creating a new array for each feature and looping over the data.\n",
    "\n",
    "Broadcasting can also be used to scale data using different scaling factors for different features, for example, when using the min-max scaling method. In this case, you would calculate the scaling factors for each feature and then broadcast them to the shape of the X array, before applying the scaling operation.\n",
    "\n",
    "An an easier way to scale data in NumPy arrays in machine learning is using the sklearn.preprocessing module from scikit-learn. The StandardScaler class from this module provides a convenient way to scale data to have zero mean and unit variance, which is a common preprocessing step in many machine learning models. Here's an example of how to use StandardScaler to scale the data:"
   ]
  },
  {
   "cell_type": "code",
   "execution_count": 24,
   "metadata": {},
   "outputs": [],
   "source": [
    "from sklearn.preprocessing import StandardScaler\n",
    "\n",
    "# create a dataset with shape (n, m)\n",
    "X = np.random.rand(n, m)\n",
    "\n",
    "# create a StandardScaler object\n",
    "scaler = StandardScaler()\n",
    "\n",
    "# fit the scaler to the data and transform the data\n",
    "X_scaled = scaler.fit_transform(X)\n"
   ]
  },
  {
   "cell_type": "markdown",
   "metadata": {},
   "source": [
    "The StandardScaler object is first fitted to the data using the fit() method, which calculates the mean and standard deviation of each feature. Then, the transform() method is called to apply the scaling operation using the calculated mean and standard deviation.\n",
    "\n",
    "Using the StandardScaler class is simpler and more convenient than manually broadcasting and scaling the data using NumPy. Additionally, scikit-learn provides many other preprocessing techniques for scaling, normalizing, and transforming data, which can be easily applied to NumPy arrays using similar syntax."
   ]
  },
  {
   "cell_type": "markdown",
   "metadata": {},
   "source": [
    "### Element-wise operations:"
   ]
  },
  {
   "cell_type": "markdown",
   "metadata": {},
   "source": [
    "Broadcasting can be used to perform element-wise operations between arrays of different shapes. For example, if you have a dataset with n samples and m features, you can <b> calculate the squared Euclidean distance between each pair of samples using broadcasting.</b> This can be accomplished using the following code:"
   ]
  },
  {
   "cell_type": "code",
   "execution_count": 25,
   "metadata": {},
   "outputs": [],
   "source": [
    "import numpy as np\n",
    "\n",
    "X = np.random.rand(n, m) # create dataset\n",
    "dists = np.sum((X[:, np.newaxis, :] - X[np.newaxis, :, :]) ** 2, axis=2) # calculate squared Euclidean distances using broadcasting\n"
   ]
  },
  {
   "cell_type": "markdown",
   "metadata": {},
   "source": [
    "Broadcasting is used to efficiently calculate the squared Euclidean distances between each pair of points in a dataset X.\n",
    "\n",
    "The dataset X is a NumPy array of shape (n, m), where n is the number of samples and m is the number of features. To calculate the squared Euclidean distances between each pair of points, we need to subtract the feature vectors of each pair of points, square the differences, and sum them up.\n",
    "\n",
    "We can accomplish this using broadcasting to efficiently subtract the feature vectors of each pair of points. Specifically, we create two new arrays X[:, np.newaxis, :] and X[np.newaxis, :, :], which have shapes (n, 1, m) and (1, n, m), respectively. These arrays are broadcasted to have shapes (n, n, m), allowing us to subtract the feature vectors of each pair of points efficiently.\n",
    "\n",
    "Then, we square the differences and sum them up along the last axis (axis=2) to obtain an array of shape (n, n) containing the squared Euclidean distances between each pair of points.\n",
    "\n",
    "Overall, broadcasting is used to efficiently perform element-wise operations between the two arrays with different shapes, allowing us to calculate the squared Euclidean distances between each pair of points in a computationally efficient way."
   ]
  },
  {
   "cell_type": "markdown",
   "metadata": {},
   "source": [
    "### Neural network computations:"
   ]
  },
  {
   "cell_type": "markdown",
   "metadata": {},
   "source": [
    "Broadcasting is an essential tool in deep learning for performing operations between tensors of different shapes. For example, when computing the output of a layer in a neural network, you may need to perform a matrix multiplication between a batch of input data (represented as a matrix of shape (batch_size, input_dim)) and a weight matrix (represented as a matrix of shape (input_dim, output_dim)). Broadcasting can be used to perform this operation efficiently across the entire batch of input data."
   ]
  },
  {
   "cell_type": "markdown",
   "metadata": {},
   "source": [
    "Let's say we have a batch of 100 samples, where each sample is a 784-dimensional vector (i.e., the input_dim is 784), and we want to apply a fully connected layer with 512 units (i.e., the output_dim is 512) to each sample. This layer can be represented as a weight matrix of shape (784, 512), where each row corresponds to a single input feature and each column corresponds to a single output unit.\n",
    "\n",
    "To compute the output of this layer for the entire batch of input data efficiently using broadcasting, we can use the following code:\n"
   ]
  },
  {
   "cell_type": "code",
   "execution_count": 26,
   "metadata": {},
   "outputs": [],
   "source": [
    "import numpy as np\n",
    "\n",
    "# create a batch of 100 samples, each with 784 features\n",
    "input_data = np.random.rand(100, 784)\n",
    "\n",
    "# create a weight matrix of shape (784, 512)\n",
    "weight_matrix = np.random.rand(784, 512)\n",
    "\n",
    "# compute the output of the layer for the entire batch of input data using broadcasting\n",
    "output_data = np.dot(input_data, weight_matrix)\n"
   ]
  },
  {
   "cell_type": "markdown",
   "metadata": {},
   "source": [
    "In this example, broadcasting is used to perform a matrix multiplication between the input data matrix of shape (100, 784) and the weight matrix of shape (784, 512). The resulting output matrix has shape (100, 512), where each row corresponds to a single sample in the batch, and each column corresponds to a single output unit.\n",
    "\n",
    "<b>Note that broadcasting is used implicitly in the np.dot() function to perform the matrix multiplication efficiently </b> across the entire batch of input data. Specifically, the input data matrix is broadcasted to have shape (100, 784, 1), and the weight matrix is broadcasted to have shape (1, 784, 512), allowing for efficient element-wise multiplication and summation across the last two dimensions of the broadcasted matrices."
   ]
  },
  {
   "cell_type": "markdown",
   "metadata": {
    "id": "UNqpEw03LSl6"
   },
   "source": [
    "### Working with mathematical formulas"
   ]
  },
  {
   "cell_type": "code",
   "execution_count": null,
   "metadata": {
    "colab": {
     "base_uri": "https://localhost:8080/"
    },
    "id": "U01nMTh-N-h_",
    "outputId": "f78780bf-cea2-4234-f03f-38df6c36f812"
   },
   "outputs": [
    {
     "data": {
      "text/plain": [
       "array([ 0.        ,  0.84147098,  0.90929743,  0.14112001, -0.7568025 ,\n",
       "       -0.95892427, -0.2794155 ,  0.6569866 ,  0.98935825,  0.41211849])"
      ]
     },
     "execution_count": 114,
     "metadata": {},
     "output_type": "execute_result"
    }
   ],
   "source": [
    "a = np.arange(10)\n",
    "np.sin(a)"
   ]
  },
  {
   "cell_type": "code",
   "execution_count": 29,
   "metadata": {
    "colab": {
     "base_uri": "https://localhost:8080/"
    },
    "id": "Sf6T8s8VCZum",
    "outputId": "976e4793-59c8-4590-bc57-5c3df210c1c3"
   },
   "outputs": [
    {
     "data": {
      "text/plain": [
       "array([0.5       , 0.73105858, 0.88079708, 0.95257413, 0.98201379,\n",
       "       0.99330715, 0.99752738, 0.99908895, 0.99966465, 0.99987661,\n",
       "       0.9999546 , 0.9999833 , 0.99999386, 0.99999774, 0.99999917,\n",
       "       0.99999969, 0.99999989, 0.99999996, 0.99999998, 0.99999999,\n",
       "       1.        , 1.        , 1.        , 1.        , 1.        ,\n",
       "       1.        , 1.        , 1.        , 1.        , 1.        ,\n",
       "       1.        , 1.        , 1.        , 1.        , 1.        ,\n",
       "       1.        , 1.        , 1.        , 1.        , 1.        ,\n",
       "       1.        , 1.        , 1.        , 1.        , 1.        ,\n",
       "       1.        , 1.        , 1.        , 1.        , 1.        ,\n",
       "       1.        , 1.        , 1.        , 1.        , 1.        ,\n",
       "       1.        , 1.        , 1.        , 1.        , 1.        ,\n",
       "       1.        , 1.        , 1.        , 1.        , 1.        ,\n",
       "       1.        , 1.        , 1.        , 1.        , 1.        ,\n",
       "       1.        , 1.        , 1.        , 1.        , 1.        ,\n",
       "       1.        , 1.        , 1.        , 1.        , 1.        ,\n",
       "       1.        , 1.        , 1.        , 1.        , 1.        ,\n",
       "       1.        , 1.        , 1.        , 1.        , 1.        ,\n",
       "       1.        , 1.        , 1.        , 1.        , 1.        ,\n",
       "       1.        , 1.        , 1.        , 1.        , 1.        ])"
      ]
     },
     "execution_count": 29,
     "metadata": {},
     "output_type": "execute_result"
    }
   ],
   "source": [
    "# sigmoid activation function :) We would cover around 2 hrs learning this in a subsequent class :)\n",
    "def sigmoid(array):\n",
    "  return 1/(1 + np.exp(-(array)))\n",
    "\n",
    "\n",
    "a = np.arange(100)\n",
    "\n",
    "sigmoid(a)"
   ]
  },
  {
   "cell_type": "markdown",
   "metadata": {},
   "source": [
    "The sigmoid function is a common activation function used in machine learning. It is a non-linear function that maps any input value to a value between 0 and 1, making it useful for binary classification problems where the output is a probability score that indicates the likelihood of a sample belonging to one class or the other.\n",
    "\n",
    "The grand idea behind using sigmoid in machine learning is that it allows us to introduce non-linearity into a model. Without non-linear activation functions, a neural network would be a linear model, which would limit its ability to model complex relationships between inputs and outputs. Non-linear activation functions like sigmoid allow a neural network to learn complex, non-linear relationships between inputs and outputs, making it capable of handling more complex tasks such as image and speech recognition, natural language processing, and other applications in which the input data is highly complex and non-linear.\n",
    "\n",
    "Moreover, the sigmoid function is differentiable, which makes it useful for backpropagation, a popular training algorithm for deep neural networks. The backpropagation algorithm uses the gradients of the loss function with respect to the parameters of the model to update the model parameters, allowing the model to learn from the data and improve its predictions over time."
   ]
  },
  {
   "cell_type": "code",
   "execution_count": 31,
   "metadata": {
    "id": "3jaule_JOcdc"
   },
   "outputs": [],
   "source": [
    "# mean squared error\n",
    "\n",
    "actual = np.random.randint(1,50,25)\n",
    "predicted = np.random.randint(1,50,25)"
   ]
  },
  {
   "cell_type": "code",
   "execution_count": 32,
   "metadata": {},
   "outputs": [
    {
     "data": {
      "text/plain": [
       "array([26, 12, 20, 30, 47, 17, 33, 10, 27, 16,  8, 28,  2, 10, 48,  7,  1,\n",
       "       41, 32, 46, 15, 20, 35, 22,  3])"
      ]
     },
     "execution_count": 32,
     "metadata": {},
     "output_type": "execute_result"
    }
   ],
   "source": [
    "actual"
   ]
  },
  {
   "cell_type": "code",
   "execution_count": 33,
   "metadata": {},
   "outputs": [
    {
     "data": {
      "text/plain": [
       "array([31, 18, 33,  3,  6, 45, 13, 21,  3, 48,  1,  1, 16, 39,  9, 21, 42,\n",
       "        5, 29, 27, 32, 37, 30, 34, 38])"
      ]
     },
     "execution_count": 33,
     "metadata": {},
     "output_type": "execute_result"
    }
   ],
   "source": [
    "predicted"
   ]
  },
  {
   "cell_type": "code",
   "execution_count": 34,
   "metadata": {
    "colab": {
     "base_uri": "https://localhost:8080/"
    },
    "id": "qfoOOAAUQzhY",
    "outputId": "25d8bc85-fc80-49ef-9e75-196a5a0ff0c5"
   },
   "outputs": [
    {
     "data": {
      "text/plain": [
       "575.84"
      ]
     },
     "execution_count": 34,
     "metadata": {},
     "output_type": "execute_result"
    }
   ],
   "source": [
    "def mse(actual,predicted):\n",
    "  return np.mean((actual - predicted)**2)\n",
    "\n",
    "mse(actual,predicted)"
   ]
  },
  {
   "cell_type": "markdown",
   "metadata": {},
   "source": [
    "Mean squared error (MSE) is a commonly used metric for measuring the performance of a regression model. It is calculated by taking the average of the squared differences between the predicted and actual values for each data point in the dataset.\n",
    "\n",
    "The formula for MSE is:\n",
    "\n",
    "MSE = 1/n * ∑(yᵢ - ȳ)²\n",
    "\n",
    "where n is the number of data points, yᵢ is the predicted value for the ith data point, and ȳ is the actual value for the ith data point.\n",
    "\n",
    "Intuitively, the MSE measures the average squared distance between the predicted and actual values. A smaller MSE indicates that the predictions are closer to the actual values, while a larger MSE indicates that the predictions are farther away from the actual values.\n",
    "\n",
    "The MSE is often used as a loss function in machine learning algorithms, such as linear regression, where the goal is to minimize the distance between the predicted and actual values. It is a differentiable function that allows for gradient-based optimization methods to be used during training."
   ]
  },
  {
   "cell_type": "code",
   "execution_count": 35,
   "metadata": {
    "colab": {
     "base_uri": "https://localhost:8080/"
    },
    "id": "3O6WqXi-OdIO",
    "outputId": "5f32815f-893e-4654-9285-6ef9af6def5f"
   },
   "outputs": [
    {
     "name": "stdout",
     "output_type": "stream",
     "text": [
      "Binary cross-entropy: 16.578612669557128\n"
     ]
    }
   ],
   "source": [
    "# binary cross entropy\n",
    "import numpy as np\n",
    "\n",
    "# generate actual and predicted labels\n",
    "actual = np.random.randint(1, 50, size=25)\n",
    "predicted = np.random.randint(1, 50, size=25)\n",
    "\n",
    "# convert to binary labels using a threshold value\n",
    "threshold = np.mean(actual)\n",
    "actual_binary = np.where(actual >= threshold, 1, 0)\n",
    "predicted_binary = np.where(predicted >= threshold, 1, 0)\n",
    "\n",
    "# compute binary cross-entropy\n",
    "eps = 1e-15  # add a small value to prevent taking the log of zero\n",
    "bce = -1/25 * np.sum(actual_binary * np.log(predicted_binary + eps) + (1 - actual_binary) * np.log(1 - predicted_binary + eps))\n",
    "\n",
    "print(\"Binary cross-entropy:\", bce)\n"
   ]
  },
  {
   "cell_type": "markdown",
   "metadata": {},
   "source": [
    "Binary cross-entropy is a commonly used loss function in machine learning for binary classification problems. It measures the difference between the predicted and actual probability distributions of a binary classification problem.\n",
    "\n",
    "The formula for binary cross-entropy is:\n",
    "\n",
    "-1/N * ∑(y*log(p) + (1-y)*log(1-p))\n",
    "\n",
    "where N is the number of data points, y is the true binary label (either 0 or 1), and p is the predicted probability of the positive class.\n",
    "\n",
    "Intuitively, binary cross-entropy measures the average amount of surprise or \"information gain\" that results from the predicted probabilities being different from the true probabilities. It is a useful loss function because it penalizes incorrect predictions more heavily than correct predictions, and it is differentiable, which allows for gradient-based optimization methods to be used during training.\n",
    "\n",
    "Binary cross-entropy is commonly used as the loss function in logistic regression models and binary classification neural networks. The goal during training is to minimize the binary cross-entropy, which corresponds to maximizing the model's ability to correctly classify examples."
   ]
  },
  {
   "cell_type": "code",
   "execution_count": null,
   "metadata": {
    "colab": {
     "base_uri": "https://localhost:8080/"
    },
    "id": "plXemGIXQfmR",
    "outputId": "de7b1bb0-b763-49ca-8b99-94d248f2a54d"
   },
   "outputs": [
    {
     "data": {
      "text/plain": [
       "array([ 5,  3,  9,  7,  3, 36, 49, 28, 20, 40,  2, 23, 29, 18, 30, 23,  7,\n",
       "       40, 15, 11, 27, 44, 32, 28, 10])"
      ]
     },
     "execution_count": 119,
     "metadata": {},
     "output_type": "execute_result"
    }
   ],
   "source": [
    "actual"
   ]
  },
  {
   "cell_type": "markdown",
   "metadata": {
    "id": "d9olU9IoLX8P"
   },
   "source": [
    "### Working with missing values"
   ]
  },
  {
   "cell_type": "code",
   "execution_count": null,
   "metadata": {
    "colab": {
     "base_uri": "https://localhost:8080/"
    },
    "id": "LhrsmaIfChjL",
    "outputId": "7e2c55af-6e86-4dfb-adbb-1f6a0d62099e"
   },
   "outputs": [
    {
     "data": {
      "text/plain": [
       "array([ 1.,  2.,  3.,  4., nan,  6.])"
      ]
     },
     "execution_count": 126,
     "metadata": {},
     "output_type": "execute_result"
    }
   ],
   "source": [
    "# Working with missing values -> np.nan\n",
    "a = np.array([1,2,3,4,np.nan,6])\n",
    "a"
   ]
  },
  {
   "cell_type": "code",
   "execution_count": null,
   "metadata": {
    "colab": {
     "base_uri": "https://localhost:8080/"
    },
    "id": "dYI5z7g6S_TI",
    "outputId": "2238d623-f056-497c-844a-e38bd204821f"
   },
   "outputs": [
    {
     "data": {
      "text/plain": [
       "array([1., 2., 3., 4., 6.])"
      ]
     },
     "execution_count": 130,
     "metadata": {},
     "output_type": "execute_result"
    }
   ],
   "source": [
    "a[~np.isnan(a)]"
   ]
  },
  {
   "cell_type": "markdown",
   "metadata": {},
   "source": [
    "The NumPy code a[~np.isnan(a)] can be broken down as follows:\n",
    "\n",
    "- np.isnan(a) returns a Boolean array of the same shape as a, where each element is True if the corresponding element in a is NaN (not a number), and False otherwise.\n",
    "\n",
    "- The ~ (tilde) operator inverts this Boolean array, so that True becomes False, and False becomes True. This creates a new Boolean array where each element is True if the corresponding element in a is not NaN, and False otherwise.\n",
    "\n",
    "- This Boolean array is then used to index into a using square brackets. This returns a new array that contains only the elements of a that are not NaN.\n",
    "\n",
    "So, the overall effect of a[~np.isnan(a)] is to remove any NaN values from the array a. The resulting array contains only the non-NaN elements of a."
   ]
  },
  {
   "cell_type": "markdown",
   "metadata": {
    "id": "LdVWeHyeLdw5"
   },
   "source": [
    "### Plotting Graphs"
   ]
  },
  {
   "cell_type": "markdown",
   "metadata": {},
   "source": [
    "You can plot any graph using numpy. Could be the most difficult graph using numpy :)"
   ]
  },
  {
   "cell_type": "markdown",
   "metadata": {},
   "source": [
    "https://www.desmos.com/calculator"
   ]
  },
  {
   "cell_type": "code",
   "execution_count": 37,
   "metadata": {},
   "outputs": [],
   "source": [
    "%matplotlib inline"
   ]
  },
  {
   "cell_type": "code",
   "execution_count": null,
   "metadata": {
    "colab": {
     "base_uri": "https://localhost:8080/",
     "height": 283
    },
    "id": "2XjXkt9JCm9q",
    "outputId": "3cf8071a-7fc5-48be-ece4-2b7896fd8a63"
   },
   "outputs": [
    {
     "data": {
      "text/plain": [
       "[<matplotlib.lines.Line2D at 0x7f6f78e18f70>]"
      ]
     },
     "execution_count": 134,
     "metadata": {},
     "output_type": "execute_result"
    },
    {
     "data": {
      "image/png": "[encoded data removed]",
      "text/plain": [
       "<Figure size 432x288 with 1 Axes>"
      ]
     },
     "metadata": {
      "needs_background": "light"
     },
     "output_type": "display_data"
    }
   ],
   "source": [
    "# plotting a 2D plot\n",
    "# x = y\n",
    "import matplotlib.pyplot as plt\n",
    "\n",
    "x = np.linspace(-10,10,100)\n",
    "y = x\n",
    "\n",
    "plt.plot(x,y)"
   ]
  },
  {
   "cell_type": "code",
   "execution_count": null,
   "metadata": {
    "colab": {
     "base_uri": "https://localhost:8080/",
     "height": 283
    },
    "id": "SyYCKM--V7Uw",
    "outputId": "ef8c3245-56e0-4210-e4d3-4f4f784f39ab"
   },
   "outputs": [
    {
     "data": {
      "text/plain": [
       "[<matplotlib.lines.Line2D at 0x7f6f87acf100>]"
      ]
     },
     "execution_count": 135,
     "metadata": {},
     "output_type": "execute_result"
    },
    {
     "data": {
      "image/png": "[encoded data removed]",
      "text/plain": [
       "<Figure size 432x288 with 1 Axes>"
      ]
     },
     "metadata": {
      "needs_background": "light"
     },
     "output_type": "display_data"
    }
   ],
   "source": [
    "# y = x^2\n",
    "x = np.linspace(-10,10,100)\n",
    "y = x**2\n",
    "\n",
    "plt.plot(x,y)"
   ]
  },
  {
   "cell_type": "code",
   "execution_count": null,
   "metadata": {
    "colab": {
     "base_uri": "https://localhost:8080/",
     "height": 283
    },
    "id": "lG-QRoWdWHxp",
    "outputId": "11b66200-e2f0-4d23-8b42-02b9d8573e4a"
   },
   "outputs": [
    {
     "data": {
      "text/plain": [
       "[<matplotlib.lines.Line2D at 0x7f6f5d1d0100>]"
      ]
     },
     "execution_count": 136,
     "metadata": {},
     "output_type": "execute_result"
    },
    {
     "data": {
      "image/png": "[encoded data removed]",
      "text/plain": [
       "<Figure size 432x288 with 1 Axes>"
      ]
     },
     "metadata": {
      "needs_background": "light"
     },
     "output_type": "display_data"
    }
   ],
   "source": [
    "# y = sin(x)\n",
    "x = np.linspace(-10,10,100)\n",
    "y = np.sin(x)\n",
    "\n",
    "plt.plot(x,y)"
   ]
  },
  {
   "cell_type": "code",
   "execution_count": null,
   "metadata": {
    "colab": {
     "base_uri": "https://localhost:8080/",
     "height": 319
    },
    "id": "EpuzrF8YWUqD",
    "outputId": "3e61f24d-a9f9-4d28-a303-3ff9390899cb",
    "scrolled": true
   },
   "outputs": [
    {
     "name": "stderr",
     "output_type": "stream",
     "text": [
      "<ipython-input-137-4b3958c08378>:3: RuntimeWarning: invalid value encountered in log\n",
      "  y = x * np.log(x)\n"
     ]
    },
    {
     "data": {
      "text/plain": [
       "[<matplotlib.lines.Line2D at 0x7f6f57ab62e0>]"
      ]
     },
     "execution_count": 137,
     "metadata": {},
     "output_type": "execute_result"
    },
    {
     "data": {
      "image/png": "[encoded data removed]",
      "text/plain": [
       "<Figure size 432x288 with 1 Axes>"
      ]
     },
     "metadata": {
      "needs_background": "light"
     },
     "output_type": "display_data"
    }
   ],
   "source": [
    "# y = xlog(x)\n",
    "x = np.linspace(-10,10,100)\n",
    "y = x * np.log(x)\n",
    "\n",
    "plt.plot(x,y)"
   ]
  },
  {
   "cell_type": "markdown",
   "metadata": {},
   "source": [
    "The error message RuntimeWarning: invalid value encountered in log occurs because you are trying to take the natural logarithm of a value that is less than or equal to zero. The natural logarithm function np.log() is undefined for non-positive values, so it returns NaN (not a number) for these values.\n",
    "\n",
    "To fix this error, you need to ensure that all values of x are greater than zero before computing y = x * np.log(x). Here's an example of how you can do this:"
   ]
  },
  {
   "cell_type": "code",
   "execution_count": 38,
   "metadata": {},
   "outputs": [
    {
     "data": {
      "image/png": "[encoded data removed]",
      "text/plain": [
       "<Figure size 432x288 with 1 Axes>"
      ]
     },
     "metadata": {
      "needs_background": "light"
     },
     "output_type": "display_data"
    }
   ],
   "source": [
    "import numpy as np\n",
    "import matplotlib.pyplot as plt\n",
    "\n",
    "# generate x values from -10 to 10\n",
    "x = np.linspace(-10, 10, 100)\n",
    "\n",
    "# set any negative or zero values of x to a very small positive value\n",
    "x[x <= 0] = 1e-10\n",
    "\n",
    "# compute y values\n",
    "y = x * np.log(x)\n",
    "\n",
    "# plot x and y values\n",
    "plt.plot(x, y)\n",
    "plt.show()\n"
   ]
  },
  {
   "cell_type": "code",
   "execution_count": null,
   "metadata": {
    "colab": {
     "base_uri": "https://localhost:8080/",
     "height": 283
    },
    "id": "LidUuDKVW5De",
    "outputId": "651766f0-8f17-4b64-d436-1aca8ad7ee73"
   },
   "outputs": [
    {
     "data": {
      "text/plain": [
       "[<matplotlib.lines.Line2D at 0x7f6f5401e100>]"
      ]
     },
     "execution_count": 138,
     "metadata": {},
     "output_type": "execute_result"
    },
    {
     "data": {
      "image/png": "[encoded data removed]",
      "text/plain": [
       "<Figure size 432x288 with 1 Axes>"
      ]
     },
     "metadata": {
      "needs_background": "light"
     },
     "output_type": "display_data"
    }
   ],
   "source": [
    "# sigmoid\n",
    "x = np.linspace(-10,10,100)\n",
    "y = 1/(1+np.exp(-x))\n",
    "\n",
    "plt.plot(x,y)"
   ]
  },
  {
   "cell_type": "code",
   "execution_count": null,
   "metadata": {
    "id": "QPEQuuof8xmJ"
   },
   "outputs": [],
   "source": []
  }
 ],
 "metadata": {
  "colab": {
   "provenance": []
  },
  "kernelspec": {
   "display_name": "Python 3",
   "language": "python",
   "name": "python3"
  },
  "language_info": {
   "codemirror_mode": {
    "name": "ipython",
    "version": 3
   },
   "file_extension": ".py",
   "mimetype": "text/x-python",
   "name": "python",
   "nbconvert_exporter": "python",
   "pygments_lexer": "ipython3",
   "version": "3.7.4"
  }
 },
 "nbformat": 4,
 "nbformat_minor": 1
}
